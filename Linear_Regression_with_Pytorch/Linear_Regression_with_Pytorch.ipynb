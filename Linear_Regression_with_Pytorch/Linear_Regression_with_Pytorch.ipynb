{
 "cells": [
  {
   "attachments": {},
   "cell_type": "markdown",
   "metadata": {},
   "source": [
    "<h1 align=\"center\"><font color=\"yellow\">Linear Regression with PyTorch</font></h1>"
   ]
  },
  {
   "attachments": {},
   "cell_type": "markdown",
   "metadata": {},
   "source": [
    "<font color=\"yellow\">Data Scientist.: PhD.Eddy Giusepe Chirinos Isidro</font>"
   ]
  },
  {
   "attachments": {},
   "cell_type": "markdown",
   "metadata": {},
   "source": [
    "Link de estudo:\n",
    "\n",
    "* [Pytorch Tutorial](https://www.youtube.com/@datahackerrs)"
   ]
  },
  {
   "cell_type": "code",
   "execution_count": 1,
   "metadata": {},
   "outputs": [],
   "source": [
    "import numpy as np\n",
    "import matplotlib.pyplot as plt\n",
    "import torch"
   ]
  },
  {
   "cell_type": "code",
   "execution_count": 2,
   "metadata": {},
   "outputs": [],
   "source": [
    "x_data = np.array([1, 2, 3, 4, 5])\n",
    "y_data = x_data * 2\n"
   ]
  },
  {
   "cell_type": "code",
   "execution_count": 3,
   "metadata": {},
   "outputs": [
    {
     "data": {
      "image/png": "[encoded data removed]",
      "text/plain": [
       "<Figure size 640x480 with 1 Axes>"
      ]
     },
     "metadata": {},
     "output_type": "display_data"
    }
   ],
   "source": [
    "plt.scatter(x_data, y_data)\n",
    "plt.show()"
   ]
  },
  {
   "attachments": {},
   "cell_type": "markdown",
   "metadata": {},
   "source": [
    "Criamos uma função de propagação direta a partir da seguinte fórmula: $y = mx + b~~$ ou $~~ \\hat{y} = x w + b$."
   ]
  },
  {
   "cell_type": "code",
   "execution_count": 4,
   "metadata": {},
   "outputs": [],
   "source": [
    "def forward(x, w, b=0):\n",
    "    y_hat = x*w + b\n",
    "    return y_hat\n"
   ]
  },
  {
   "attachments": {},
   "cell_type": "markdown",
   "metadata": {},
   "source": [
    "Criamos uma função de Erro quadrático para o cálculo posterior do erro quadrático médio que é calculado como: $\\sum_{i=1}^{n}(\\hat{y}_i - y_i)^2$.\n"
   ]
  },
  {
   "cell_type": "code",
   "execution_count": 5,
   "metadata": {},
   "outputs": [],
   "source": [
    "def loss(y_hat, y):\n",
    "    return (y_hat - y)**2\n"
   ]
  },
  {
   "attachments": {},
   "cell_type": "markdown",
   "metadata": {},
   "source": [
    "Iteramos para `w` que vá de $0$ a $4$ com passo de $0.1$ e calcule a perda dependendo do $\\hat{y}$ que obtivemos fazendo a propagação para frente (`Forward propagation`). Guardamos todos os `losses` e `w` para plotagens posteriores."
   ]
  },
  {
   "cell_type": "code",
   "execution_count": 6,
   "metadata": {},
   "outputs": [],
   "source": [
    "all_w = []\n",
    "all_loss = []\n",
    "\n",
    "for w in np.arange(0, 4, 0.1):\n",
    "  l_sum = 0\n",
    "\n",
    "  for i in range(len(x_data)):\n",
    "    y_hat = forward(x_data[i], w)\n",
    "    l = loss(y_hat, y_data[i])\n",
    "\n",
    "    l_sum += l\n",
    "  \n",
    "  all_w.append(w)\n",
    "  all_loss.append(l_sum / len(y_data))\n",
    "  "
   ]
  },
  {
   "cell_type": "code",
   "execution_count": 7,
   "metadata": {},
   "outputs": [
    {
     "data": {
      "image/png": "[encoded data removed]",
      "text/plain": [
       "<Figure size 640x480 with 1 Axes>"
      ]
     },
     "metadata": {},
     "output_type": "display_data"
    }
   ],
   "source": [
    "plt.stem(all_w, all_loss)\n",
    "plt.show()\n"
   ]
  },
  {
   "attachments": {},
   "cell_type": "markdown",
   "metadata": {},
   "source": [
    "Criando tensores a partir dos dados que criamos e remodelando-os para serem `(-1, 1)`."
   ]
  },
  {
   "cell_type": "code",
   "execution_count": 8,
   "metadata": {},
   "outputs": [],
   "source": [
    "x_torch = torch.FloatTensor(x_data).reshape(-1, 1)\n",
    "\n",
    "y_torch = torch.FloatTensor(y_data).reshape(-1, 1)"
   ]
  },
  {
   "cell_type": "code",
   "execution_count": 9,
   "metadata": {},
   "outputs": [
    {
     "data": {
      "text/plain": [
       "tensor([[1.],\n",
       "        [2.],\n",
       "        [3.],\n",
       "        [4.],\n",
       "        [5.]])"
      ]
     },
     "execution_count": 9,
     "metadata": {},
     "output_type": "execute_result"
    }
   ],
   "source": [
    "x_torch"
   ]
  },
  {
   "cell_type": "code",
   "execution_count": 11,
   "metadata": {},
   "outputs": [
    {
     "data": {
      "text/plain": [
       "torch.Size([5, 1])"
      ]
     },
     "execution_count": 11,
     "metadata": {},
     "output_type": "execute_result"
    }
   ],
   "source": [
    "x_torch.shape"
   ]
  },
  {
   "cell_type": "code",
   "execution_count": 10,
   "metadata": {},
   "outputs": [
    {
     "data": {
      "text/plain": [
       "tensor([[ 2.],\n",
       "        [ 4.],\n",
       "        [ 6.],\n",
       "        [ 8.],\n",
       "        [10.]])"
      ]
     },
     "execution_count": 10,
     "metadata": {},
     "output_type": "execute_result"
    }
   ],
   "source": [
    "y_torch"
   ]
  },
  {
   "attachments": {},
   "cell_type": "markdown",
   "metadata": {},
   "source": [
    "Defina o peso, `w`, como `5` e o viés, `b`, como `3` e defina a opção `requires_grad` como sendo `True` para o cálculo do gradiente automático.\n"
   ]
  },
  {
   "cell_type": "code",
   "execution_count": 12,
   "metadata": {},
   "outputs": [],
   "source": [
    "w = torch.tensor(5., requires_grad=True)\n",
    "\n",
    "b = torch.tensor(3., requires_grad=True)\n"
   ]
  },
  {
   "attachments": {},
   "cell_type": "markdown",
   "metadata": {},
   "source": [
    "Defina a taxa de Aprendizado ou Alfa:"
   ]
  },
  {
   "cell_type": "code",
   "execution_count": 13,
   "metadata": {},
   "outputs": [],
   "source": [
    "lr = 0.05"
   ]
  },
  {
   "attachments": {},
   "cell_type": "markdown",
   "metadata": {},
   "source": [
    "Iteramos $1000$ vezes e fazemos a otimização para os parâmetros do modelo `w` e `b`. Este processo consiste em $5$ etapas:\n",
    "\n",
    "\n",
    "1. Faça a propagação direta (`Forward propagation`) `x_torch * w + b`\n",
    "\n",
    "2. Calcule o `MSE`\n",
    "\n",
    "3. Faça a retropropagação (`Backpropagation`) `.backward()` na Loss que foi calculada\n",
    "\n",
    "4. Atualize os parâmetros de `peso` e `viés`\n",
    "\n",
    "5. Zere os gradientes"
   ]
  },
  {
   "cell_type": "code",
   "execution_count": 14,
   "metadata": {},
   "outputs": [],
   "source": [
    "all_w = []\n",
    "all_loss = []\n",
    "\n",
    "for i in range(1000):\n",
    "  y_hat = x_torch * w + b\n",
    "\n",
    "  loss = torch.sum(torch.pow(y_torch - y_hat, 2) / len(y_torch))\n",
    "  loss.backward()\n",
    "  \n",
    "  all_w.append(w.item())\n",
    "  all_loss.append(loss.item())\n",
    "  with torch.no_grad():\n",
    "    w -= lr * w.grad  # w = w - lr * w.grad\n",
    "    b -= lr * b.grad\n",
    "\n",
    "    w.grad.zero_()\n",
    "    b.grad.zero_()\n",
    "\n",
    "    all_w.append(w)\n",
    "    all_loss.append(loss)\n",
    "    "
   ]
  },
  {
   "attachments": {},
   "cell_type": "markdown",
   "metadata": {},
   "source": [
    "<font color=\"orange\">Faça algumas predições em `x_torch` usando `w` e `b`.</font>"
   ]
  },
  {
   "cell_type": "code",
   "execution_count": 15,
   "metadata": {},
   "outputs": [],
   "source": [
    "y_pred = x_torch * w + b"
   ]
  },
  {
   "attachments": {},
   "cell_type": "markdown",
   "metadata": {},
   "source": [
    "<font color=\"orange\">Podemos ver que a predição é correta:</font>"
   ]
  },
  {
   "cell_type": "code",
   "execution_count": 16,
   "metadata": {},
   "outputs": [
    {
     "data": {
      "text/plain": [
       "tensor([[ 2.0000],\n",
       "        [ 4.0000],\n",
       "        [ 6.0000],\n",
       "        [ 8.0000],\n",
       "        [10.0000]], grad_fn=<AddBackward0>)"
      ]
     },
     "execution_count": 16,
     "metadata": {},
     "output_type": "execute_result"
    }
   ],
   "source": [
    "y_pred"
   ]
  },
  {
   "cell_type": "code",
   "execution_count": 17,
   "metadata": {},
   "outputs": [
    {
     "data": {
      "text/plain": [
       "array([ 2,  4,  6,  8, 10])"
      ]
     },
     "execution_count": 17,
     "metadata": {},
     "output_type": "execute_result"
    }
   ],
   "source": [
    "y_data"
   ]
  },
  {
   "attachments": {},
   "cell_type": "markdown",
   "metadata": {},
   "source": [
    "<font color=\"orange\">Traçamos os valores originais como pontos verdes e a previsão com uma linha azul:</font>"
   ]
  },
  {
   "cell_type": "code",
   "execution_count": 18,
   "metadata": {},
   "outputs": [
    {
     "data": {
      "image/png": "[encoded data removed]",
      "text/plain": [
       "<Figure size 640x480 with 1 Axes>"
      ]
     },
     "metadata": {},
     "output_type": "display_data"
    }
   ],
   "source": [
    "plt.plot(x_torch, y_torch, 'go')\n",
    "plt.plot(x_torch, y_pred.detach().numpy(), '--')\n",
    "plt.show()\n"
   ]
  },
  {
   "attachments": {},
   "cell_type": "markdown",
   "metadata": {},
   "source": [
    "<font color=\"orange\">Também podemos ver que o `peso` (weight) e o `viés` foram calculados corretamente:</font>"
   ]
  },
  {
   "cell_type": "code",
   "execution_count": 20,
   "metadata": {},
   "outputs": [
    {
     "data": {
      "text/plain": [
       "tensor(2.0000, requires_grad=True)"
      ]
     },
     "execution_count": 20,
     "metadata": {},
     "output_type": "execute_result"
    }
   ],
   "source": [
    "w"
   ]
  },
  {
   "cell_type": "code",
   "execution_count": 21,
   "metadata": {},
   "outputs": [
    {
     "data": {
      "text/plain": [
       "tensor(7.2257e-07, requires_grad=True)"
      ]
     },
     "execution_count": 21,
     "metadata": {},
     "output_type": "execute_result"
    }
   ],
   "source": [
    "b"
   ]
  },
  {
   "attachments": {},
   "cell_type": "markdown",
   "metadata": {},
   "source": [
    "<font color=\"orange\">Teste-o no número `3.5`, devemos obter `7 = x * 2 + 0`, onde `2` representa `w` ou peso e `0` representa o viés ou `b`.</font>"
   ]
  },
  {
   "cell_type": "code",
   "execution_count": 22,
   "metadata": {},
   "outputs": [],
   "source": [
    "x_test = torch.Tensor([3.5])"
   ]
  },
  {
   "cell_type": "code",
   "execution_count": 24,
   "metadata": {},
   "outputs": [
    {
     "data": {
      "text/plain": [
       "tensor([7.], grad_fn=<AddBackward0>)"
      ]
     },
     "execution_count": 24,
     "metadata": {},
     "output_type": "execute_result"
    }
   ],
   "source": [
    "x_test * w + b"
   ]
  },
  {
   "attachments": {},
   "cell_type": "markdown",
   "metadata": {},
   "source": [
    "# <font color=\"red\">Implementação completa com Pytorch</font>"
   ]
  },
  {
   "attachments": {},
   "cell_type": "markdown",
   "metadata": {},
   "source": [
    "<font color=\"orange\">Criamos um conjunto aleatório de números, `50` valores $x$ gerados aleatoriamente no intervalo de `[0, 10]`. Definindo `y = x * 3 - 4`.</font>"
   ]
  },
  {
   "cell_type": "code",
   "execution_count": 25,
   "metadata": {},
   "outputs": [],
   "source": [
    "x = np.random.rand(50)\n",
    "x = x * 10\n"
   ]
  },
  {
   "cell_type": "code",
   "execution_count": 26,
   "metadata": {},
   "outputs": [
    {
     "data": {
      "text/plain": [
       "array([0.16104752, 6.76623587, 8.86214773, 0.77113037, 0.14612034,\n",
       "       5.99587157, 2.89423233, 3.1079768 , 8.58430092, 8.87607643,\n",
       "       1.24102188, 8.67635897, 5.63626937, 6.55975185, 9.65188808,\n",
       "       4.85615767, 7.14598577, 2.68453571, 0.79503019, 5.10282763,\n",
       "       9.49205271, 4.49296586, 3.02567897, 3.95875084, 3.23444484,\n",
       "       8.40029729, 5.90214103, 4.32204013, 1.52388586, 3.50257787,\n",
       "       3.36437157, 8.94252533, 4.86516949, 3.63175748, 5.16271091,\n",
       "       4.85995059, 3.17759291, 4.30726055, 2.88076682, 4.64647016,\n",
       "       5.38171354, 3.63659971, 2.55041292, 6.48550533, 9.74075975,\n",
       "       7.32815894, 7.84302655, 4.01672957, 2.44841783, 3.65645735])"
      ]
     },
     "execution_count": 26,
     "metadata": {},
     "output_type": "execute_result"
    }
   ],
   "source": [
    "x"
   ]
  },
  {
   "cell_type": "code",
   "execution_count": 28,
   "metadata": {},
   "outputs": [],
   "source": [
    "y = x * 3 - 4\n",
    "y += np.random.randn(50) # randn --> Gera 50 valores aleatórios a partir de uma Distribuição Normal padrão (média 0 e desvio padrão igual a 1)\n"
   ]
  },
  {
   "cell_type": "code",
   "execution_count": 29,
   "metadata": {},
   "outputs": [
    {
     "data": {
      "text/plain": [
       "array([-4.58872551, 16.30376509, 21.78748438, -0.0999493 , -2.96752579,\n",
       "       14.64512416,  4.71685171,  3.91066679, 22.84997771, 23.43187534,\n",
       "        0.3595249 , 21.16867003, 11.96071762, 14.48319384, 24.90640437,\n",
       "       12.01674909, 18.85492324,  4.89043895, -1.44283694, 12.4271323 ,\n",
       "       22.45522032,  8.0465825 ,  4.86204669,  7.77388568,  5.52610585,\n",
       "       21.98733526, 13.27580757,  9.60707156,  1.20286418,  8.10658813,\n",
       "        5.43348487, 23.21390391, 11.5014061 ,  8.06018083, 11.43862122,\n",
       "       10.40931593,  5.01777367,  9.59192985,  5.79862446, 10.8456673 ,\n",
       "       12.64762044,  5.70564141,  1.81377157, 16.63417912, 26.25334377,\n",
       "       17.46840559, 17.85354208,  8.34347549,  2.22886348,  7.44295981])"
      ]
     },
     "execution_count": 29,
     "metadata": {},
     "output_type": "execute_result"
    }
   ],
   "source": [
    "y"
   ]
  },
  {
   "attachments": {},
   "cell_type": "markdown",
   "metadata": {},
   "source": [
    "Gere a classe `Linear Model` usando `torch.nn.Module`. Aqui criamos uma inicialização onde criamos uma `camada linear` que posteriormente utilizamos na `função forward`.\n"
   ]
  },
  {
   "cell_type": "code",
   "execution_count": 30,
   "metadata": {},
   "outputs": [],
   "source": [
    "class LinearModel(torch.nn.Module):\n",
    "    def __init__(self):\n",
    "        super(LinearModel, self).__init__()\n",
    "        self.linear = torch.nn.Linear(1, 1)\n",
    "\n",
    "    def forward(self, x):\n",
    "        return self.linear(x)\n",
    "    "
   ]
  },
  {
   "cell_type": "code",
   "execution_count": 31,
   "metadata": {},
   "outputs": [],
   "source": [
    "# x e y para Tensor:\n",
    "x_torch = torch.FloatTensor(x).reshape(-1, 1)\n",
    "y_torch = torch.FloatTensor(y).reshape(-1, 1)\n"
   ]
  },
  {
   "attachments": {},
   "cell_type": "markdown",
   "metadata": {},
   "source": [
    "<font color=\"orange\">Chame a `classe LinearModel` que criamos e crie uma `Função Loss` e também um `optimizer` que será utilizado para otimizar ou atualizar os `pesos`.</font>"
   ]
  },
  {
   "cell_type": "code",
   "execution_count": 32,
   "metadata": {},
   "outputs": [],
   "source": [
    "# Instanciando a minha classe:\n",
    "model = LinearModel()\n",
    "\n",
    "# Função Loss:\n",
    "criterion = torch.nn.MSELoss()\n",
    "\n",
    "# Instanciamos nosso optimizador:\n",
    "optimizer = torch.optim.SGD(model.parameters(),\n",
    "                            lr=0.01\n",
    "                           )\n"
   ]
  },
  {
   "attachments": {},
   "cell_type": "markdown",
   "metadata": {},
   "source": [
    "Treinamos o modelo por `1000` épocas.\n",
    "\n",
    "1. Faça a `Propagação para frente` (Forward Propagation)\n",
    "\n",
    "2. Calcule a `perda` (Loss)\n",
    "\n",
    "3. Retropropagação (Backpropagation)\n",
    "\n",
    "4. Atualize os parâmetros usando `optimizer.step()`\n",
    "\n",
    "5. Zere os gradientes"
   ]
  },
  {
   "cell_type": "code",
   "execution_count": 33,
   "metadata": {},
   "outputs": [],
   "source": [
    "all_loss = []\n",
    "\n",
    "for epoch in range(1000):\n",
    "  y_hat = model(x_torch)\n",
    "\n",
    "  loss = criterion(y_hat, y_torch)\n",
    "  loss.backward()\n",
    "\n",
    "  all_loss.append(loss.item())\n",
    "\n",
    "  optimizer.step()\n",
    "  optimizer.zero_grad()"
   ]
  },
  {
   "attachments": {},
   "cell_type": "markdown",
   "metadata": {},
   "source": [
    "<font color=\"orange\">Fazemos algumas previsões sobre: `x_torch`:</font>\n"
   ]
  },
  {
   "cell_type": "code",
   "execution_count": 40,
   "metadata": {},
   "outputs": [
    {
     "data": {
      "text/plain": [
       "1000"
      ]
     },
     "execution_count": 40,
     "metadata": {},
     "output_type": "execute_result"
    }
   ],
   "source": [
    "len(all_loss)"
   ]
  },
  {
   "cell_type": "code",
   "execution_count": 34,
   "metadata": {},
   "outputs": [],
   "source": [
    "y_pred = model.forward(x_torch)\n"
   ]
  },
  {
   "cell_type": "code",
   "execution_count": 35,
   "metadata": {},
   "outputs": [
    {
     "data": {
      "text/plain": [
       "tensor([[-3.2718],\n",
       "        [16.3385],\n",
       "        [22.5611],\n",
       "        [-1.4605],\n",
       "        [-3.3161],\n",
       "        [14.0513],\n",
       "        [ 4.8428],\n",
       "        [ 5.4774],\n",
       "        [21.7362],\n",
       "        [22.6024],\n",
       "        [-0.0654],\n",
       "        [22.0095],\n",
       "        [12.9837],\n",
       "        [15.7254],\n",
       "        [24.9057],\n",
       "        [10.6676],\n",
       "        [17.4659],\n",
       "        [ 4.2203],\n",
       "        [-1.3895],\n",
       "        [11.4000],\n",
       "        [24.4312],\n",
       "        [ 9.5893],\n",
       "        [ 5.2331],\n",
       "        [ 8.0033],\n",
       "        [ 5.8529],\n",
       "        [21.1899],\n",
       "        [13.7731],\n",
       "        [ 9.0819],\n",
       "        [ 0.7744],\n",
       "        [ 6.6490],\n",
       "        [ 6.2386],\n",
       "        [22.7997],\n",
       "        [10.6944],\n",
       "        [ 7.0325],\n",
       "        [11.5778],\n",
       "        [10.6789],\n",
       "        [ 5.6841],\n",
       "        [ 9.0380],\n",
       "        [ 4.8029],\n",
       "        [10.0451],\n",
       "        [12.2280],\n",
       "        [ 7.0469],\n",
       "        [ 3.8221],\n",
       "        [15.5050],\n",
       "        [25.1696],\n",
       "        [18.0068],\n",
       "        [19.5354],\n",
       "        [ 8.1754],\n",
       "        [ 3.5192],\n",
       "        [ 7.1058]], grad_fn=<AddmmBackward0>)"
      ]
     },
     "execution_count": 35,
     "metadata": {},
     "output_type": "execute_result"
    }
   ],
   "source": [
    "y_pred"
   ]
  },
  {
   "cell_type": "code",
   "execution_count": 37,
   "metadata": {},
   "outputs": [
    {
     "data": {
      "image/png": "[encoded data removed]",
      "text/plain": [
       "<Figure size 640x480 with 1 Axes>"
      ]
     },
     "metadata": {},
     "output_type": "display_data"
    }
   ],
   "source": [
    "plt.plot(x_torch, y_torch, 'go')\n",
    "plt.plot(x_torch, y_pred.detach().numpy(), '--')\n",
    "plt.grid(True)\n",
    "plt.show()\n"
   ]
  },
  {
   "attachments": {},
   "cell_type": "markdown",
   "metadata": {},
   "source": [
    "<font color=\"orange\">Imprima os parâmetros `w` e `b` que estão armazenados no `model.named_parameters()`:</font>"
   ]
  },
  {
   "cell_type": "code",
   "execution_count": 38,
   "metadata": {},
   "outputs": [
    {
     "name": "stdout",
     "output_type": "stream",
     "text": [
      "linear.weight Parameter containing:\n",
      "tensor([[2.9689]], requires_grad=True)\n",
      "linear.bias Parameter containing:\n",
      "tensor([-3.7499], requires_grad=True)\n"
     ]
    }
   ],
   "source": [
    "for name, param in model.named_parameters():\n",
    "    print(name, param)\n",
    "    "
   ]
  },
  {
   "attachments": {},
   "cell_type": "markdown",
   "metadata": {},
   "source": [
    "<font color=\"orange\">Plotamos a Loss:</font>"
   ]
  },
  {
   "cell_type": "code",
   "execution_count": 44,
   "metadata": {},
   "outputs": [
    {
     "data": {
      "image/png": "[encoded data removed]",
      "text/plain": [
       "<Figure size 640x480 with 1 Axes>"
      ]
     },
     "metadata": {},
     "output_type": "display_data"
    }
   ],
   "source": [
    "plt.plot(np.arange(0, 500, 1), all_loss[:500])\n",
    "plt.grid(True)\n",
    "plt.show()\n"
   ]
  },
  {
   "cell_type": "code",
   "execution_count": 45,
   "metadata": {},
   "outputs": [
    {
     "data": {
      "text/plain": [
       "[85.9783706665039,\n",
       " 15.659223556518555,\n",
       " 6.140814304351807,\n",
       " 4.828563690185547,\n",
       " 4.624084949493408,\n",
       " 4.5693488121032715,\n",
       " 4.5350542068481445,\n",
       " 4.503751277923584,\n",
       " 4.47307825088501,\n",
       " 4.442716121673584]"
      ]
     },
     "execution_count": 45,
     "metadata": {},
     "output_type": "execute_result"
    }
   ],
   "source": [
    "all_loss[:10]"
   ]
  },
  {
   "cell_type": "code",
   "execution_count": 46,
   "metadata": {},
   "outputs": [
    {
     "data": {
      "text/plain": [
       "0.9245436191558838"
      ]
     },
     "execution_count": 46,
     "metadata": {},
     "output_type": "execute_result"
    }
   ],
   "source": [
    "all_loss[-1]"
   ]
  },
  {
   "cell_type": "code",
   "execution_count": 47,
   "metadata": {},
   "outputs": [
    {
     "data": {
      "text/plain": [
       "85.9783706665039"
      ]
     },
     "execution_count": 47,
     "metadata": {},
     "output_type": "execute_result"
    }
   ],
   "source": [
    "all_loss[0]"
   ]
  }
 ],
 "metadata": {
  "kernelspec": {
   "display_name": "LightningAI",
   "language": "python",
   "name": "python3"
  },
  "language_info": {
   "codemirror_mode": {
    "name": "ipython",
    "version": 3
   },
   "file_extension": ".py",
   "mimetype": "text/x-python",
   "name": "python",
   "nbconvert_exporter": "python",
   "pygments_lexer": "ipython3",
   "version": "3.9.13"
  },
  "orig_nbformat": 4
 },
 "nbformat": 4,
 "nbformat_minor": 2
}
