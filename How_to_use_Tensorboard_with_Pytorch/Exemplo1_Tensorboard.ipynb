{
 "cells": [
  {
   "attachments": {},
   "cell_type": "markdown",
   "metadata": {},
   "source": [
    "<h1 align=\"center\"><font color=\"yellow\">HOW TO USE TENSORBOARD WITH PYTORCH</font></h1>"
   ]
  },
  {
   "attachments": {},
   "cell_type": "markdown",
   "metadata": {},
   "source": [
    "<font color=\"yellow\">Data Scientist.: PhD.Eddy Giusepe Chirinos Isidro</font>"
   ]
  },
  {
   "attachments": {},
   "cell_type": "markdown",
   "metadata": {},
   "source": [
    "Este script está baseado neste [Link](https://pytorch.org/tutorials/recipes/recipes/tensorboard_with_pytorch.html)."
   ]
  },
  {
   "attachments": {},
   "cell_type": "markdown",
   "metadata": {},
   "source": [
    "# Contextualizando"
   ]
  },
  {
   "attachments": {},
   "cell_type": "markdown",
   "metadata": {},
   "source": [
    "O `TensorBoard` é um kit de ferramentas de visualização para experimentação de aprendizado de máquina. O `TensorBoard` permite rastrear (tracking) e visualizar métricas como `Loss` e `accuracy`, visualizar o gráfico do modelo, visualizar `histogramas`, exibir imagens e muito mais. Neste tutorial, abordaremos a instalação do `TensorBoard`, o uso básico com o `PyTorch` e como visualizar os dados registrados na `IU do TensorBoard`."
   ]
  },
  {
   "attachments": {},
   "cell_type": "markdown",
   "metadata": {},
   "source": [
    "<font color=\"pink\">Instalação:</font>\n",
    "\n",
    "O PyTorch deve ser instalado para registrar modelos e métricas no diretório de log do TensorBoard. \n",
    "\n",
    "```\n",
    "$ conda install pytorch torchvision -c pytorch\n",
    "```\n",
    "ou\n",
    "```\n",
    "$ pip install torch torchvision\n",
    "```\n",
    "\n"
   ]
  },
  {
   "attachments": {},
   "cell_type": "markdown",
   "metadata": {},
   "source": [
    "# Usando o TensorBoard no PyTorch"
   ]
  },
  {
   "attachments": {},
   "cell_type": "markdown",
   "metadata": {},
   "source": [
    "Vamos agora tentar usar o `TensorBoard` com o `PyTorch!` Antes de registrar qualquer coisa, precisamos criar uma instância `SummaryWriter`.\n"
   ]
  },
  {
   "cell_type": "code",
   "execution_count": 7,
   "metadata": {},
   "outputs": [],
   "source": [
    "import torch\n",
    "\n",
    "from torch.utils.tensorboard import SummaryWriter\n",
    "\n",
    "# O Writer enviará para o diretório ./runs/ por padrão.\n",
    "writer = SummaryWriter()\n"
   ]
  },
  {
   "attachments": {},
   "cell_type": "markdown",
   "metadata": {},
   "source": [
    "# Log scalars"
   ]
  },
  {
   "attachments": {},
   "cell_type": "markdown",
   "metadata": {},
   "source": [
    "Em Machine Learning, é importante entender as principais métricas, como `Loss` e como elas mudam durante o treinamento. `Scalar` ajuda a salvar o valor da Loss de cada etapa de treinamento ou a accuracy após cada época.\n",
    "\n",
    "Para registrar um valor scalar, use `add_scalar(tag, scalar_value, global_step=None, walltime=None)`. <font color=\"red\">Por exemplo:</font> vamos criar um treinamento de `Regressão Linear simples` e registrar o valor da Loss usando `add_scalar`."
   ]
  },
  {
   "cell_type": "code",
   "execution_count": 8,
   "metadata": {},
   "outputs": [],
   "source": [
    "x = torch.arange(-5, 5, 0.1).view(-1, 1) # torch.arange(-5, 5, 0.1) --> Tensor Unidimensional. view(-1, 1) --> Redimensiona a um Tensor coluna e um número de linhas desconhecido.\n",
    "y = -5 * x + 0.1 * torch.randn(x.size()) # Função Linear com ruído. 'x' e 'y' Têm o mesmo tamanho.\n",
    "\n",
    "\n",
    "model = torch.nn.Linear(1, 1)\n",
    "criterion = torch.nn.MSELoss()\n",
    "optimizer = torch.optim.SGD(model.parameters(), lr = 0.1)\n",
    "\n",
    "def train_model(iter):\n",
    "    for epoch in range(iter):\n",
    "        y1 = model(x)\n",
    "        loss = criterion(y1, y)\n",
    "        writer.add_scalar(\"Loss/train\", loss, epoch)\n",
    "        optimizer.zero_grad()\n",
    "        loss.backward()\n",
    "        optimizer.step()\n",
    "\n",
    "train_model(10)\n",
    "\n",
    "writer.flush() # Forçar a gravação de dados.\n"
   ]
  },
  {
   "cell_type": "code",
   "execution_count": 9,
   "metadata": {},
   "outputs": [
    {
     "data": {
      "text/plain": [
       "torch.Size([100, 1])"
      ]
     },
     "execution_count": 9,
     "metadata": {},
     "output_type": "execute_result"
    }
   ],
   "source": [
    "x.shape"
   ]
  },
  {
   "cell_type": "code",
   "execution_count": 10,
   "metadata": {},
   "outputs": [
    {
     "data": {
      "text/plain": [
       "torch.Size([100, 1])"
      ]
     },
     "execution_count": 10,
     "metadata": {},
     "output_type": "execute_result"
    }
   ],
   "source": [
    "y.shape"
   ]
  },
  {
   "attachments": {},
   "cell_type": "markdown",
   "metadata": {},
   "source": [
    "Chame o método `flush()` para garantir que todos os eventos pendentes tenham sido gravados no disco.\n",
    "\n",
    "Consulte os [tutoriais do torch.utils.tensorboard](https://pytorch.org/docs/stable/tensorboard.html) para encontrar mais tipos de visualização do TensorBoard que você pode registrar.\n",
    "\n",
    "Se você não precisar mais do `summary writer`, chame o método `close()`."
   ]
  },
  {
   "cell_type": "code",
   "execution_count": 11,
   "metadata": {},
   "outputs": [],
   "source": [
    "writer.close()"
   ]
  },
  {
   "attachments": {},
   "cell_type": "markdown",
   "metadata": {},
   "source": [
    "# Executar TensorBoard"
   ]
  },
  {
   "cell_type": "code",
   "execution_count": null,
   "metadata": {},
   "outputs": [],
   "source": []
  },
  {
   "cell_type": "code",
   "execution_count": null,
   "metadata": {},
   "outputs": [],
   "source": []
  },
  {
   "cell_type": "code",
   "execution_count": null,
   "metadata": {},
   "outputs": [],
   "source": []
  },
  {
   "cell_type": "code",
   "execution_count": null,
   "metadata": {},
   "outputs": [],
   "source": []
  },
  {
   "cell_type": "code",
   "execution_count": null,
   "metadata": {},
   "outputs": [],
   "source": []
  },
  {
   "cell_type": "code",
   "execution_count": null,
   "metadata": {},
   "outputs": [],
   "source": [
    "%load_ext tensorboard\n",
    "\n",
    "%tensorboard --logdir /home/eddygiusepe/1_Eddy_Giusepe/LightningAI/Tensorboard_1/runs\n"
   ]
  },
  {
   "attachments": {},
   "cell_type": "markdown",
   "metadata": {},
   "source": [
    "O link do Tensorboard: [http://localhost:6006/#scalars](http://localhost:6006/#scalars)"
   ]
  },
  {
   "cell_type": "code",
   "execution_count": null,
   "metadata": {},
   "outputs": [],
   "source": []
  }
 ],
 "metadata": {
  "kernelspec": {
   "display_name": "LightningAI",
   "language": "python",
   "name": "python3"
  },
  "language_info": {
   "codemirror_mode": {
    "name": "ipython",
    "version": 3
   },
   "file_extension": ".py",
   "mimetype": "text/x-python",
   "name": "python",
   "nbconvert_exporter": "python",
   "pygments_lexer": "ipython3",
   "version": "3.9.13"
  },
  "orig_nbformat": 4
 },
 "nbformat": 4,
 "nbformat_minor": 2
}
