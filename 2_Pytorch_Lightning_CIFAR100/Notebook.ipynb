{
 "cells": [
  {
   "cell_type": "markdown",
   "metadata": {},
   "source": [
    "# <h1><font color=\"red\">Usando Pytorch Lightning para treinar um modelo de classificação para CIFAR100</font></h1>"
   ]
  },
  {
   "cell_type": "markdown",
   "metadata": {},
   "source": [
    "<font color=\"pink\">Senior Data Scientist.: Eddy Giusepe Chirinos Isidro</font>\n"
   ]
  },
  {
   "cell_type": "markdown",
   "metadata": {},
   "source": [
    "# <font color=\"gree\">Carregando e visualizando os dados `CIFAR100`</font>"
   ]
  },
  {
   "cell_type": "code",
   "execution_count": 1,
   "metadata": {},
   "outputs": [
    {
     "name": "stderr",
     "output_type": "stream",
     "text": [
      "2025-01-11 15:59:45.849270: I tensorflow/core/util/port.cc:153] oneDNN custom operations are on. You may see slightly different numerical results due to floating-point round-off errors from different computation orders. To turn them off, set the environment variable `TF_ENABLE_ONEDNN_OPTS=0`.\n",
      "2025-01-11 15:59:45.856933: E external/local_xla/xla/stream_executor/cuda/cuda_fft.cc:477] Unable to register cuFFT factory: Attempting to register factory for plugin cuFFT when one has already been registered\n",
      "WARNING: All log messages before absl::InitializeLog() is called are written to STDERR\n",
      "E0000 00:00:1736621985.866548   34121 cuda_dnn.cc:8310] Unable to register cuDNN factory: Attempting to register factory for plugin cuDNN when one has already been registered\n",
      "E0000 00:00:1736621985.869440   34121 cuda_blas.cc:1418] Unable to register cuBLAS factory: Attempting to register factory for plugin cuBLAS when one has already been registered\n",
      "2025-01-11 15:59:45.879413: I tensorflow/core/platform/cpu_feature_guard.cc:210] This TensorFlow binary is optimized to use available CPU instructions in performance-critical operations.\n",
      "To enable the following instructions: AVX2 AVX_VNNI FMA, in other operations, rebuild TensorFlow with the appropriate compiler flags.\n"
     ]
    }
   ],
   "source": [
    "import torch \n",
    "import torchvision\n",
    "import torchvision.transforms as transforms\n",
    "from torch.utils.data import random_split\n",
    "import pytorch_lightning as pl\n",
    "\n",
    "import matplotlib.pyplot as plt\n",
    "%matplotlib inline\n",
    "\n",
    "import pandas as pd\n",
    "import numpy as np\n"
   ]
  },
  {
   "cell_type": "code",
   "execution_count": 2,
   "metadata": {},
   "outputs": [
    {
     "name": "stdout",
     "output_type": "stream",
     "text": [
      "Files already downloaded and verified\n"
     ]
    }
   ],
   "source": [
    "# Definindo as transformações para treino (com data augmentation):\n",
    "transform_train = transforms.Compose([transforms.RandomCrop(32, padding=4),\n",
    "                                        transforms.RandomHorizontalFlip(),\n",
    "                                        transforms.RandomRotation(15),  # Rotação aleatória até 15 graus\n",
    "                                        transforms.ColorJitter(brightness=0.2, contrast=0.2, saturation=0.2),  # Ajustes de cor\n",
    "                                        transforms.ToTensor(),\n",
    "                                        transforms.Normalize((0.5, 0.5, 0.5), (0.5, 0.5, 0.5))\n",
    "                                       ])\n",
    "\n",
    "\n",
    "# Transformando os dados em tensores e normalizando. Transformações para validação e teste (sem data augmentation):\n",
    "transform = transforms.Compose([transforms.ToTensor(), # Carregadas como arrays NumPy ou objetos PIL.\n",
    "                                transforms.Normalize((0.5, 0.5, 0.5), (0.5, 0.5, 0.5))] # Normaliza os valores das imagens de [0, 255] (valores típicos de pixels) para [0, 1]\n",
    "                              )\n",
    "\n",
    "\n",
    "# Carregando o conjunto de treino completo:\n",
    "full_train_dataset = torchvision.datasets.CIFAR100(root='./data',\n",
    "                                                   train=True,\n",
    "                                                   download=True\n",
    "                                                  )\n",
    "\n",
    "# Dividindo o conjunto de treino em treino e validação (80% treino, 20% validação)\n",
    "train_size = int(0.8 * len(full_train_dataset))\n",
    "val_size = len(full_train_dataset) - train_size\n",
    "\n",
    "train_dataset_raw, val_dataset_raw = random_split(full_train_dataset, [train_size, val_size])\n"
   ]
  },
  {
   "cell_type": "code",
   "execution_count": 3,
   "metadata": {},
   "outputs": [
    {
     "name": "stdout",
     "output_type": "stream",
     "text": [
      "Files already downloaded and verified\n"
     ]
    }
   ],
   "source": [
    "# Aplicando as transformações apropriadas para cada conjunto:\n",
    "train_dataset = torch.utils.data.dataset.Subset(torchvision.datasets.CIFAR100(root='./data',\n",
    "                                                                              train=True,\n",
    "                                                                              transform=transform_train),\n",
    "                                                                              train_dataset_raw.indices\n",
    "                                                )\n",
    "\n",
    "val_dataset = torch.utils.data.dataset.Subset(torchvision.datasets.CIFAR100(root='./data',\n",
    "                                                                            train=True,\n",
    "                                                                            transform=transform),\n",
    "                                                                            val_dataset_raw.indices\n",
    "                                                                            )\n",
    "\n",
    "# Carregando o conjunto de teste:\n",
    "test_dataset = torchvision.datasets.CIFAR100(root='./data',\n",
    "                                              train=False,\n",
    "                                              download=True,\n",
    "                                              transform=transform\n",
    "                                             )\n"
   ]
  },
  {
   "cell_type": "code",
   "execution_count": 4,
   "metadata": {},
   "outputs": [],
   "source": [
    "# Função para extrair informações do dataset:\n",
    "def visualizar_dataset_info(dataset, num_amostras=5):\n",
    "    dados = []\n",
    "    for i in range(num_amostras):\n",
    "        imagem, label = dataset[i]\n",
    "        # Verifica se é um objeto Subset (treino/validação) ou CIFAR100 (teste)\n",
    "        if hasattr(dataset, 'dataset'):\n",
    "            classes = dataset.dataset.classes\n",
    "        else:\n",
    "            classes = dataset.classes\n",
    "            \n",
    "        dados.append({\n",
    "            'índice': i,\n",
    "            'classe': classes[label],\n",
    "            'label': label,\n",
    "            'formato_imagem': imagem.shape\n",
    "        })\n",
    "    return pd.DataFrame(dados)"
   ]
  },
  {
   "cell_type": "code",
   "execution_count": 5,
   "metadata": {},
   "outputs": [
    {
     "data": {
      "text/html": [
       "<div>\n",
       "<style scoped>\n",
       "    .dataframe tbody tr th:only-of-type {\n",
       "        vertical-align: middle;\n",
       "    }\n",
       "\n",
       "    .dataframe tbody tr th {\n",
       "        vertical-align: top;\n",
       "    }\n",
       "\n",
       "    .dataframe thead th {\n",
       "        text-align: right;\n",
       "    }\n",
       "</style>\n",
       "<table border=\"1\" class=\"dataframe\">\n",
       "  <thead>\n",
       "    <tr style=\"text-align: right;\">\n",
       "      <th></th>\n",
       "      <th>índice</th>\n",
       "      <th>classe</th>\n",
       "      <th>label</th>\n",
       "      <th>formato_imagem</th>\n",
       "    </tr>\n",
       "  </thead>\n",
       "  <tbody>\n",
       "    <tr>\n",
       "      <th>0</th>\n",
       "      <td>0</td>\n",
       "      <td>mouse</td>\n",
       "      <td>50</td>\n",
       "      <td>(3, 32, 32)</td>\n",
       "    </tr>\n",
       "    <tr>\n",
       "      <th>1</th>\n",
       "      <td>1</td>\n",
       "      <td>forest</td>\n",
       "      <td>33</td>\n",
       "      <td>(3, 32, 32)</td>\n",
       "    </tr>\n",
       "    <tr>\n",
       "      <th>2</th>\n",
       "      <td>2</td>\n",
       "      <td>apple</td>\n",
       "      <td>0</td>\n",
       "      <td>(3, 32, 32)</td>\n",
       "    </tr>\n",
       "    <tr>\n",
       "      <th>3</th>\n",
       "      <td>3</td>\n",
       "      <td>spider</td>\n",
       "      <td>79</td>\n",
       "      <td>(3, 32, 32)</td>\n",
       "    </tr>\n",
       "    <tr>\n",
       "      <th>4</th>\n",
       "      <td>4</td>\n",
       "      <td>skyscraper</td>\n",
       "      <td>76</td>\n",
       "      <td>(3, 32, 32)</td>\n",
       "    </tr>\n",
       "  </tbody>\n",
       "</table>\n",
       "</div>"
      ],
      "text/plain": [
       "   índice      classe  label formato_imagem\n",
       "0       0       mouse     50    (3, 32, 32)\n",
       "1       1      forest     33    (3, 32, 32)\n",
       "2       2       apple      0    (3, 32, 32)\n",
       "3       3      spider     79    (3, 32, 32)\n",
       "4       4  skyscraper     76    (3, 32, 32)"
      ]
     },
     "execution_count": 5,
     "metadata": {},
     "output_type": "execute_result"
    }
   ],
   "source": [
    "# Visualizando informações do dataset de treino:\n",
    "train_info_df = visualizar_dataset_info(train_dataset)\n",
    "train_info_df"
   ]
  },
  {
   "cell_type": "code",
   "execution_count": 6,
   "metadata": {},
   "outputs": [
    {
     "data": {
      "text/html": [
       "<div>\n",
       "<style scoped>\n",
       "    .dataframe tbody tr th:only-of-type {\n",
       "        vertical-align: middle;\n",
       "    }\n",
       "\n",
       "    .dataframe tbody tr th {\n",
       "        vertical-align: top;\n",
       "    }\n",
       "\n",
       "    .dataframe thead th {\n",
       "        text-align: right;\n",
       "    }\n",
       "</style>\n",
       "<table border=\"1\" class=\"dataframe\">\n",
       "  <thead>\n",
       "    <tr style=\"text-align: right;\">\n",
       "      <th></th>\n",
       "      <th>índice</th>\n",
       "      <th>classe</th>\n",
       "      <th>label</th>\n",
       "      <th>formato_imagem</th>\n",
       "    </tr>\n",
       "  </thead>\n",
       "  <tbody>\n",
       "    <tr>\n",
       "      <th>0</th>\n",
       "      <td>0</td>\n",
       "      <td>whale</td>\n",
       "      <td>95</td>\n",
       "      <td>(3, 32, 32)</td>\n",
       "    </tr>\n",
       "    <tr>\n",
       "      <th>1</th>\n",
       "      <td>1</td>\n",
       "      <td>beaver</td>\n",
       "      <td>4</td>\n",
       "      <td>(3, 32, 32)</td>\n",
       "    </tr>\n",
       "    <tr>\n",
       "      <th>2</th>\n",
       "      <td>2</td>\n",
       "      <td>pickup_truck</td>\n",
       "      <td>58</td>\n",
       "      <td>(3, 32, 32)</td>\n",
       "    </tr>\n",
       "    <tr>\n",
       "      <th>3</th>\n",
       "      <td>3</td>\n",
       "      <td>plate</td>\n",
       "      <td>61</td>\n",
       "      <td>(3, 32, 32)</td>\n",
       "    </tr>\n",
       "    <tr>\n",
       "      <th>4</th>\n",
       "      <td>4</td>\n",
       "      <td>beaver</td>\n",
       "      <td>4</td>\n",
       "      <td>(3, 32, 32)</td>\n",
       "    </tr>\n",
       "  </tbody>\n",
       "</table>\n",
       "</div>"
      ],
      "text/plain": [
       "   índice        classe  label formato_imagem\n",
       "0       0         whale     95    (3, 32, 32)\n",
       "1       1        beaver      4    (3, 32, 32)\n",
       "2       2  pickup_truck     58    (3, 32, 32)\n",
       "3       3         plate     61    (3, 32, 32)\n",
       "4       4        beaver      4    (3, 32, 32)"
      ]
     },
     "execution_count": 6,
     "metadata": {},
     "output_type": "execute_result"
    }
   ],
   "source": [
    "# Visualizando informações do dataset de validação:\n",
    "val_info_df = visualizar_dataset_info(val_dataset)\n",
    "val_info_df"
   ]
  },
  {
   "cell_type": "code",
   "execution_count": 7,
   "metadata": {},
   "outputs": [
    {
     "data": {
      "text/html": [
       "<div>\n",
       "<style scoped>\n",
       "    .dataframe tbody tr th:only-of-type {\n",
       "        vertical-align: middle;\n",
       "    }\n",
       "\n",
       "    .dataframe tbody tr th {\n",
       "        vertical-align: top;\n",
       "    }\n",
       "\n",
       "    .dataframe thead th {\n",
       "        text-align: right;\n",
       "    }\n",
       "</style>\n",
       "<table border=\"1\" class=\"dataframe\">\n",
       "  <thead>\n",
       "    <tr style=\"text-align: right;\">\n",
       "      <th></th>\n",
       "      <th>índice</th>\n",
       "      <th>classe</th>\n",
       "      <th>label</th>\n",
       "      <th>formato_imagem</th>\n",
       "    </tr>\n",
       "  </thead>\n",
       "  <tbody>\n",
       "    <tr>\n",
       "      <th>0</th>\n",
       "      <td>0</td>\n",
       "      <td>mountain</td>\n",
       "      <td>49</td>\n",
       "      <td>(3, 32, 32)</td>\n",
       "    </tr>\n",
       "    <tr>\n",
       "      <th>1</th>\n",
       "      <td>1</td>\n",
       "      <td>forest</td>\n",
       "      <td>33</td>\n",
       "      <td>(3, 32, 32)</td>\n",
       "    </tr>\n",
       "    <tr>\n",
       "      <th>2</th>\n",
       "      <td>2</td>\n",
       "      <td>seal</td>\n",
       "      <td>72</td>\n",
       "      <td>(3, 32, 32)</td>\n",
       "    </tr>\n",
       "    <tr>\n",
       "      <th>3</th>\n",
       "      <td>3</td>\n",
       "      <td>mushroom</td>\n",
       "      <td>51</td>\n",
       "      <td>(3, 32, 32)</td>\n",
       "    </tr>\n",
       "    <tr>\n",
       "      <th>4</th>\n",
       "      <td>4</td>\n",
       "      <td>sea</td>\n",
       "      <td>71</td>\n",
       "      <td>(3, 32, 32)</td>\n",
       "    </tr>\n",
       "  </tbody>\n",
       "</table>\n",
       "</div>"
      ],
      "text/plain": [
       "   índice    classe  label formato_imagem\n",
       "0       0  mountain     49    (3, 32, 32)\n",
       "1       1    forest     33    (3, 32, 32)\n",
       "2       2      seal     72    (3, 32, 32)\n",
       "3       3  mushroom     51    (3, 32, 32)\n",
       "4       4       sea     71    (3, 32, 32)"
      ]
     },
     "execution_count": 7,
     "metadata": {},
     "output_type": "execute_result"
    }
   ],
   "source": [
    "# Agora podemos visualizar qualquer dataset\n",
    "test_info_df = visualizar_dataset_info(test_dataset)\n",
    "test_info_df"
   ]
  },
  {
   "cell_type": "code",
   "execution_count": 8,
   "metadata": {},
   "outputs": [
    {
     "data": {
      "text/plain": [
       "<torch.utils.data.dataset.Subset at 0x780dfd5c94e0>"
      ]
     },
     "execution_count": 8,
     "metadata": {},
     "output_type": "execute_result"
    }
   ],
   "source": [
    "train_dataset"
   ]
  },
  {
   "cell_type": "code",
   "execution_count": 9,
   "metadata": {},
   "outputs": [
    {
     "data": {
      "text/plain": [
       "<torch.utils.data.dataset.Subset at 0x780c4b733a90>"
      ]
     },
     "execution_count": 9,
     "metadata": {},
     "output_type": "execute_result"
    }
   ],
   "source": [
    "val_dataset"
   ]
  },
  {
   "cell_type": "code",
   "execution_count": 10,
   "metadata": {},
   "outputs": [
    {
     "data": {
      "text/plain": [
       "Dataset CIFAR100\n",
       "    Number of datapoints: 10000\n",
       "    Root location: ./data\n",
       "    Split: Test\n",
       "    StandardTransform\n",
       "Transform: Compose(\n",
       "               ToTensor()\n",
       "               Normalize(mean=(0.5, 0.5, 0.5), std=(0.5, 0.5, 0.5))\n",
       "           )"
      ]
     },
     "execution_count": 10,
     "metadata": {},
     "output_type": "execute_result"
    }
   ],
   "source": [
    "test_dataset"
   ]
  },
  {
   "cell_type": "code",
   "execution_count": 11,
   "metadata": {},
   "outputs": [],
   "source": [
    "# Criando os dataloader (gerenciar o carregamento de dados):\n",
    "train_loader = torch.utils.data.DataLoader(train_dataset,\n",
    "                                           batch_size=64,\n",
    "                                           shuffle=True,\n",
    "                                           num_workers=10\n",
    "                                          )\n",
    "\n",
    "val_loader = torch.utils.data.DataLoader(val_dataset,\n",
    "                                           batch_size=64,\n",
    "                                           shuffle=False, # Datasets de validação e teste devem ser determinísticos. O embaralhamento pode dificultar a reprodutibilidade dos resultados\n",
    "                                           num_workers=10\n",
    "                                          )\n",
    "\n",
    "test_loader = torch.utils.data.DataLoader(test_dataset,\n",
    "                                           batch_size=64,\n",
    "                                           shuffle=False, # Datasets de validação e teste devem ser determinísticos. O embaralhamento pode dificultar a reprodutibilidade dos resultados\n",
    "                                           num_workers=10\n",
    "                                          )\n",
    "\n"
   ]
  },
  {
   "cell_type": "code",
   "execution_count": 12,
   "metadata": {},
   "outputs": [],
   "source": [
    "# Criando uma função para visualização de imagens:\n",
    "def imshow(img):\n",
    "    plt.figure(figsize=(12, 12))\n",
    "    img = img / 2 + 0.5 # Desnormalização\n",
    "    npimg = img.numpy()\n",
    "    plt.imshow(np.transpose(npimg, (1, 2, 0)))\n",
    "    #plt.axis('off')\n",
    "    plt.title(\"Image examples of the CIFAR100 dataset\", fontsize=20, color='red')\n",
    "    plt.show()\n"
   ]
  },
  {
   "cell_type": "code",
   "execution_count": 13,
   "metadata": {},
   "outputs": [
    {
     "data": {
      "image/png": "[encoded data removed]",
      "text/plain": [
       "<Figure size 1200x1200 with 1 Axes>"
      ]
     },
     "metadata": {},
     "output_type": "display_data"
    }
   ],
   "source": [
    "# Selecionando algumas imagens aleatórias para visualização do conjunto de treinamento:\n",
    "dataiter = iter(train_loader)\n",
    "\n",
    "images, labels = next(dataiter)\n",
    "\n",
    "# Mostrando as imagens:\n",
    "imshow(torchvision.utils.make_grid(images[:12]))\n",
    "\n"
   ]
  },
  {
   "cell_type": "code",
   "execution_count": 14,
   "metadata": {},
   "outputs": [
    {
     "name": "stdout",
     "output_type": "stream",
     "text": [
      "Número de imagens de treino: 40000\n",
      "Número de imagens de teste: 10000\n",
      "\n",
      "Informações sobre o formato das imagens:\n",
      "Formato: torch.Size([3, 32, 32]) -> (Canais, Altura, Largura)\n",
      "- Canais: 3 (RGB - Red, Green, Blue)\n",
      "- Altura: 32 pixels\n",
      "- Largura: 32 pixels\n",
      "- Total de valores por imagem (3x32x32): 3072 pixels\n",
      "\n",
      "Número de classes: 100\n"
     ]
    }
   ],
   "source": [
    "# Imprimindo informações detalhadas sobre os dados:\n",
    "print(f'Número de imagens de treino: {len(train_dataset)}')\n",
    "print(f'Número de imagens de teste: {len(test_dataset)}')\n",
    "print('\\nInformações sobre o formato das imagens:')\n",
    "print(f'Formato: {images[0].shape} -> (Canais, Altura, Largura)')\n",
    "print(f'- Canais: {images[0].shape[0]} (RGB - Red, Green, Blue)')\n",
    "print(f'- Altura: {images[0].shape[1]} pixels')\n",
    "print(f'- Largura: {images[0].shape[2]} pixels')\n",
    "print(f'- Total de valores por imagem (3x32x32): {images[0].shape[0] * images[0].shape[1] * images[0].shape[2]} pixels')\n",
    "print(f'\\nNúmero de classes: {len(full_train_dataset.classes)}')"
   ]
  },
  {
   "cell_type": "markdown",
   "metadata": {},
   "source": [
    "# <font color=\"gree\">Usando Lightning para definir o Modelo</font>"
   ]
  },
  {
   "cell_type": "markdown",
   "metadata": {},
   "source": [
    "Se você não quer construir o modelo e quer usar um modelo pré-treinado como `ResNet`, você pode usar o `Lightning` para definir o modelo.\n",
    "Isso será abordado em outro notebook."
   ]
  },
  {
   "cell_type": "code",
   "execution_count": 15,
   "metadata": {},
   "outputs": [],
   "source": [
    "import pytorch_lightning as pl\n",
    "import torch.nn as nn\n",
    "import torch.optim as optim\n",
    "import torch.nn.functional as F\n",
    "\n",
    "class CIFAR100Classifier(pl.LightningModule):\n",
    "    def __init__(self):\n",
    "        super().__init__()\n",
    "        self.model = nn.Sequential(\n",
    "            # Primeiro bloco convolucional:\n",
    "            nn.Conv2d(3, 64, kernel_size=3, padding=1),\n",
    "            nn.BatchNorm2d(64),\n",
    "            nn.ReLU(),\n",
    "            nn.Conv2d(64, 64, kernel_size=3, padding=1),\n",
    "            nn.BatchNorm2d(64),\n",
    "            nn.ReLU(),\n",
    "            nn.MaxPool2d(2),\n",
    "            nn.Dropout(0.25),\n",
    "\n",
    "            # Segundo bloco convolucional:\n",
    "            nn.Conv2d(64, 128, kernel_size=3, padding=1),\n",
    "            nn.BatchNorm2d(128),\n",
    "            nn.ReLU(),\n",
    "            nn.Conv2d(128, 128, kernel_size=3, padding=1),\n",
    "            nn.BatchNorm2d(128),\n",
    "            nn.ReLU(),\n",
    "            nn.MaxPool2d(2),\n",
    "            nn.Dropout(0.25),\n",
    "\n",
    "            # Terceiro bloco convolucional:\n",
    "            nn.Conv2d(128, 256, kernel_size=3, padding=1),\n",
    "            nn.BatchNorm2d(256),\n",
    "            nn.ReLU(),\n",
    "            nn.Conv2d(256, 256, kernel_size=3, padding=1),\n",
    "            nn.BatchNorm2d(256),\n",
    "            nn.ReLU(),\n",
    "            nn.MaxPool2d(2),\n",
    "            nn.Dropout(0.25),\n",
    "\n",
    "            # Quarto bloco convolucional:\n",
    "            nn.Conv2d(256, 512, kernel_size=3, padding=1),\n",
    "            nn.BatchNorm2d(512),\n",
    "            nn.ReLU(),\n",
    "            nn.Conv2d(512, 512, kernel_size=3, padding=1),\n",
    "            nn.BatchNorm2d(512),\n",
    "            nn.ReLU(),\n",
    "            nn.MaxPool2d(2),\n",
    "            nn.Dropout(0.25),\n",
    "\n",
    "            nn.Flatten(),\n",
    "            nn.Linear(512 * 2 * 2, 4096),\n",
    "            nn.ReLU(),\n",
    "            nn.Dropout(0.5),\n",
    "            nn.Linear(4096, 1024),\n",
    "            nn.ReLU(),\n",
    "            nn.Dropout(0.5),\n",
    "            nn.Linear(1024, 100)  # CIFAR100 tem 100 classes\n",
    "        )\n",
    "\n",
    "    def forward(self, x):\n",
    "        return self.model(x)\n",
    "\n",
    "    def training_step(self, batch, batch_idx):\n",
    "        images, labels = batch\n",
    "        outputs = self(images)\n",
    "        loss = F.cross_entropy(outputs, labels)\n",
    "        # Adicionando prog_bar=True e on_step=True para mostrar na barra de progresso:\n",
    "        self.log(\"train_loss\", loss, prog_bar=True, on_step=True, on_epoch=True)\n",
    "        return loss\n",
    "\n",
    "    def validation_step(self, batch, batch_idx):\n",
    "        images, labels = batch\n",
    "        outputs = self(images)\n",
    "        loss = F.cross_entropy(outputs, labels)\n",
    "        acc = (outputs.argmax(dim=1) == labels).float().mean()\n",
    "        # Adicionando os mesmos parâmetros de logging:\n",
    "        self.log(\"val_loss\", loss, prog_bar=True, on_step=True, on_epoch=True)\n",
    "        self.log(\"val_acc\", acc, prog_bar=True, on_step=True, on_epoch=True)\n",
    "\n",
    "    def test_step(self, batch, batch_idx):\n",
    "        images, labels = batch\n",
    "        outputs = self(images)\n",
    "        loss = F.cross_entropy(outputs, labels)\n",
    "        acc = (outputs.argmax(dim=1) == labels).float().mean()\n",
    "        # Adicionando os mesmos parâmetros de logging:\n",
    "        self.log(\"test_loss\", loss, prog_bar=True, on_step=True, on_epoch=True)\n",
    "        self.log(\"test_acc\", acc, prog_bar=True, on_step=True, on_epoch=True)\n",
    "\n",
    "    def configure_optimizers(self):\n",
    "        optimizer = optim.AdamW(self.parameters(),\n",
    "                               lr=1e-3,\n",
    "                               weight_decay=1e-2\n",
    "                              )\n",
    "        \n",
    "        # scheduler = optim.lr_scheduler.ReduceLROnPlateau( # Melhor para fine-tuning ou quando não se sabe quantas epochs serão necessárias\n",
    "        # optimizer,\n",
    "        # mode='max', # Monitora quando queremos maximizar a métrica (accuracy)\n",
    "        # factor=0.2, # Fator de redução da taxa de aprendizado (LR)\n",
    "        # patience=3, # Espera 3 épocas sem melhoria para reduzir a taxa de aprendizado\n",
    "        # verbose=True # Mostra mensagens quando a taxa de aprendizado é alterada\n",
    "        #                                                 )\n",
    "        # return {\n",
    "        #     \"optimizer\": optimizer,\n",
    "        #     \"lr_scheduler\": scheduler,\n",
    "        #     \"monitor\": \"val_acc\"\n",
    "        # }\n",
    "    \n",
    "        # Calculando o total de passos de treinamento\n",
    "        steps_per_epoch = len(train_loader)  # Usando o train_loader diretamente\n",
    "        total_steps = steps_per_epoch * self.trainer.max_epochs\n",
    "        \n",
    "        scheduler = optim.lr_scheduler.OneCycleLR( # Melhor para treinamento do zero (from scratch)\n",
    "            optimizer,\n",
    "            max_lr=1e-3,\n",
    "            total_steps=total_steps,\n",
    "            pct_start=0.3,  # 30% do treinamento para a fase de aquecimento\n",
    "            div_factor=25,  # lr_inicial = max_lr/25\n",
    "            final_div_factor=1000  # lr_final = lr_inicial/1000\n",
    "        )\n",
    "        \n",
    "        return {\n",
    "            \"optimizer\": optimizer,\n",
    "            \"lr_scheduler\": {\n",
    "                \"scheduler\": scheduler,\n",
    "                \"interval\": \"step\"  # OneCycleLR atualiza a cada batch\n",
    "            }\n",
    "        }"
   ]
  },
  {
   "cell_type": "markdown",
   "metadata": {},
   "source": [
    "# <font color=\"gree\">Treinamento com o Trainer</font>"
   ]
  },
  {
   "cell_type": "code",
   "execution_count": 16,
   "metadata": {},
   "outputs": [
    {
     "name": "stdout",
     "output_type": "stream",
     "text": [
      "/home/eddygiusepe/2_EddyGiusepe_Estudo/LightningAI/2_Pytorch_Lightning_CIFAR100\n"
     ]
    }
   ],
   "source": [
    "%cd /home/eddygiusepe/2_EddyGiusepe_Estudo/LightningAI/2_Pytorch_Lightning_CIFAR100"
   ]
  },
  {
   "cell_type": "code",
   "execution_count": 17,
   "metadata": {},
   "outputs": [
    {
     "name": "stderr",
     "output_type": "stream",
     "text": [
      "GPU available: True (cuda), used: True\n",
      "TPU available: False, using: 0 TPU cores\n",
      "HPU available: False, using: 0 HPUs\n",
      "You are using a CUDA device ('NVIDIA RTX 2000 Ada Generation Laptop GPU') that has Tensor Cores. To properly utilize them, you should set `torch.set_float32_matmul_precision('medium' | 'high')` which will trade-off precision for performance. For more details, read https://pytorch.org/docs/stable/generated/torch.set_float32_matmul_precision.html#torch.set_float32_matmul_precision\n",
      "LOCAL_RANK: 0 - CUDA_VISIBLE_DEVICES: [0]\n",
      "\n",
      "  | Name  | Type       | Params | Mode \n",
      "---------------------------------------------\n",
      "0 | model | Sequential | 17.4 M | train\n",
      "---------------------------------------------\n",
      "17.4 M    Trainable params\n",
      "0         Non-trainable params\n",
      "17.4 M    Total params\n",
      "69.519    Total estimated model params size (MB)\n",
      "41        Modules in train mode\n",
      "0         Modules in eval mode\n"
     ]
    },
    {
     "data": {
      "application/vnd.jupyter.widget-view+json": {
       "model_id": "42243cf34a1849c196bc268706036912",
       "version_major": 2,
       "version_minor": 0
      },
      "text/plain": [
       "Sanity Checking: |          | 0/? [00:00<?, ?it/s]"
      ]
     },
     "metadata": {},
     "output_type": "display_data"
    },
    {
     "data": {
      "application/vnd.jupyter.widget-view+json": {
       "model_id": "c55f11fcd820447b901001057a94f60e",
       "version_major": 2,
       "version_minor": 0
      },
      "text/plain": [
       "Training: |          | 0/? [00:00<?, ?it/s]"
      ]
     },
     "metadata": {},
     "output_type": "display_data"
    },
    {
     "data": {
      "application/vnd.jupyter.widget-view+json": {
       "model_id": "00385041d8e54e95ae790c6d234c7cb4",
       "version_major": 2,
       "version_minor": 0
      },
      "text/plain": [
       "Validation: |          | 0/? [00:00<?, ?it/s]"
      ]
     },
     "metadata": {},
     "output_type": "display_data"
    },
    {
     "data": {
      "application/vnd.jupyter.widget-view+json": {
       "model_id": "35782b0f87634dd3b488b5d764671660",
       "version_major": 2,
       "version_minor": 0
      },
      "text/plain": [
       "Validation: |          | 0/? [00:00<?, ?it/s]"
      ]
     },
     "metadata": {},
     "output_type": "display_data"
    },
    {
     "data": {
      "application/vnd.jupyter.widget-view+json": {
       "model_id": "9e04a443c9d74f08be6797dcec5f2c30",
       "version_major": 2,
       "version_minor": 0
      },
      "text/plain": [
       "Validation: |          | 0/? [00:00<?, ?it/s]"
      ]
     },
     "metadata": {},
     "output_type": "display_data"
    },
    {
     "data": {
      "application/vnd.jupyter.widget-view+json": {
       "model_id": "a2877349a6ba4f81b1ab9a582d525a81",
       "version_major": 2,
       "version_minor": 0
      },
      "text/plain": [
       "Validation: |          | 0/? [00:00<?, ?it/s]"
      ]
     },
     "metadata": {},
     "output_type": "display_data"
    },
    {
     "data": {
      "application/vnd.jupyter.widget-view+json": {
       "model_id": "8275e0ebe86f4b13a582a47e730a406b",
       "version_major": 2,
       "version_minor": 0
      },
      "text/plain": [
       "Validation: |          | 0/? [00:00<?, ?it/s]"
      ]
     },
     "metadata": {},
     "output_type": "display_data"
    },
    {
     "data": {
      "application/vnd.jupyter.widget-view+json": {
       "model_id": "de05cb955aa34d4d8d29b0907849cbef",
       "version_major": 2,
       "version_minor": 0
      },
      "text/plain": [
       "Validation: |          | 0/? [00:00<?, ?it/s]"
      ]
     },
     "metadata": {},
     "output_type": "display_data"
    },
    {
     "data": {
      "application/vnd.jupyter.widget-view+json": {
       "model_id": "086bf66e816e4e37ae983ae8537edd91",
       "version_major": 2,
       "version_minor": 0
      },
      "text/plain": [
       "Validation: |          | 0/? [00:00<?, ?it/s]"
      ]
     },
     "metadata": {},
     "output_type": "display_data"
    },
    {
     "data": {
      "application/vnd.jupyter.widget-view+json": {
       "model_id": "c0d15aeb14cd4df49f64d1b7e6afb788",
       "version_major": 2,
       "version_minor": 0
      },
      "text/plain": [
       "Validation: |          | 0/? [00:00<?, ?it/s]"
      ]
     },
     "metadata": {},
     "output_type": "display_data"
    },
    {
     "data": {
      "application/vnd.jupyter.widget-view+json": {
       "model_id": "f7b20c1ce84b4408a14b74c4e99b032f",
       "version_major": 2,
       "version_minor": 0
      },
      "text/plain": [
       "Validation: |          | 0/? [00:00<?, ?it/s]"
      ]
     },
     "metadata": {},
     "output_type": "display_data"
    },
    {
     "data": {
      "application/vnd.jupyter.widget-view+json": {
       "model_id": "02c01fb0b0c7434bb3ceb73d7e6a2211",
       "version_major": 2,
       "version_minor": 0
      },
      "text/plain": [
       "Validation: |          | 0/? [00:00<?, ?it/s]"
      ]
     },
     "metadata": {},
     "output_type": "display_data"
    },
    {
     "data": {
      "application/vnd.jupyter.widget-view+json": {
       "model_id": "9ac95ccfcdd94482aa398d8c421220d9",
       "version_major": 2,
       "version_minor": 0
      },
      "text/plain": [
       "Validation: |          | 0/? [00:00<?, ?it/s]"
      ]
     },
     "metadata": {},
     "output_type": "display_data"
    },
    {
     "data": {
      "application/vnd.jupyter.widget-view+json": {
       "model_id": "f4b2ca29dd6e47eba2408f53190757ae",
       "version_major": 2,
       "version_minor": 0
      },
      "text/plain": [
       "Validation: |          | 0/? [00:00<?, ?it/s]"
      ]
     },
     "metadata": {},
     "output_type": "display_data"
    },
    {
     "data": {
      "application/vnd.jupyter.widget-view+json": {
       "model_id": "249ca94beccf4b6092233ca422700094",
       "version_major": 2,
       "version_minor": 0
      },
      "text/plain": [
       "Validation: |          | 0/? [00:00<?, ?it/s]"
      ]
     },
     "metadata": {},
     "output_type": "display_data"
    },
    {
     "data": {
      "application/vnd.jupyter.widget-view+json": {
       "model_id": "ae8111ec02a44bb8b38983ea791f2ed5",
       "version_major": 2,
       "version_minor": 0
      },
      "text/plain": [
       "Validation: |          | 0/? [00:00<?, ?it/s]"
      ]
     },
     "metadata": {},
     "output_type": "display_data"
    },
    {
     "data": {
      "application/vnd.jupyter.widget-view+json": {
       "model_id": "a3f392cdbfd343deb852f130822895bb",
       "version_major": 2,
       "version_minor": 0
      },
      "text/plain": [
       "Validation: |          | 0/? [00:00<?, ?it/s]"
      ]
     },
     "metadata": {},
     "output_type": "display_data"
    },
    {
     "name": "stderr",
     "output_type": "stream",
     "text": [
      "`Trainer.fit` stopped: `max_epochs=15` reached.\n"
     ]
    }
   ],
   "source": [
    "from pytorch_lightning import Trainer\n",
    "#from pytorch_lightning.loggers import CSVLogger\n",
    "from pytorch_lightning.loggers import TensorBoardLogger\n",
    "from pytorch_lightning.callbacks import ModelCheckpoint\n",
    "\n",
    "# Logger opcional para salvar os resultados:\n",
    "#logger = CSVLogger(save_dir=\"logs/\", name=\"cifar100_experiment\")\n",
    "\n",
    "# Criar o logger do TensorBoard para acompanhar o treinamento:\n",
    "logger = TensorBoardLogger(save_dir=\"logs/\", name=\"cifar100_experiment\")\n",
    "\n",
    "# Inicialize o modelo:\n",
    "model = CIFAR100Classifier()\n",
    "\n",
    "# Salvar o melhor modelo com base na acurácia de validação:\n",
    "checkpoint_callback = ModelCheckpoint(\n",
    "    monitor=\"val_acc\",\n",
    "    mode=\"max\",\n",
    "    filename=\"best_model-{epoch:02d}-{val_acc:.2f}\",\n",
    "    save_top_k=1\n",
    ")\n",
    "\n",
    "# Inicialize o Trainer:\n",
    "trainer = Trainer(\n",
    "    max_epochs=15,\n",
    "    accelerator=\"gpu\",  # Use GPU se disponível\n",
    "    devices=1,          # Número de GPUs\n",
    "    callbacks=[checkpoint_callback],\n",
    "    logger=logger,\n",
    "    log_every_n_steps=10,\n",
    ")\n",
    "\n",
    "# Treinamento:\n",
    "trainer.fit(model, train_loader, val_loader)\n"
   ]
  },
  {
   "cell_type": "markdown",
   "metadata": {},
   "source": [
    "## <font color=\"blue\">Acompanhando o treinamento com TensorBoard</font>\n",
    "\n",
    "* `No terminal:`\n",
    "\n",
    "```bash\n",
    "tensorboard --logdir /home/eddygiusepe/2_EddyGiusepe_Estudo/LightningAI/2_Pytorch_Lightning/logs/cifar100_experiment\n",
    "```\n",
    "\n",
    "\n",
    "* `Numa célula do Jupyter Notebook:`\n",
    "\n",
    "```bash\n",
    "%load_ext tensorboard\n",
    "%tensorboard --logdir /home/eddygiusepe/2_EddyGiusepe_Estudo/LightningAI/2_Pytorch_Lightning/logs/cifar100_experiment\n",
    "```\n"
   ]
  },
  {
   "cell_type": "markdown",
   "metadata": {},
   "source": [
    "# <font color=\"gree\"> Avaliando o Modelo</font>"
   ]
  },
  {
   "cell_type": "code",
   "execution_count": 18,
   "metadata": {},
   "outputs": [
    {
     "name": "stderr",
     "output_type": "stream",
     "text": [
      "LOCAL_RANK: 0 - CUDA_VISIBLE_DEVICES: [0]\n"
     ]
    },
    {
     "data": {
      "application/vnd.jupyter.widget-view+json": {
       "model_id": "090cce16897d4e178e03381f28ca8c14",
       "version_major": 2,
       "version_minor": 0
      },
      "text/plain": [
       "Testing: |          | 0/? [00:00<?, ?it/s]"
      ]
     },
     "metadata": {},
     "output_type": "display_data"
    },
    {
     "data": {
      "text/html": [
       "<pre style=\"white-space:pre;overflow-x:auto;line-height:normal;font-family:Menlo,'DejaVu Sans Mono',consolas,'Courier New',monospace\">┏━━━━━━━━━━━━━━━━━━━━━━━━━━━┳━━━━━━━━━━━━━━━━━━━━━━━━━━━┓\n",
       "┃<span style=\"font-weight: bold\">        Test metric        </span>┃<span style=\"font-weight: bold\">       DataLoader 0        </span>┃\n",
       "┡━━━━━━━━━━━━━━━━━━━━━━━━━━━╇━━━━━━━━━━━━━━━━━━━━━━━━━━━┩\n",
       "│<span style=\"color: #008080; text-decoration-color: #008080\">      test_acc_epoch       </span>│<span style=\"color: #800080; text-decoration-color: #800080\">    0.5103999972343445     </span>│\n",
       "│<span style=\"color: #008080; text-decoration-color: #008080\">      test_loss_epoch      </span>│<span style=\"color: #800080; text-decoration-color: #800080\">    1.7439812421798706     </span>│\n",
       "└───────────────────────────┴───────────────────────────┘\n",
       "</pre>\n"
      ],
      "text/plain": [
       "┏━━━━━━━━━━━━━━━━━━━━━━━━━━━┳━━━━━━━━━━━━━━━━━━━━━━━━━━━┓\n",
       "┃\u001b[1m \u001b[0m\u001b[1m       Test metric       \u001b[0m\u001b[1m \u001b[0m┃\u001b[1m \u001b[0m\u001b[1m      DataLoader 0       \u001b[0m\u001b[1m \u001b[0m┃\n",
       "┡━━━━━━━━━━━━━━━━━━━━━━━━━━━╇━━━━━━━━━━━━━━━━━━━━━━━━━━━┩\n",
       "│\u001b[36m \u001b[0m\u001b[36m     test_acc_epoch      \u001b[0m\u001b[36m \u001b[0m│\u001b[35m \u001b[0m\u001b[35m   0.5103999972343445    \u001b[0m\u001b[35m \u001b[0m│\n",
       "│\u001b[36m \u001b[0m\u001b[36m     test_loss_epoch     \u001b[0m\u001b[36m \u001b[0m│\u001b[35m \u001b[0m\u001b[35m   1.7439812421798706    \u001b[0m\u001b[35m \u001b[0m│\n",
       "└───────────────────────────┴───────────────────────────┘\n"
      ]
     },
     "metadata": {},
     "output_type": "display_data"
    },
    {
     "data": {
      "text/plain": [
       "[{'test_loss_epoch': 1.7439812421798706, 'test_acc_epoch': 0.5103999972343445}]"
      ]
     },
     "execution_count": 18,
     "metadata": {},
     "output_type": "execute_result"
    }
   ],
   "source": [
    "trainer.test(model, test_loader)"
   ]
  }
 ],
 "metadata": {
  "kernelspec": {
   "display_name": "venv_Lightning",
   "language": "python",
   "name": "python3"
  },
  "language_info": {
   "codemirror_mode": {
    "name": "ipython",
    "version": 3
   },
   "file_extension": ".py",
   "mimetype": "text/x-python",
   "name": "python",
   "nbconvert_exporter": "python",
   "pygments_lexer": "ipython3",
   "version": "3.10.12"
  }
 },
 "nbformat": 4,
 "nbformat_minor": 2
}
