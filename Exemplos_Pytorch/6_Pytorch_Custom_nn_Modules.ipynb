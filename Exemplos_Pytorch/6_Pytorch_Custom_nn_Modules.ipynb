{
 "cells": [
  {
   "attachments": {},
   "cell_type": "markdown",
   "metadata": {},
   "source": [
    "<h1 align=\"center\"><font color=\"yellow\">Pytorch: Custom nn Modules</font></h1>"
   ]
  },
  {
   "attachments": {},
   "cell_type": "markdown",
   "metadata": {},
   "source": [
    "<font color=\"yellow\">Data Scientist.: PhD.Eddy Giusepe Chirinos Isidro</font>"
   ]
  },
  {
   "attachments": {},
   "cell_type": "markdown",
   "metadata": {},
   "source": [
    "```\n",
    "Às vezes, você desejará especificar modelos que são mais complexos do que uma sequência de Módulos existentes; para esses casos, você pode definir seus próprios módulos criando subclasses `nn.Module` e definindo um `forward` que recebe tensores de entrada e produz tensores de saída usando outros módulos ou outras operações de autograd em tensores.\n",
    "\n",
    "Neste exemplo, implementamos nosso polinômio de terceira ordem como uma subclasse de módulo personalizada:\n",
    "```"
   ]
  },
  {
   "cell_type": "code",
   "execution_count": 1,
   "metadata": {},
   "outputs": [],
   "source": [
    "# -*- coding: utf-8 -*-\n",
    "import torch\n",
    "import math\n",
    "\n",
    "\n",
    "\n",
    "class Polynomial3(torch.nn.Module):\n",
    "    def __init__(self):\n",
    "        \"\"\"\n",
    "        No construtor, instanciamos quatro parâmetros e os atribuímos como parâmetros de membro.\n",
    "        \"\"\"\n",
    "        super().__init__()\n",
    "        self.a = torch.nn.Parameter(torch.randn(()))\n",
    "        self.b = torch.nn.Parameter(torch.randn(()))\n",
    "        self.c = torch.nn.Parameter(torch.randn(()))\n",
    "        self.d = torch.nn.Parameter(torch.randn(()))\n",
    "\n",
    "    def forward(self, x):\n",
    "        \"\"\"\n",
    "        Na função forward aceitamos um Tensor de dados de entrada e devemos \n",
    "        retornar um Tensor de dados de saída. Podemos usar módulos definidos no construtor, \n",
    "        bem como operadores arbitrários em tensores.\n",
    "        \"\"\"\n",
    "        return self.a + self.b * x + self.c * x ** 2 + self.d * x ** 3\n",
    "\n",
    "    def string(self):\n",
    "        \"\"\"\n",
    "        Assim como qualquer classe em Python, você também pode definir um método \n",
    "        customizado nos módulos PyTorch.\n",
    "        \"\"\"\n",
    "        return f'y = {self.a.item()} + {self.b.item()} x + {self.c.item()} x^2 + {self.d.item()} x^3'"
   ]
  },
  {
   "cell_type": "code",
   "execution_count": 2,
   "metadata": {},
   "outputs": [],
   "source": [
    "# Create Tensors to hold input and outputs.\n",
    "x = torch.linspace(-math.pi, math.pi, 2000)\n",
    "y = torch.sin(x)\n"
   ]
  },
  {
   "cell_type": "code",
   "execution_count": 3,
   "metadata": {},
   "outputs": [],
   "source": [
    "# Construimos nosso modelo instanciando a classe definida acima\n",
    "model = Polynomial3()\n"
   ]
  },
  {
   "attachments": {},
   "cell_type": "markdown",
   "metadata": {},
   "source": [
    "<font color=\"orange\">Construa a `função Loss` e um `Otimizador`. A chamada para `model.parameters()` no construtor `SGD` conterá os parâmetros que podem ser aprendidos (definidos com `torch.nn.Parameter`) que são membros do modelo.</font>"
   ]
  },
  {
   "cell_type": "code",
   "execution_count": 4,
   "metadata": {},
   "outputs": [],
   "source": [
    "criterion = torch.nn.MSELoss(reduction='sum') # reduction='sum' --> A perda será somada em todas as dimensões \n",
    "optimizer = torch.optim.SGD(model.parameters(), lr=1e-6)\n"
   ]
  },
  {
   "cell_type": "code",
   "execution_count": 5,
   "metadata": {},
   "outputs": [
    {
     "name": "stdout",
     "output_type": "stream",
     "text": [
      "99 2831.015625\n",
      "199 1890.9642333984375\n",
      "299 1264.6900634765625\n",
      "399 847.2620239257812\n",
      "499 568.8992309570312\n",
      "599 383.17706298828125\n",
      "699 259.197265625\n",
      "799 176.38690185546875\n",
      "899 121.0418930053711\n",
      "999 84.03009796142578\n",
      "1099 59.26261901855469\n",
      "1199 42.67721176147461\n",
      "1299 31.563148498535156\n",
      "1399 24.109880447387695\n",
      "1499 19.107723236083984\n",
      "1599 15.747928619384766\n",
      "1699 13.489423751831055\n",
      "1799 11.969856262207031\n",
      "1899 10.946593284606934\n",
      "1999 10.256887435913086\n"
     ]
    }
   ],
   "source": [
    "for t in range(2000):\n",
    "    # Forward pass: Compute predicted y by passing x to the model\n",
    "    y_pred = model(x)\n",
    "\n",
    "    # Compute and print loss\n",
    "    loss = criterion(y_pred, y)\n",
    "    if t % 100 == 99:\n",
    "        print(t, loss.item())\n",
    "\n",
    "    # Zero gradients, perform a backward pass, and update the weights.\n",
    "    optimizer.zero_grad()\n",
    "    loss.backward()\n",
    "    optimizer.step()\n",
    "    "
   ]
  },
  {
   "cell_type": "code",
   "execution_count": 6,
   "metadata": {},
   "outputs": [
    {
     "name": "stdout",
     "output_type": "stream",
     "text": [
      "Result: y = 0.02324790321290493 + 0.8266636729240417 x + -0.004010651260614395 x^2 + -0.08905217051506042 x^3\n"
     ]
    }
   ],
   "source": [
    "print(f'Result: {model.string()}')"
   ]
  }
 ],
 "metadata": {
  "kernelspec": {
   "display_name": "LightningAI",
   "language": "python",
   "name": "python3"
  },
  "language_info": {
   "codemirror_mode": {
    "name": "ipython",
    "version": 3
   },
   "file_extension": ".py",
   "mimetype": "text/x-python",
   "name": "python",
   "nbconvert_exporter": "python",
   "pygments_lexer": "ipython3",
   "version": "3.9.13"
  },
  "orig_nbformat": 4
 },
 "nbformat": 4,
 "nbformat_minor": 2
}
