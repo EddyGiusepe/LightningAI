{
 "cells": [
  {
   "attachments": {},
   "cell_type": "markdown",
   "metadata": {},
   "source": [
    "<h1 align=\"center\"><font color=\"yellow\">Pytorch: Deep Learning</font></h1>"
   ]
  },
  {
   "attachments": {},
   "cell_type": "markdown",
   "metadata": {},
   "source": [
    "<font color=\"yellow\">Data Scientist.: PhD.Eddy Giusepe Chirinos Isidro</font>"
   ]
  },
  {
   "attachments": {},
   "cell_type": "markdown",
   "metadata": {},
   "source": [
    "Link de estudo:\n",
    "\n",
    "* [Tutorial: Deep Learning and Neural Networks with Python and Pytorch](https://www.youtube.com/watch?v=BzcBsTou0C0&list=PLQVvvaa0QuDdeMyHEYc0gxFpYwHY2Qfdh&index=1)"
   ]
  },
  {
   "attachments": {},
   "cell_type": "markdown",
   "metadata": {},
   "source": [
    "# Setup e baixando nosso Dados"
   ]
  },
  {
   "cell_type": "code",
   "execution_count": 1,
   "metadata": {},
   "outputs": [],
   "source": [
    "import torch\n",
    "import torchvision\n",
    "from torchvision import transforms, datasets\n",
    "\n",
    "\"\"\"Lembra que são Imagens de 28x28\"\"\"\n",
    "train = datasets.MNIST('datatrain', train=True, download=True,\n",
    "                       transform=transforms.Compose([\n",
    "                           transforms.ToTensor()\n",
    "                       ]))\n",
    "\n",
    "test = datasets.MNIST('datateste', train=False, download=True,\n",
    "                       transform=transforms.Compose([\n",
    "                           transforms.ToTensor()\n",
    "                       ]))"
   ]
  },
  {
   "cell_type": "code",
   "execution_count": 2,
   "metadata": {},
   "outputs": [],
   "source": [
    "trainset = torch.utils.data.DataLoader(train, batch_size=16, shuffle=True)\n",
    "\n",
    "testset = torch.utils.data.DataLoader(test, batch_size=16, shuffle=False)"
   ]
  },
  {
   "cell_type": "code",
   "execution_count": 3,
   "metadata": {},
   "outputs": [
    {
     "name": "stdout",
     "output_type": "stream",
     "text": [
      "[tensor([[[[0., 0., 0.,  ..., 0., 0., 0.],\n",
      "          [0., 0., 0.,  ..., 0., 0., 0.],\n",
      "          [0., 0., 0.,  ..., 0., 0., 0.],\n",
      "          ...,\n",
      "          [0., 0., 0.,  ..., 0., 0., 0.],\n",
      "          [0., 0., 0.,  ..., 0., 0., 0.],\n",
      "          [0., 0., 0.,  ..., 0., 0., 0.]]],\n",
      "\n",
      "\n",
      "        [[[0., 0., 0.,  ..., 0., 0., 0.],\n",
      "          [0., 0., 0.,  ..., 0., 0., 0.],\n",
      "          [0., 0., 0.,  ..., 0., 0., 0.],\n",
      "          ...,\n",
      "          [0., 0., 0.,  ..., 0., 0., 0.],\n",
      "          [0., 0., 0.,  ..., 0., 0., 0.],\n",
      "          [0., 0., 0.,  ..., 0., 0., 0.]]],\n",
      "\n",
      "\n",
      "        [[[0., 0., 0.,  ..., 0., 0., 0.],\n",
      "          [0., 0., 0.,  ..., 0., 0., 0.],\n",
      "          [0., 0., 0.,  ..., 0., 0., 0.],\n",
      "          ...,\n",
      "          [0., 0., 0.,  ..., 0., 0., 0.],\n",
      "          [0., 0., 0.,  ..., 0., 0., 0.],\n",
      "          [0., 0., 0.,  ..., 0., 0., 0.]]],\n",
      "\n",
      "\n",
      "        ...,\n",
      "\n",
      "\n",
      "        [[[0., 0., 0.,  ..., 0., 0., 0.],\n",
      "          [0., 0., 0.,  ..., 0., 0., 0.],\n",
      "          [0., 0., 0.,  ..., 0., 0., 0.],\n",
      "          ...,\n",
      "          [0., 0., 0.,  ..., 0., 0., 0.],\n",
      "          [0., 0., 0.,  ..., 0., 0., 0.],\n",
      "          [0., 0., 0.,  ..., 0., 0., 0.]]],\n",
      "\n",
      "\n",
      "        [[[0., 0., 0.,  ..., 0., 0., 0.],\n",
      "          [0., 0., 0.,  ..., 0., 0., 0.],\n",
      "          [0., 0., 0.,  ..., 0., 0., 0.],\n",
      "          ...,\n",
      "          [0., 0., 0.,  ..., 0., 0., 0.],\n",
      "          [0., 0., 0.,  ..., 0., 0., 0.],\n",
      "          [0., 0., 0.,  ..., 0., 0., 0.]]],\n",
      "\n",
      "\n",
      "        [[[0., 0., 0.,  ..., 0., 0., 0.],\n",
      "          [0., 0., 0.,  ..., 0., 0., 0.],\n",
      "          [0., 0., 0.,  ..., 0., 0., 0.],\n",
      "          ...,\n",
      "          [0., 0., 0.,  ..., 0., 0., 0.],\n",
      "          [0., 0., 0.,  ..., 0., 0., 0.],\n",
      "          [0., 0., 0.,  ..., 0., 0., 0.]]]]), tensor([1, 7, 4, 8, 7, 1, 6, 8, 0, 8, 4, 5, 8, 8, 0, 1])]\n"
     ]
    }
   ],
   "source": [
    "for data in trainset:\n",
    "    print(data)\n",
    "    break # É usado para interromper o loop após a primeira iteração."
   ]
  },
  {
   "attachments": {},
   "cell_type": "markdown",
   "metadata": {},
   "source": [
    "<font color=\"orange\">Cada iteração conterá um lote de 16 elementos.</font>"
   ]
  },
  {
   "cell_type": "code",
   "execution_count": 4,
   "metadata": {},
   "outputs": [],
   "source": [
    "X, y = data[0][0], data[1][0]"
   ]
  },
  {
   "attachments": {},
   "cell_type": "markdown",
   "metadata": {},
   "source": [
    "`data[0]` é um monte de features para as coisas e `data[1]` são todas as targets. Então:"
   ]
  },
  {
   "cell_type": "code",
   "execution_count": 5,
   "metadata": {},
   "outputs": [
    {
     "name": "stdout",
     "output_type": "stream",
     "text": [
      "tensor([1, 7, 4, 8, 7, 1, 6, 8, 0, 8, 4, 5, 8, 8, 0, 1])\n"
     ]
    }
   ],
   "source": [
    "print(data[1])"
   ]
  },
  {
   "cell_type": "code",
   "execution_count": 6,
   "metadata": {},
   "outputs": [
    {
     "data": {
      "text/plain": [
       "tensor(1)"
      ]
     },
     "execution_count": 6,
     "metadata": {},
     "output_type": "execute_result"
    }
   ],
   "source": [
    "y"
   ]
  },
  {
   "cell_type": "code",
   "execution_count": 7,
   "metadata": {},
   "outputs": [
    {
     "data": {
      "text/plain": [
       "torch.Size([1, 28, 28])"
      ]
     },
     "execution_count": 7,
     "metadata": {},
     "output_type": "execute_result"
    }
   ],
   "source": [
    "data[0][0].shape"
   ]
  },
  {
   "attachments": {},
   "cell_type": "markdown",
   "metadata": {},
   "source": [
    "<font color=\"orange\">Como você pode ver, `data[1]` é apenas um monte de `Labels`. Então, como `data[1][0]` é um `1`, podemos esperar `data[0][0]` ser uma `imagem de um 1`. </font>"
   ]
  },
  {
   "cell_type": "code",
   "execution_count": 8,
   "metadata": {},
   "outputs": [
    {
     "data": {
      "image/png": "[encoded data removed]",
      "text/plain": [
       "<Figure size 640x480 with 1 Axes>"
      ]
     },
     "metadata": {},
     "output_type": "display_data"
    }
   ],
   "source": [
    "import matplotlib.pyplot as plt \n",
    "\n",
    "plt.imshow(data[0][0].view(28,28)) # Aqui redimensionamos a Imagem para poder visualizar ela.\n",
    "plt.show()\n"
   ]
  },
  {
   "attachments": {},
   "cell_type": "markdown",
   "metadata": {},
   "source": [
    "<font color=\"orange\">Podemos verificar e ter mais algumas dúvidas:</font>\n",
    "\n",
    "* Temos nossos dados de várias features e suas respectivas classes.\n",
    "* Esses dados são todos numéricos.\n",
    "* Embaralhamos os dados.\n",
    "* Dividimos os dados em grupos de `Treinamento` e `Teste`.\n",
    "\n",
    "* Os dados são dimensionados (`scaled`)?\n",
    "* Os dados estão balanceados (`balanced`)?\n"
   ]
  },
  {
   "attachments": {},
   "cell_type": "markdown",
   "metadata": {},
   "source": [
    "<font color=\"orange\">Parece que temos mais algumas perguntas para responder. \n",
    "\n",
    "* Em primeiro lugar, `é escalado?` Lembre-se de que a rede neural gosta que os dados sejam dimensionados entre `0 e 1` ou `-1 e 1`. Dados de imagens brutas geralmente são `RGB`, onde cada pixel é uma tupla de valores de `0 a 255`, o que é um problema. `0 a 255` não é escalado. `Que tal nosso conjunto de dados aqui?` `É 0-255?` ou `já está escalado para nós?` \n",
    "\n",
    "\n",
    "Vejamos algumas linhas:</font>"
   ]
  },
  {
   "cell_type": "code",
   "execution_count": 9,
   "metadata": {},
   "outputs": [
    {
     "data": {
      "text/plain": [
       "tensor([0., 0., 0., 0., 0., 0., 0., 0., 0., 0., 0., 0., 0., 0., 0., 0., 0., 0., 0., 0., 0., 0., 0., 0.,\n",
       "        0., 0., 0., 0.])"
      ]
     },
     "execution_count": 9,
     "metadata": {},
     "output_type": "execute_result"
    }
   ],
   "source": [
    "data[0][0][0][0]"
   ]
  },
  {
   "attachments": {},
   "cell_type": "markdown",
   "metadata": {},
   "source": [
    "Hum, está vazio. Faz sentido, as primeiras linhas estão em branco provavelmente em muitas imagens. O `1` acima certamente é."
   ]
  },
  {
   "cell_type": "code",
   "execution_count": 11,
   "metadata": {},
   "outputs": [
    {
     "data": {
      "text/plain": [
       "tensor([0.0000, 0.0000, 0.0000, 0.0000, 0.0000, 0.0000, 0.0000, 0.0000, 0.0000,\n",
       "        0.0000, 0.0000, 0.0000, 0.0000, 0.0000, 0.4980, 1.0000, 0.9098, 0.1490,\n",
       "        0.0000, 0.0000, 0.0000, 0.0000, 0.0000, 0.0000, 0.0000, 0.0000, 0.0000,\n",
       "        0.0000])"
      ]
     },
     "execution_count": 11,
     "metadata": {},
     "output_type": "execute_result"
    }
   ],
   "source": [
    "data[0][0][0][5]"
   ]
  },
  {
   "attachments": {},
   "cell_type": "markdown",
   "metadata": {},
   "source": [
    "<font color=\"orange\">Podemos observar, claramente, que nossos dados já estão `dimensionados` para nós.</font>\n",
    "\n",
    ". . . No mundo real, não será assim não 🤣🤣🤣"
   ]
  },
  {
   "attachments": {},
   "cell_type": "markdown",
   "metadata": {},
   "source": [
    "<font color=\"red\">O que é balanceamento de dados?</font>\n",
    "\n",
    "Lembre-se, se não embaralharmos nossos dados, a máquina aprenderá coisas como quais foram as últimas centenas de classes seguidas e provavelmente apenas preverá isso a partir daí.\n",
    "\n",
    "Bem, com o `balanceamento de dados`, algo semelhante pode ocorrer.\n",
    "\n",
    "Imagine que você tenha um conjunto de dados de `cães` e `gatos`. <font color=\"pink\">7200 imagens são de cães</font> e <font color=\"green\">1800 são de gatos</font>. Este é um grande desequilíbrio. É altamente provável que o classificador descubra que pode chegar rápida e facilmente a uma `accuracy de 72%` com uma simples previsão `sempre dog`. É altamente improvável que o modelo se recupere de algo assim.\n",
    "\n",
    "\n",
    "Outras vezes, o desequilíbrio não é tão grave, mas ainda o suficiente para fazer com que o modelo quase sempre preveja uma determinada maneira, exceto nos casos mais óbvios. De qualquer forma, é melhor se pudermos equilibrar o conjunto de dados.\n",
    "\n",
    "Por `\"equilíbrio\"`, quero dizer garantir que haja o mesmo número de exemplos para cada classificação no treinamento.\n",
    "\n",
    "Às vezes, isso simplesmente não é possível. Existem maneiras de lidar com isso com ponderação de classe especial para o otimizador anotar, mas mesmo isso nem sempre funciona. Pessoalmente, nunca tive sucesso com isso em nenhum aplicativo do mundo real.\n",
    "\n",
    "<font color=\"orange\">No nosso caso, `como podemos confirmar o equilíbrio dos dados?` Bem, só precisamos repetir tudo e fazer uma contagem. Bem simples:</font>"
   ]
  },
  {
   "cell_type": "code",
   "execution_count": 14,
   "metadata": {},
   "outputs": [
    {
     "name": "stdout",
     "output_type": "stream",
     "text": [
      "{0: 5923, 1: 6742, 2: 5958, 3: 6131, 4: 5842, 5: 5421, 6: 5918, 7: 6265, 8: 5851, 9: 5949}\n"
     ]
    }
   ],
   "source": [
    "total = 0\n",
    "counter_dict = {0:0, 1:0, 2:0, 3:0, 4:0, 5:0, 6:0, 7:0, 8:0, 9:0}\n",
    "\n",
    "\n",
    "for data in trainset:\n",
    "    Xs, ys = data\n",
    "    for y in ys:\n",
    "        counter_dict[int(y)] += 1\n",
    "        total = total + 1 # ou -->  total += 1\n",
    "\n",
    "\n",
    "print(counter_dict)"
   ]
  },
  {
   "cell_type": "code",
   "execution_count": 16,
   "metadata": {},
   "outputs": [
    {
     "name": "stdout",
     "output_type": "stream",
     "text": [
      "0: 9.871666666666666%\n",
      "1: 11.236666666666666%\n",
      "2: 9.93%\n",
      "3: 10.218333333333334%\n",
      "4: 9.736666666666666%\n",
      "5: 9.035%\n",
      "6: 9.863333333333333%\n",
      "7: 10.441666666666666%\n",
      "8: 9.751666666666667%\n",
      "9: 9.915000000000001%\n"
     ]
    }
   ],
   "source": [
    "for i in counter_dict:\n",
    "    print(f\"{i}: {counter_dict[i]/total*100.0}%\")\n",
    "    "
   ]
  },
  {
   "attachments": {},
   "cell_type": "markdown",
   "metadata": {},
   "source": [
    "<font color=\"orange\">Talvez haja outra maneira de fazer isso. Você pode pesquisar e ver se é possível fazer isso com `torchvision`. Podemos observar que nossos Dados estão ótimos, ou seja, eles não estão desbalanceados drásticamente não.</font>"
   ]
  },
  {
   "attachments": {},
   "cell_type": "markdown",
   "metadata": {},
   "source": [
    "# <font color=\"red\">Criando uma `Neural Network`</font>"
   ]
  },
  {
   "cell_type": "code",
   "execution_count": 22,
   "metadata": {},
   "outputs": [
    {
     "name": "stdout",
     "output_type": "stream",
     "text": [
      "Net(\n",
      "  (fc1): Linear(in_features=784, out_features=64, bias=True)\n",
      "  (fc2): Linear(in_features=64, out_features=64, bias=True)\n",
      "  (fc3): Linear(in_features=64, out_features=64, bias=True)\n",
      "  (fc4): Linear(in_features=64, out_features=10, bias=True)\n",
      ")\n"
     ]
    }
   ],
   "source": [
    "import torch.nn as nn # Camadas de NN (Totalmente conectadas, recorrentes, CNN (para Imagens), etc)\n",
    "import torch.nn.functional as F # Funções de Ativação, etc\n",
    "\n",
    "\n",
    "class Net(nn.Module):\n",
    "\n",
    "    def __init__(self):\n",
    "        super().__init__() # Se você esquecer está linha o erro será --> AttributeError: cannot assign module before Module.__init__() call\n",
    "        self.fc1 = nn.Linear(28*28, 64) # Lembra --> A nossa imagem é 28x28. Você passa para a NN achatada (Flatten) 784.\n",
    "        self.fc2 = nn.Linear(64, 64)\n",
    "        self.fc3 = nn.Linear(64, 64)\n",
    "        self.fc4 = nn.Linear(64, 10)\n",
    "\n",
    "    \n",
    "    def forward(self, x):\n",
    "        x = F.relu(self.fc1(x)) # As funções são aplicadas no lado direito das camadas FCs.\n",
    "        x = F.relu(self.fc2(x)) # As funções de ativação para adicionar não-linearidades \n",
    "        x = F.relu(self.fc3(x))\n",
    "        x = self.fc4(x)\n",
    "        return F.log_softmax(x, dim=1) # log_softmax (frequentemente usada em tarefas de Classificação, em nosso caso Multiclasse) é para converter as saídas em uma distribuição de Probabilidades\n",
    "                                       # dim=1 --> Indica que a função deve ser aplicada ao longo da dimensão 1, que é a dimensão das classes ou rótulos.     \n",
    "\n",
    "\n",
    "# Instanciamos nosso Modelo, nossa Classe:\n",
    "net = Net()\n",
    "print(net)\n",
    "\n"
   ]
  },
  {
   "attachments": {},
   "cell_type": "markdown",
   "metadata": {},
   "source": [
    "<font color=\"orange\">Neste ponto, temos uma Rede Neural para a qual podemos passar dados, e ela nos dará uma saída. Vamos ver. Vamos apenas criar uma imagem aleatória:</font>"
   ]
  },
  {
   "cell_type": "code",
   "execution_count": 26,
   "metadata": {},
   "outputs": [],
   "source": [
    "X = torch.randn((28, 28))"
   ]
  },
  {
   "cell_type": "code",
   "execution_count": null,
   "metadata": {},
   "outputs": [],
   "source": [
    "X"
   ]
  },
  {
   "attachments": {},
   "cell_type": "markdown",
   "metadata": {},
   "source": [
    "<font color=\"orange\">Então, isso é como nossas imagens, um tensor (array) de `28x28` de valores variando de `0 a 1`. Nossa Rede Neural quer que seja `flattened`, porém:</font>"
   ]
  },
  {
   "cell_type": "code",
   "execution_count": 28,
   "metadata": {},
   "outputs": [],
   "source": [
    "X = X.view(-1,28*28) # Preste atenção no -1"
   ]
  },
  {
   "cell_type": "code",
   "execution_count": null,
   "metadata": {},
   "outputs": [],
   "source": [
    "X"
   ]
  },
  {
   "attachments": {},
   "cell_type": "markdown",
   "metadata": {},
   "source": [
    "<font color=\"orange\">Você deve entender a parte `28*28`, mas <font color=\"red\">por que o `-1` inicial?</font>\n",
    "\n",
    "Espera-se que qualquer entrada e saída para nossa rede neural seja um grupo de conjunto de Features.\n",
    "\n",
    "Mesmo que você pretenda passar apenas `1` conjunto de recursos, ainda precisará passá-lo como uma `\"lista\"` de recursos.\n",
    "\n",
    "Em nosso caso, realmente queremos apenas um `1x784`, e poderíamos dizer isso, mas você será mais frequentemente `-1` usado nessas formas. `Por que?` `-1` sugere `\"qualquer tamanho\"`. Então pode ser `1, 12, 92, 15295... etc`. É uma maneira prática de esse `bit` ser variável. Nesse caso, a parte variável é por quantas `\"amostras\"` passaremos.</font>"
   ]
  },
  {
   "cell_type": "code",
   "execution_count": 30,
   "metadata": {},
   "outputs": [],
   "source": [
    "output = net(X)"
   ]
  },
  {
   "attachments": {},
   "cell_type": "markdown",
   "metadata": {},
   "source": [
    "<font color=\"orange\">`O que devemos esperar que seja a saída?` Deve ser um tensor que contém um tensor de nossas `10` classes possíveis:</font>"
   ]
  },
  {
   "cell_type": "code",
   "execution_count": 31,
   "metadata": {},
   "outputs": [
    {
     "data": {
      "text/plain": [
       "tensor([[-2.3759, -2.2699, -2.2933, -2.2171, -2.3031, -2.3721, -2.2877, -2.2051,\n",
       "         -2.3237, -2.3967]], grad_fn=<LogSoftmaxBackward0>)"
      ]
     },
     "execution_count": 31,
     "metadata": {},
     "output_type": "execute_result"
    }
   ],
   "source": [
    "# Com isto verificamos que a função `forward` está funcionando bem.\n",
    "output"
   ]
  },
  {
   "attachments": {},
   "cell_type": "markdown",
   "metadata": {},
   "source": [
    "# <font color=\"red\">Treinando a nossa `Neural Network`</font>"
   ]
  },
  {
   "attachments": {},
   "cell_type": "markdown",
   "metadata": {},
   "source": [
    "Felizmente para nós, os `\"dados\"` que estamos usando do `Pytorch` são, na verdade, objetos sofisticados que estão facilitando nossa vida no momento. Já está em `lotes` bonitos e só precisamos iterar sobre isso. Em seguida, queremos calcular a `Loss` e especificar nosso `Optimizer` (otimizador):"
   ]
  },
  {
   "cell_type": "code",
   "execution_count": 33,
   "metadata": {},
   "outputs": [],
   "source": [
    "import torch.optim as optim \n",
    "\n",
    "loss_function = nn.CrossEntropyLoss()\n",
    "optimizer = optim.Adam(net.parameters(), lr=1e-3) # O método .parameters() é útil para acessar e manipular os parâmetros do modelo.\n"
   ]
  },
  {
   "cell_type": "code",
   "execution_count": 34,
   "metadata": {},
   "outputs": [
    {
     "data": {
      "text/plain": [
       "CrossEntropyLoss()"
      ]
     },
     "execution_count": 34,
     "metadata": {},
     "output_type": "execute_result"
    }
   ],
   "source": [
    "loss_function"
   ]
  },
  {
   "cell_type": "code",
   "execution_count": 35,
   "metadata": {},
   "outputs": [
    {
     "data": {
      "text/plain": [
       "Adam (\n",
       "Parameter Group 0\n",
       "    amsgrad: False\n",
       "    betas: (0.9, 0.999)\n",
       "    capturable: False\n",
       "    differentiable: False\n",
       "    eps: 1e-08\n",
       "    foreach: None\n",
       "    fused: None\n",
       "    lr: 0.001\n",
       "    maximize: False\n",
       "    weight_decay: 0\n",
       ")"
      ]
     },
     "execution_count": 35,
     "metadata": {},
     "output_type": "execute_result"
    }
   ],
   "source": [
    "optimizer"
   ]
  },
  {
   "cell_type": "code",
   "execution_count": 36,
   "metadata": {},
   "outputs": [
    {
     "name": "stdout",
     "output_type": "stream",
     "text": [
      "tensor(0.0299, grad_fn=<NllLossBackward0>)\n",
      "tensor(0.2358, grad_fn=<NllLossBackward0>)\n",
      "tensor(0.0252, grad_fn=<NllLossBackward0>)\n"
     ]
    }
   ],
   "source": [
    "EPOCHS = 3\n",
    "\n",
    "for epoch in range(EPOCHS): # 3 passes completos sobre os dados\n",
    "    for data in trainset:  # `data` é um batch de dados\n",
    "        X, y = data # `X` é o batch de features, `y` é o batch de Targets\n",
    "        net.zero_grad() # Define os Gradientes como 0 antes do cálculo da Loss. Você provavelmente fará isso a cada etapa.\n",
    "        output = net(X.view(-1, 784)) # Passe no batch reshape (lembre-se que são 28x28)\n",
    "        loss = F.nll_loss(output, y) # Calcule e pegue o valor da Loss  \n",
    "        loss.backward() # Aplique esta Loss backwards (para trás) através dos parâmetros da rede \n",
    "        optimizer.step() # Tenta otimizar pesos para contabilizar Loss/Gradients\n",
    "    \n",
    "    print(loss) # Printamos a Loss. Esperamos que a Loss (uma medida do que está errado) diminua!  \n"
   ]
  },
  {
   "attachments": {},
   "cell_type": "markdown",
   "metadata": {},
   "source": [
    "Então, para cada época e para cada lote em nosso conjunto de dados, `o que fazemos?` ... em resumo, fazemos o seguinte:\n",
    "\n",
    "* Pegamos as features (`X`) e Labels (`y`) do batch atual\n",
    "\n",
    "* Zeramos os gradientes (`net.zero_grad`)\n",
    "\n",
    "<font color=\"orange\">É importante fazer isto (`net.zero_grad`) para cada etapa, para não ter gradientes adicionais que foram calculados em passos anteriores.</font>\n",
    "\n",
    "* Passamos os dados por nossa Rede Neural (nosso Modelo)\n",
    "\n",
    "* Calculamos a Loss\n",
    "\n",
    "* Ajustamos os pesos na rede com a esperança de diminuir a Loss\n",
    "\n",
    "\n",
    "À medida que iteramos, obtemos a Loss, que é uma métrica importante, mas nos preocupamos com a accuracy. Então `como fomos?` Para testar isso, tudo o que precisamos fazer é iterar em nosso `conjunto de teste`, medindo a exatidão comparando a saída com os valores alvos."
   ]
  },
  {
   "cell_type": "code",
   "execution_count": 37,
   "metadata": {},
   "outputs": [
    {
     "name": "stdout",
     "output_type": "stream",
     "text": [
      "Accuracy:  0.969\n"
     ]
    }
   ],
   "source": [
    "correct = 0\n",
    "total = 0\n",
    "\n",
    "with torch.no_grad(): # Não calcular o Gradiente ... já que só queremos saber apenas os certos e errados.\n",
    "    for data in testset:\n",
    "        X, y = data\n",
    "        output = net(X.view(-1, 784))\n",
    "        #print(output)\n",
    "        for idx, i in enumerate(output):\n",
    "            #print(torch.argmax(i), y[idx])\n",
    "            if torch.argmax(i) == y[idx]:\n",
    "                correct += 1\n",
    "            total += 1\n",
    "\n",
    "print(\"Accuracy: \", round(correct/total, 3))\n"
   ]
  },
  {
   "cell_type": "code",
   "execution_count": 38,
   "metadata": {},
   "outputs": [
    {
     "data": {
      "image/png": "[encoded data removed]",
      "text/plain": [
       "<Figure size 640x480 with 1 Axes>"
      ]
     },
     "metadata": {},
     "output_type": "display_data"
    }
   ],
   "source": [
    "import matplotlib.pyplot as plt\n",
    "\n",
    "\n",
    "plt.imshow(X[0].view(28, 28))\n",
    "plt.show()"
   ]
  },
  {
   "cell_type": "code",
   "execution_count": 54,
   "metadata": {},
   "outputs": [
    {
     "name": "stdout",
     "output_type": "stream",
     "text": [
      "\u001b[93mA previsão é:\u001b[0m tensor(1)\n"
     ]
    }
   ],
   "source": [
    "print('\\033[93mA previsão é:\\033[0m', torch.argmax(net(X[0].view(-1, 784))[0]))\n"
   ]
  },
  {
   "cell_type": "code",
   "execution_count": 41,
   "metadata": {},
   "outputs": [
    {
     "data": {
      "image/png": "[encoded data removed]",
      "text/plain": [
       "<Figure size 640x480 with 1 Axes>"
      ]
     },
     "metadata": {},
     "output_type": "display_data"
    }
   ],
   "source": [
    "import matplotlib.pyplot as plt\n",
    "\n",
    "\n",
    "plt.imshow(X[1].view(28, 28))\n",
    "plt.show()\n"
   ]
  },
  {
   "cell_type": "code",
   "execution_count": 53,
   "metadata": {},
   "outputs": [
    {
     "name": "stdout",
     "output_type": "stream",
     "text": [
      "\u001b[93mA previsão é:\u001b[0m tensor(2)\n"
     ]
    }
   ],
   "source": [
    "print('\\033[93mA previsão é:\\033[0m', torch.argmax(net(X[1].view(-1, 784))[0]))"
   ]
  },
  {
   "cell_type": "code",
   "execution_count": null,
   "metadata": {},
   "outputs": [],
   "source": []
  }
 ],
 "metadata": {
  "kernelspec": {
   "display_name": "LightningAI",
   "language": "python",
   "name": "python3"
  },
  "language_info": {
   "codemirror_mode": {
    "name": "ipython",
    "version": 3
   },
   "file_extension": ".py",
   "mimetype": "text/x-python",
   "name": "python",
   "nbconvert_exporter": "python",
   "pygments_lexer": "ipython3",
   "version": "3.9.13"
  },
  "orig_nbformat": 4
 },
 "nbformat": 4,
 "nbformat_minor": 2
}
