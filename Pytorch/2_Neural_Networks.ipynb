{
 "cells": [
  {
   "attachments": {},
   "cell_type": "markdown",
   "metadata": {},
   "source": [
    "<h1 align=\"center\"><font color=\"yellow\">Pytorch: Neural Networks</font></h1>"
   ]
  },
  {
   "attachments": {},
   "cell_type": "markdown",
   "metadata": {},
   "source": [
    "<font color=\"yellow\">Data Scientist.: PhD.Eddy Giusepe Chirinos Isidro</font>"
   ]
  },
  {
   "cell_type": "code",
   "execution_count": 1,
   "metadata": {},
   "outputs": [
    {
     "name": "stdout",
     "output_type": "stream",
     "text": [
      "Python implementation: CPython\n",
      "Python version       : 3.9.13\n",
      "IPython version      : 8.13.2\n",
      "\n",
      "numpy     : 1.24.3\n",
      "pandas    : 2.0.1\n",
      "matplotlib: 3.7.1\n",
      "requests  : 2.31.0\n",
      "torch     : 2.0.1\n",
      "\n"
     ]
    }
   ],
   "source": [
    "%load_ext watermark \n",
    "%watermark -v -p numpy,pandas,matplotlib,requests,torch"
   ]
  },
  {
   "cell_type": "code",
   "execution_count": 2,
   "metadata": {},
   "outputs": [],
   "source": [
    "import torch"
   ]
  },
  {
   "attachments": {},
   "cell_type": "markdown",
   "metadata": {},
   "source": [
    "# <font color=\"red\">Modelos Sequenciais</font>"
   ]
  },
  {
   "attachments": {},
   "cell_type": "markdown",
   "metadata": {},
   "source": [
    "A forma mais simples de definir uma `Rede Neural` em `Pytorch` é utilizando a classe `Sequential`. Esta classe nos permite definir uma sequência de camadas, que se aplicaram de maneira sequencial (as saídas de uma camada serão a entrada da seguinte). "
   ]
  },
  {
   "cell_type": "code",
   "execution_count": 3,
   "metadata": {},
   "outputs": [],
   "source": [
    "D_in, H, D_out = 784, 100, 10\n",
    "\n",
    "model = torch.nn.Sequential(torch.nn.Linear(D_in, H), # H --> Hidden\n",
    "                            torch.nn.ReLU(),\n",
    "                            torch.nn.Linear(H, D_out),\n",
    "                           )\n"
   ]
  },
  {
   "attachments": {},
   "cell_type": "markdown",
   "metadata": {},
   "source": [
    "Este modelo anterior é um `MLP` com $784$ entradas, $100$ neurônios na camada oculta e $10$ saídas. Vejamos um exemplo de como calcular as saídas do Modelo a partir de umas entradas de exemplo:"
   ]
  },
  {
   "cell_type": "code",
   "execution_count": 4,
   "metadata": {},
   "outputs": [
    {
     "data": {
      "text/plain": [
       "torch.Size([64, 10])"
      ]
     },
     "execution_count": 4,
     "metadata": {},
     "output_type": "execute_result"
    }
   ],
   "source": [
    "outputs = model(torch.randn(64, 784))\n",
    "outputs.shape\n"
   ]
  },
  {
   "attachments": {},
   "cell_type": "markdown",
   "metadata": {},
   "source": [
    "<font color=\"orange\">É importante observar que os modelos de `Pytorch` (pelo geral) sempre esperam que a primeira dimensão seja a `Dimensão Batch`. Lembramos que treinar na `GPU` é assim:</font>"
   ]
  },
  {
   "cell_type": "code",
   "execution_count": 5,
   "metadata": {},
   "outputs": [
    {
     "data": {
      "text/plain": [
       "Sequential(\n",
       "  (0): Linear(in_features=784, out_features=100, bias=True)\n",
       "  (1): ReLU()\n",
       "  (2): Linear(in_features=100, out_features=10, bias=True)\n",
       ")"
      ]
     },
     "execution_count": 5,
     "metadata": {},
     "output_type": "execute_result"
    }
   ],
   "source": [
    "model.to(\"cuda\")"
   ]
  },
  {
   "attachments": {},
   "cell_type": "markdown",
   "metadata": {},
   "source": [
    "Pegamos como exemplo: MNIST:"
   ]
  },
  {
   "cell_type": "code",
   "execution_count": 6,
   "metadata": {},
   "outputs": [
    {
     "name": "stderr",
     "output_type": "stream",
     "text": [
      "/home/eddygiusepe/miniconda3/envs/LightningAI/lib/python3.9/site-packages/sklearn/datasets/_openml.py:968: FutureWarning: The default value of `parser` will change from `'liac-arff'` to `'auto'` in 1.4. You can set `parser='auto'` to silence this warning. Therefore, an `ImportError` will be raised from 1.4 if the dataset is dense and pandas is not installed. Note that the pandas parser may return different data types. See the Notes Section in fetch_openml's API doc for details.\n",
      "  warn(\n"
     ]
    },
    {
     "data": {
      "text/plain": [
       "((70000, 784), (70000,))"
      ]
     },
     "execution_count": 6,
     "metadata": {},
     "output_type": "execute_result"
    }
   ],
   "source": [
    "from sklearn.datasets import fetch_openml\n",
    "\n",
    "# descarga datos\n",
    "\n",
    "mnist = fetch_openml('mnist_784', version=1)\n",
    "X, Y = mnist[\"data\"], mnist[\"target\"]\n",
    "\n",
    "X.shape, Y.shape"
   ]
  },
  {
   "cell_type": "code",
   "execution_count": 7,
   "metadata": {},
   "outputs": [],
   "source": [
    "import numpy as np\n",
    "\n",
    "# Normalização e Split:\n",
    "\n",
    "X_train, X_test, y_train, y_test = X[:60000] / 255., X[60000:] / 255., Y[:60000].astype(int), Y[60000:].astype(int)"
   ]
  },
  {
   "cell_type": "code",
   "execution_count": 8,
   "metadata": {},
   "outputs": [],
   "source": [
    "# Função Loss e Derivada:\n",
    "\n",
    "def softmax(x):\n",
    "    return torch.exp(x) / torch.exp(x).sum(axis=-1,keepdims=True)\n",
    "\n",
    "\n",
    "def cross_entropy(output, target):\n",
    "    logits = output[torch.arange(len(output)), target]\n",
    "    loss = - logits + torch.log(torch.sum(torch.exp(output), axis=-1))\n",
    "    loss = loss.mean()\n",
    "    return loss"
   ]
  },
  {
   "cell_type": "code",
   "execution_count": 9,
   "metadata": {},
   "outputs": [
    {
     "name": "stdout",
     "output_type": "stream",
     "text": [
      "Epoch 10/1000 Loss 1.76898\n",
      "Epoch 20/1000 Loss 1.43745\n",
      "Epoch 30/1000 Loss 1.24596\n",
      "Epoch 40/1000 Loss 1.07874\n",
      "Epoch 50/1000 Loss 0.95532\n",
      "Epoch 60/1000 Loss 0.85228\n",
      "Epoch 70/1000 Loss 0.77425\n",
      "Epoch 80/1000 Loss 0.71332\n",
      "Epoch 90/1000 Loss 0.66424\n",
      "Epoch 100/1000 Loss 0.62398\n",
      "Epoch 110/1000 Loss 0.59095\n",
      "Epoch 120/1000 Loss 0.56215\n",
      "Epoch 130/1000 Loss 0.53644\n",
      "Epoch 140/1000 Loss 0.51377\n",
      "Epoch 150/1000 Loss 0.49363\n",
      "Epoch 160/1000 Loss 0.47560\n",
      "Epoch 170/1000 Loss 0.45933\n",
      "Epoch 180/1000 Loss 0.44456\n",
      "Epoch 190/1000 Loss 0.43107\n",
      "Epoch 200/1000 Loss 0.41869\n",
      "Epoch 210/1000 Loss 0.40728\n",
      "Epoch 220/1000 Loss 0.39672\n",
      "Epoch 230/1000 Loss 0.38690\n",
      "Epoch 240/1000 Loss 0.37774\n",
      "Epoch 250/1000 Loss 0.36918\n",
      "Epoch 260/1000 Loss 0.36114\n",
      "Epoch 270/1000 Loss 0.35359\n",
      "Epoch 280/1000 Loss 0.34646\n",
      "Epoch 290/1000 Loss 0.33973\n",
      "Epoch 300/1000 Loss 0.33335\n",
      "Epoch 310/1000 Loss 0.32730\n",
      "Epoch 320/1000 Loss 0.32154\n",
      "Epoch 330/1000 Loss 0.31606\n",
      "Epoch 340/1000 Loss 0.31084\n",
      "Epoch 350/1000 Loss 0.30584\n",
      "Epoch 360/1000 Loss 0.30106\n",
      "Epoch 370/1000 Loss 0.29648\n",
      "Epoch 380/1000 Loss 0.29209\n",
      "Epoch 390/1000 Loss 0.28787\n",
      "Epoch 400/1000 Loss 0.28382\n",
      "Epoch 410/1000 Loss 0.27991\n",
      "Epoch 420/1000 Loss 0.27615\n",
      "Epoch 430/1000 Loss 0.27252\n",
      "Epoch 440/1000 Loss 0.26902\n",
      "Epoch 450/1000 Loss 0.26563\n",
      "Epoch 460/1000 Loss 0.26236\n",
      "Epoch 470/1000 Loss 0.25919\n",
      "Epoch 480/1000 Loss 0.25611\n",
      "Epoch 490/1000 Loss 0.25314\n",
      "Epoch 500/1000 Loss 0.25025\n",
      "Epoch 510/1000 Loss 0.24745\n",
      "Epoch 520/1000 Loss 0.24473\n",
      "Epoch 530/1000 Loss 0.24208\n",
      "Epoch 540/1000 Loss 0.23951\n",
      "Epoch 550/1000 Loss 0.23701\n",
      "Epoch 560/1000 Loss 0.23457\n",
      "Epoch 570/1000 Loss 0.23220\n",
      "Epoch 580/1000 Loss 0.22989\n",
      "Epoch 590/1000 Loss 0.22763\n",
      "Epoch 600/1000 Loss 0.22543\n",
      "Epoch 610/1000 Loss 0.22329\n",
      "Epoch 620/1000 Loss 0.22119\n",
      "Epoch 630/1000 Loss 0.21915\n",
      "Epoch 640/1000 Loss 0.21715\n",
      "Epoch 650/1000 Loss 0.21519\n",
      "Epoch 660/1000 Loss 0.21328\n",
      "Epoch 670/1000 Loss 0.21141\n",
      "Epoch 680/1000 Loss 0.20958\n",
      "Epoch 690/1000 Loss 0.20780\n",
      "Epoch 700/1000 Loss 0.20604\n",
      "Epoch 710/1000 Loss 0.20433\n",
      "Epoch 720/1000 Loss 0.20265\n",
      "Epoch 730/1000 Loss 0.20100\n",
      "Epoch 740/1000 Loss 0.19938\n",
      "Epoch 750/1000 Loss 0.19780\n",
      "Epoch 760/1000 Loss 0.19625\n",
      "Epoch 770/1000 Loss 0.19472\n",
      "Epoch 780/1000 Loss 0.19323\n",
      "Epoch 790/1000 Loss 0.19176\n",
      "Epoch 800/1000 Loss 0.19032\n",
      "Epoch 810/1000 Loss 0.18891\n",
      "Epoch 820/1000 Loss 0.18752\n",
      "Epoch 830/1000 Loss 0.18615\n",
      "Epoch 840/1000 Loss 0.18481\n",
      "Epoch 850/1000 Loss 0.18349\n",
      "Epoch 860/1000 Loss 0.18220\n",
      "Epoch 870/1000 Loss 0.18092\n",
      "Epoch 880/1000 Loss 0.17967\n",
      "Epoch 890/1000 Loss 0.17844\n",
      "Epoch 900/1000 Loss 0.17722\n",
      "Epoch 910/1000 Loss 0.17603\n",
      "Epoch 920/1000 Loss 0.17485\n",
      "Epoch 930/1000 Loss 0.17370\n",
      "Epoch 940/1000 Loss 0.17256\n",
      "Epoch 950/1000 Loss 0.17144\n",
      "Epoch 960/1000 Loss 0.17033\n",
      "Epoch 970/1000 Loss 0.16925\n",
      "Epoch 980/1000 Loss 0.16818\n",
      "Epoch 990/1000 Loss 0.16712\n",
      "Epoch 1000/1000 Loss 0.16608\n"
     ]
    }
   ],
   "source": [
    "# Convertemos os dados a tensores e copiamos para a  gpu\n",
    "X_t = torch.from_numpy(X_train.values).float().cuda()\n",
    "Y_t = torch.from_numpy(y_train.values).long().cuda()\n",
    "\n",
    "# Loop de Treinamento\n",
    "epochs = 1000\n",
    "lr = 0.8\n",
    "log_each = 10\n",
    "l = []\n",
    "for e in range(1, epochs+1): \n",
    "    \n",
    "    # forward\n",
    "    y_pred = model(X_t)\n",
    "\n",
    "    # loss\n",
    "    loss = cross_entropy(y_pred, Y_t)\n",
    "    l.append(loss.item())\n",
    "    \n",
    "    # Zeramos os gradientes:\n",
    "    model.zero_grad()\n",
    "\n",
    "    # Backprop (calculamos todos os gradientes automáticamente)\n",
    "    loss.backward()\n",
    "\n",
    "    # update dos pesos:\n",
    "    with torch.no_grad():\n",
    "        for param in model.parameters():\n",
    "            param -= lr * param.grad\n",
    "    \n",
    "    if not e % log_each:\n",
    "        print(f\"Epoch {e}/{epochs} Loss {np.mean(l):.5f}\")\n"
   ]
  },
  {
   "cell_type": "code",
   "execution_count": 10,
   "metadata": {},
   "outputs": [
    {
     "data": {
      "text/plain": [
       "0.9743"
      ]
     },
     "execution_count": 10,
     "metadata": {},
     "output_type": "execute_result"
    }
   ],
   "source": [
    "from sklearn.metrics import accuracy_score\n",
    "\n",
    "def evaluate(x):\n",
    "    model.eval()\n",
    "    y_pred = model(x)\n",
    "    y_probas = softmax(y_pred)\n",
    "    return torch.argmax(y_probas, axis=1)\n",
    "\n",
    "y_pred = evaluate(torch.from_numpy(X_test.values).float().cuda())\n",
    "accuracy_score(y_test, y_pred.cpu().numpy())\n"
   ]
  },
  {
   "attachments": {},
   "cell_type": "markdown",
   "metadata": {},
   "source": [
    "# <font color=\"red\">Otimizadores e Funções de Perda</font>"
   ]
  },
  {
   "attachments": {},
   "cell_type": "markdown",
   "metadata": {},
   "source": [
    "Vamos usar as funções que Pytorch nos facilita. Ver a [Documentação Pytorch](https://pytorch.org/docs/stable/index.html) para mais detalhes."
   ]
  },
  {
   "cell_type": "code",
   "execution_count": 11,
   "metadata": {},
   "outputs": [],
   "source": [
    "criterion = torch.nn.CrossEntropyLoss()\n"
   ]
  },
  {
   "cell_type": "code",
   "execution_count": 12,
   "metadata": {},
   "outputs": [],
   "source": [
    "# Otimizadores em `torch.optim`\n",
    "\n",
    "optimizer = torch.optim.SGD(model.parameters(), lr=0.8)"
   ]
  },
  {
   "attachments": {},
   "cell_type": "markdown",
   "metadata": {},
   "source": [
    "Nosso Loop de Treinamento fica mais compactado, assim:"
   ]
  },
  {
   "cell_type": "code",
   "execution_count": 13,
   "metadata": {},
   "outputs": [
    {
     "name": "stdout",
     "output_type": "stream",
     "text": [
      "Epoch 10/100 Loss 1.85469\n",
      "Epoch 20/100 Loss 1.47284\n",
      "Epoch 30/100 Loss 1.20941\n",
      "Epoch 40/100 Loss 1.03613\n",
      "Epoch 50/100 Loss 0.90591\n",
      "Epoch 60/100 Loss 0.81915\n",
      "Epoch 70/100 Loss 0.74571\n",
      "Epoch 80/100 Loss 0.68822\n",
      "Epoch 90/100 Loss 0.64184\n",
      "Epoch 100/100 Loss 0.60346\n",
      "\n",
      "\u001b[93mA accuracy é: \u001b[0m\n"
     ]
    },
    {
     "data": {
      "text/plain": [
       "0.931"
      ]
     },
     "execution_count": 13,
     "metadata": {},
     "output_type": "execute_result"
    }
   ],
   "source": [
    "model = torch.nn.Sequential(torch.nn.Linear(D_in, H),\n",
    "                            torch.nn.ReLU(),\n",
    "                            torch.nn.Linear(H, D_out),\n",
    "                           ).to(\"cuda\")\n",
    "\n",
    "\n",
    "criterion = torch.nn.CrossEntropyLoss()\n",
    "optimizer = torch.optim.SGD(model.parameters(), lr=0.8)\n",
    "\n",
    "epochs = 100\n",
    "log_each = 10\n",
    "l = []\n",
    "model.train()\n",
    "for e in range(1, epochs+1): \n",
    "    \n",
    "    # forward\n",
    "    y_pred = model(X_t)\n",
    "\n",
    "    # loss\n",
    "    loss = criterion(y_pred, Y_t)\n",
    "    l.append(loss.item())\n",
    "    \n",
    "    # Zeramos os gradientes\n",
    "    optimizer.zero_grad()\n",
    "\n",
    "    # Backprop (calculamos todos os gradientes automáticamente)\n",
    "    loss.backward()\n",
    "\n",
    "    # update dos pesos\n",
    "    optimizer.step()\n",
    "    \n",
    "    if not e % log_each:\n",
    "        print(f\"Epoch {e}/{epochs} Loss {np.mean(l):.5f}\")\n",
    "        \n",
    "y_pred = evaluate(torch.from_numpy(X_test.values).float().cuda())\n",
    "\n",
    "print(\"\")\n",
    "print(\"\\033[93mA accuracy é: \\033[0m\")\n",
    "accuracy_score(y_test, y_pred.cpu().numpy())"
   ]
  },
  {
   "attachments": {},
   "cell_type": "markdown",
   "metadata": {},
   "source": [
    "# <font color=\"pink\">Modelos customizados</font>"
   ]
  },
  {
   "attachments": {},
   "cell_type": "markdown",
   "metadata": {},
   "source": [
    "<font color=\"orange\">Em muitos casos definir uma `Rede Neural` como uma sequência de camadas é suficiente, em outros casos será um fator limitante. `Um exemplo` são as Redes Residuais, nas que não só utilizamos a saída de uma camada para alimentar a seguinte senão que, ademais, sumamos sua própria entrada. Esse tipo de arquitetura não pode ser definida com a classe `Sequential`, para isso precisamos CUSTOMIZAR. Para isso `Pytorch` nos oferece a seguinte sintaxe:</font>"
   ]
  },
  {
   "cell_type": "code",
   "execution_count": 14,
   "metadata": {},
   "outputs": [],
   "source": [
    "# Criamos uma classe que herda de `torch.nn.Module`\n",
    "\n",
    "class Model(torch.nn.Module):\n",
    "    \n",
    "    # Construtor\n",
    "    def __init__(self, D_in, H, D_out):\n",
    "        \n",
    "        # Chamamos ao construtor da classe pai\n",
    "        super(Model, self).__init__()\n",
    "        \n",
    "        # Definimos nossa camadas\n",
    "        self.fc1 = torch.nn.Linear(D_in, H)\n",
    "        self.relu = torch.nn.ReLU()\n",
    "        self.fc2 = torch.nn.Linear(H, D_out)\n",
    "        \n",
    "    # Lógica para calcular as saídas da Rede:\n",
    "    def forward(self, x):\n",
    "        x = self.fc1(x)\n",
    "        x = self.relu(x)\n",
    "        x = self.fc2(x)\n",
    "        return x\n",
    "    "
   ]
  },
  {
   "cell_type": "code",
   "execution_count": 15,
   "metadata": {},
   "outputs": [
    {
     "data": {
      "text/plain": [
       "torch.Size([64, 10])"
      ]
     },
     "execution_count": 15,
     "metadata": {},
     "output_type": "execute_result"
    }
   ],
   "source": [
    "model = Model(784, 100, 10)\n",
    "\n",
    "outputs = model(torch.randn(64, 784))\n",
    "outputs.shape"
   ]
  },
  {
   "attachments": {},
   "cell_type": "markdown",
   "metadata": {},
   "source": [
    "<font color=\"orange\">Agora, podemos treinar a nossa Rede Neural da mesma forma que fizemos anteriormente:</font>"
   ]
  },
  {
   "cell_type": "code",
   "execution_count": 16,
   "metadata": {},
   "outputs": [
    {
     "name": "stdout",
     "output_type": "stream",
     "text": [
      "Epoch 10/500 Loss 1.78496\n",
      "Epoch 20/500 Loss 1.36229\n",
      "Epoch 30/500 Loss 1.13097\n",
      "Epoch 40/500 Loss 0.97517\n",
      "Epoch 50/500 Loss 0.87966\n",
      "Epoch 60/500 Loss 0.79961\n",
      "Epoch 70/500 Loss 0.73613\n",
      "Epoch 80/500 Loss 0.68640\n",
      "Epoch 90/500 Loss 0.64643\n",
      "Epoch 100/500 Loss 0.61382\n",
      "Epoch 110/500 Loss 0.58643\n",
      "Epoch 120/500 Loss 0.56236\n",
      "Epoch 130/500 Loss 0.54115\n",
      "Epoch 140/500 Loss 0.52239\n",
      "Epoch 150/500 Loss 0.50566\n",
      "Epoch 160/500 Loss 0.49062\n",
      "Epoch 170/500 Loss 0.47698\n",
      "Epoch 180/500 Loss 0.46454\n",
      "Epoch 190/500 Loss 0.45311\n",
      "Epoch 200/500 Loss 0.44257\n",
      "Epoch 210/500 Loss 0.43279\n",
      "Epoch 220/500 Loss 0.42369\n",
      "Epoch 230/500 Loss 0.41517\n",
      "Epoch 240/500 Loss 0.40719\n",
      "Epoch 250/500 Loss 0.39967\n",
      "Epoch 260/500 Loss 0.39258\n",
      "Epoch 270/500 Loss 0.38588\n",
      "Epoch 280/500 Loss 0.37951\n",
      "Epoch 290/500 Loss 0.37347\n",
      "Epoch 300/500 Loss 0.36771\n",
      "Epoch 310/500 Loss 0.36222\n",
      "Epoch 320/500 Loss 0.35697\n",
      "Epoch 330/500 Loss 0.35195\n",
      "Epoch 340/500 Loss 0.34713\n",
      "Epoch 350/500 Loss 0.34251\n",
      "Epoch 360/500 Loss 0.33807\n",
      "Epoch 370/500 Loss 0.33379\n",
      "Epoch 380/500 Loss 0.32967\n",
      "Epoch 390/500 Loss 0.32570\n",
      "Epoch 400/500 Loss 0.32186\n",
      "Epoch 410/500 Loss 0.31814\n",
      "Epoch 420/500 Loss 0.31455\n",
      "Epoch 430/500 Loss 0.31108\n",
      "Epoch 440/500 Loss 0.30770\n",
      "Epoch 450/500 Loss 0.30444\n",
      "Epoch 460/500 Loss 0.30126\n",
      "Epoch 470/500 Loss 0.29818\n",
      "Epoch 480/500 Loss 0.29519\n",
      "Epoch 490/500 Loss 0.29227\n",
      "Epoch 500/500 Loss 0.28944\n",
      "\n",
      "\u001b[93mA accuracy é: \u001b[0m\n"
     ]
    },
    {
     "data": {
      "text/plain": [
       "0.9551"
      ]
     },
     "execution_count": 16,
     "metadata": {},
     "output_type": "execute_result"
    }
   ],
   "source": [
    "model.to(\"cuda\")\n",
    "\n",
    "criterion = torch.nn.CrossEntropyLoss()\n",
    "optimizer = torch.optim.SGD(model.parameters(), lr=0.5)\n",
    "\n",
    "epochs = 500\n",
    "log_each = 10\n",
    "l = []\n",
    "model.train()\n",
    "for e in range(1, epochs+1): \n",
    "    \n",
    "    # Função Forward\n",
    "    y_pred = model(X_t)\n",
    "\n",
    "    # loss\n",
    "    loss = criterion(y_pred, Y_t)\n",
    "    l.append(loss.item())\n",
    "    \n",
    "    # ponemos a cero los gradientes\n",
    "    optimizer.zero_grad()\n",
    "\n",
    "    # Backprop (calculamos todos los gradientes automáticamente)\n",
    "    loss.backward()\n",
    "\n",
    "    # update de los pesos\n",
    "    optimizer.step()\n",
    "    \n",
    "    if not e % log_each:\n",
    "        print(f\"Epoch {e}/{epochs} Loss {np.mean(l):.5f}\")\n",
    "        \n",
    "y_pred = evaluate(torch.from_numpy(X_test.values).float().cuda())\n",
    "print(\"\")\n",
    "\n",
    "print(\"\\033[93mA accuracy é: \\033[0m\")\n",
    "accuracy_score(y_test, y_pred.cpu().numpy())\n"
   ]
  },
  {
   "attachments": {},
   "cell_type": "markdown",
   "metadata": {},
   "source": [
    "<font color=\"orange\">A seguir vamos ver outro exemplo de como definir `MLP` com conexões residuais, algo que podemos fazer simplesmente usando um Modelo sequential:</font>"
   ]
  },
  {
   "cell_type": "code",
   "execution_count": 17,
   "metadata": {},
   "outputs": [],
   "source": [
    "class Model(torch.nn.Module):\n",
    "    \n",
    "    def __init__(self, D_in, H, D_out):        \n",
    "        super(Model, self).__init__()\n",
    "        self.fc1 = torch.nn.Linear(D_in, H)\n",
    "        self.relu = torch.nn.ReLU()\n",
    "        self.fc2 = torch.nn.Linear(H, D_out)\n",
    "        \n",
    "    def forward(self, x):\n",
    "        x1 = self.fc1(x)\n",
    "        x = self.relu(x1)\n",
    "        x = self.fc2(x + x1)\n",
    "        return x\n",
    "    "
   ]
  },
  {
   "cell_type": "code",
   "execution_count": 25,
   "metadata": {},
   "outputs": [
    {
     "name": "stdout",
     "output_type": "stream",
     "text": [
      "Epoch 10/300 Loss 1.63359\n",
      "Epoch 20/300 Loss 1.18767\n",
      "Epoch 30/300 Loss 1.01025\n",
      "Epoch 40/300 Loss 0.87232\n",
      "Epoch 50/300 Loss 0.78144\n",
      "Epoch 60/300 Loss 0.72021\n",
      "Epoch 70/300 Loss 0.67277\n",
      "Epoch 80/300 Loss 0.63354\n",
      "Epoch 90/300 Loss 0.60169\n",
      "Epoch 100/300 Loss 0.57529\n",
      "Epoch 110/300 Loss 0.55302\n",
      "Epoch 120/300 Loss 0.53394\n",
      "Epoch 130/300 Loss 0.51742\n",
      "Epoch 140/300 Loss 0.50306\n",
      "Epoch 150/300 Loss 0.49061\n",
      "Epoch 160/300 Loss 0.47957\n",
      "Epoch 170/300 Loss 0.46930\n",
      "Epoch 180/300 Loss 0.45980\n",
      "Epoch 190/300 Loss 0.45109\n",
      "Epoch 200/300 Loss 0.44309\n",
      "Epoch 210/300 Loss 0.43570\n",
      "Epoch 220/300 Loss 0.42886\n",
      "Epoch 230/300 Loss 0.42250\n",
      "Epoch 240/300 Loss 0.41657\n",
      "Epoch 250/300 Loss 0.41102\n",
      "Epoch 260/300 Loss 0.40581\n",
      "Epoch 270/300 Loss 0.40091\n",
      "Epoch 280/300 Loss 0.39628\n",
      "Epoch 290/300 Loss 0.39192\n",
      "Epoch 300/300 Loss 0.38780\n"
     ]
    },
    {
     "data": {
      "text/plain": [
       "0.9263"
      ]
     },
     "execution_count": 25,
     "metadata": {},
     "output_type": "execute_result"
    }
   ],
   "source": [
    "model = Model(784, 100, 10).to(\"cuda\")\n",
    "criterion = torch.nn.CrossEntropyLoss()\n",
    "optimizer = torch.optim.SGD(model.parameters(), lr=0.2)\n",
    "\n",
    "epochs = 300\n",
    "log_each = 10\n",
    "l = []\n",
    "model.train()\n",
    "for e in range(1, epochs+1): \n",
    "    \n",
    "    # forward\n",
    "    y_pred = model(X_t)\n",
    "\n",
    "    # loss\n",
    "    loss = criterion(y_pred, Y_t)\n",
    "    l.append(loss.item())\n",
    "    \n",
    "    # ponemos a cero los gradientes\n",
    "    optimizer.zero_grad()\n",
    "\n",
    "    # Backprop (calculamos todos los gradientes automáticamente)\n",
    "    loss.backward()\n",
    "\n",
    "    # update de los pesos\n",
    "    optimizer.step()\n",
    "    \n",
    "    if not e % log_each:\n",
    "        print(f\"Epoch {e}/{epochs} Loss {np.mean(l):.5f}\")\n",
    "        \n",
    "y_pred = evaluate(torch.from_numpy(X_test.values).float().cuda())\n",
    "accuracy_score(y_test, y_pred.cpu().numpy())\n"
   ]
  },
  {
   "attachments": {},
   "cell_type": "markdown",
   "metadata": {},
   "source": [
    "<font color=\"orange\">Desta maneira, temos muita flexibilidade para definir as nossas Redes.</font>"
   ]
  },
  {
   "attachments": {},
   "cell_type": "markdown",
   "metadata": {},
   "source": [
    "# <font color=\"red\">Acessando às camadas de uma Rede</font>"
   ]
  },
  {
   "cell_type": "code",
   "execution_count": 26,
   "metadata": {},
   "outputs": [
    {
     "data": {
      "text/plain": [
       "Model(\n",
       "  (fc1): Linear(in_features=784, out_features=100, bias=True)\n",
       "  (relu): ReLU()\n",
       "  (fc2): Linear(in_features=100, out_features=10, bias=True)\n",
       ")"
      ]
     },
     "execution_count": 26,
     "metadata": {},
     "output_type": "execute_result"
    }
   ],
   "source": [
    "model"
   ]
  },
  {
   "cell_type": "code",
   "execution_count": 27,
   "metadata": {},
   "outputs": [
    {
     "data": {
      "text/plain": [
       "Linear(in_features=784, out_features=100, bias=True)"
      ]
     },
     "execution_count": 27,
     "metadata": {},
     "output_type": "execute_result"
    }
   ],
   "source": [
    "model.fc1"
   ]
  },
  {
   "attachments": {},
   "cell_type": "markdown",
   "metadata": {},
   "source": [
    "<font color=\"orange\">Também podemos aceder diretamente aos Tensores que contém os parâmetros com as propriedades adequadas:</font>"
   ]
  },
  {
   "cell_type": "code",
   "execution_count": 28,
   "metadata": {},
   "outputs": [
    {
     "data": {
      "text/plain": [
       "Parameter containing:\n",
       "tensor([[ 0.0159, -0.0229,  0.0113,  ..., -0.0183,  0.0072, -0.0007],\n",
       "        [-0.0189, -0.0216, -0.0135,  ..., -0.0063, -0.0003,  0.0232],\n",
       "        [-0.0170, -0.0250, -0.0053,  ..., -0.0132,  0.0067,  0.0086],\n",
       "        ...,\n",
       "        [-0.0180, -0.0107,  0.0088,  ...,  0.0055,  0.0215,  0.0318],\n",
       "        [-0.0067,  0.0273,  0.0289,  ...,  0.0233,  0.0005,  0.0336],\n",
       "        [-0.0323,  0.0089, -0.0010,  ...,  0.0157, -0.0080, -0.0112]],\n",
       "       device='cuda:0', requires_grad=True)"
      ]
     },
     "execution_count": 28,
     "metadata": {},
     "output_type": "execute_result"
    }
   ],
   "source": [
    "model.fc1.weight"
   ]
  },
  {
   "cell_type": "code",
   "execution_count": 29,
   "metadata": {},
   "outputs": [
    {
     "data": {
      "text/plain": [
       "Parameter containing:\n",
       "tensor([ 0.1082, -0.0217,  0.1455,  0.0188, -0.0056,  0.0581,  0.1001,  0.1073,\n",
       "         0.0963, -0.0345,  0.0243,  0.0543,  0.0204, -0.0627,  0.0835,  0.0312,\n",
       "         0.0204,  0.0597, -0.0005,  0.0392, -0.0237,  0.0480,  0.0710,  0.0781,\n",
       "         0.0917, -0.0373,  0.0061,  0.0374,  0.0402,  0.0301,  0.0962,  0.0024,\n",
       "         0.0268,  0.0414,  0.1452,  0.0637, -0.0013,  0.0554, -0.0441,  0.0666,\n",
       "         0.0002, -0.0438, -0.0196,  0.0400,  0.0073,  0.0926,  0.0123,  0.0045,\n",
       "         0.0761, -0.0249,  0.1841,  0.0791,  0.0968, -0.0323, -0.0499, -0.0494,\n",
       "        -0.0205,  0.0655,  0.0882,  0.0645, -0.0514, -0.0200,  0.0351,  0.0148,\n",
       "        -0.0408,  0.0727,  0.0690,  0.0370,  0.0026,  0.0065, -0.0556, -0.0213,\n",
       "         0.0795, -0.0045,  0.0572,  0.0283,  0.0649, -0.0406, -0.0110,  0.0244,\n",
       "        -0.0532,  0.0339, -0.1059, -0.0242, -0.0016,  0.0421, -0.0104,  0.0575,\n",
       "         0.0158,  0.0851,  0.0120, -0.0594, -0.0497,  0.0238, -0.0286,  0.0692,\n",
       "         0.0486, -0.0196, -0.0327, -0.0220], device='cuda:0',\n",
       "       requires_grad=True)"
      ]
     },
     "execution_count": 29,
     "metadata": {},
     "output_type": "execute_result"
    }
   ],
   "source": [
    "model.fc1.bias"
   ]
  },
  {
   "attachments": {},
   "cell_type": "markdown",
   "metadata": {},
   "source": [
    "É possível `sobreescrever` uma camada da seguinte maneira:"
   ]
  },
  {
   "cell_type": "code",
   "execution_count": 30,
   "metadata": {},
   "outputs": [
    {
     "data": {
      "text/plain": [
       "Model(\n",
       "  (fc1): Linear(in_features=784, out_features=100, bias=True)\n",
       "  (relu): ReLU()\n",
       "  (fc2): Linear(in_features=100, out_features=1, bias=True)\n",
       ")"
      ]
     },
     "execution_count": 30,
     "metadata": {},
     "output_type": "execute_result"
    }
   ],
   "source": [
    "model.fc2 = torch.nn.Linear(100, 1)\n",
    "\n",
    "model"
   ]
  },
  {
   "attachments": {},
   "cell_type": "markdown",
   "metadata": {},
   "source": [
    "<font color=\"orange\">Mais truques:</font>"
   ]
  },
  {
   "cell_type": "code",
   "execution_count": 31,
   "metadata": {},
   "outputs": [
    {
     "data": {
      "text/plain": [
       "[Linear(in_features=784, out_features=100, bias=True),\n",
       " ReLU(),\n",
       " Linear(in_features=100, out_features=1, bias=True)]"
      ]
     },
     "execution_count": 31,
     "metadata": {},
     "output_type": "execute_result"
    }
   ],
   "source": [
    "# Obter uma lista com a camadas de uma Red\n",
    "\n",
    "list(model.children())"
   ]
  },
  {
   "cell_type": "code",
   "execution_count": 32,
   "metadata": {},
   "outputs": [
    {
     "data": {
      "text/plain": [
       "Sequential(\n",
       "  (0): Linear(in_features=784, out_features=100, bias=True)\n",
       ")"
      ]
     },
     "execution_count": 32,
     "metadata": {},
     "output_type": "execute_result"
    }
   ],
   "source": [
    "# Cria uma nova REDE a partir da lista (excluindo as últimas duas camadas)\n",
    "\n",
    "new_model = torch.nn.Sequential(*list(model.children())[:-2])\n",
    "new_model "
   ]
  },
  {
   "cell_type": "code",
   "execution_count": 33,
   "metadata": {},
   "outputs": [
    {
     "data": {
      "text/plain": [
       "ModuleList(\n",
       "  (0): Linear(in_features=784, out_features=100, bias=True)\n",
       "  (1): ReLU()\n",
       ")"
      ]
     },
     "execution_count": 33,
     "metadata": {},
     "output_type": "execute_result"
    }
   ],
   "source": [
    "# Cria uma nova REDE a partir da lista (excluindo a última camada)\n",
    "\n",
    "new_model = torch.nn.ModuleList(list(model.children())[:-1])\n",
    "new_model"
   ]
  }
 ],
 "metadata": {
  "kernelspec": {
   "display_name": "LightningAI",
   "language": "python",
   "name": "python3"
  },
  "language_info": {
   "codemirror_mode": {
    "name": "ipython",
    "version": 3
   },
   "file_extension": ".py",
   "mimetype": "text/x-python",
   "name": "python",
   "nbconvert_exporter": "python",
   "pygments_lexer": "ipython3",
   "version": "3.9.13"
  },
  "orig_nbformat": 4
 },
 "nbformat": 4,
 "nbformat_minor": 2
}
