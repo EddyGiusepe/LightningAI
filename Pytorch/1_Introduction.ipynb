{
 "cells": [
  {
   "attachments": {},
   "cell_type": "markdown",
   "metadata": {},
   "source": [
    "<h1 align=\"center\"><font color=\"yellow\">Pytorch: Introdução</font></h1>"
   ]
  },
  {
   "attachments": {},
   "cell_type": "markdown",
   "metadata": {},
   "source": [
    "<font color=\"yellow\">Data Scientist.: PhD.Eddy Giusepe Chirinos Isidro</font>"
   ]
  },
  {
   "cell_type": "code",
   "execution_count": null,
   "metadata": {},
   "outputs": [],
   "source": [
    "%conda install requests,matplotlib --yes"
   ]
  },
  {
   "cell_type": "code",
   "execution_count": 1,
   "metadata": {},
   "outputs": [
    {
     "name": "stdout",
     "output_type": "stream",
     "text": [
      "Python implementation: CPython\n",
      "Python version       : 3.9.13\n",
      "IPython version      : 8.13.2\n",
      "\n",
      "numpy     : 1.24.3\n",
      "pandas    : 2.0.1\n",
      "matplotlib: 3.7.1\n",
      "requests  : 2.31.0\n",
      "torch     : 2.0.1\n",
      "\n"
     ]
    }
   ],
   "source": [
    "%load_ext watermark \n",
    "%watermark -v -p numpy,pandas,matplotlib,requests,torch"
   ]
  },
  {
   "cell_type": "code",
   "execution_count": 2,
   "metadata": {},
   "outputs": [
    {
     "name": "stdout",
     "output_type": "stream",
     "text": [
      "2.0.1+cu117\n"
     ]
    }
   ],
   "source": [
    "import torch\n",
    "\n",
    "print(torch.__version__)"
   ]
  },
  {
   "attachments": {},
   "cell_type": "markdown",
   "metadata": {},
   "source": [
    "Da mesma maneira que em `NumPy` o objeto principal é o `ndarray`, em `Pytorch` o objeto principal é o `Tensor`.Podemos definir um Tensor de maneira similar a como definimos um `array`, incluso podemos inicializar Tensores a partir de arrays."
   ]
  },
  {
   "cell_type": "code",
   "execution_count": 3,
   "metadata": {},
   "outputs": [
    {
     "data": {
      "text/plain": [
       "tensor([[0., 0., 0.],\n",
       "        [0., 0., 0.],\n",
       "        [0., 0., 0.],\n",
       "        [0., 0., 0.],\n",
       "        [0., 0., 0.]])"
      ]
     },
     "execution_count": 3,
     "metadata": {},
     "output_type": "execute_result"
    }
   ],
   "source": [
    "# Matriz de zeros, 5 filas y 3 colunas\n",
    "x = torch.zeros(5, 3)\n",
    "x"
   ]
  },
  {
   "cell_type": "code",
   "execution_count": 4,
   "metadata": {},
   "outputs": [
    {
     "data": {
      "text/plain": [
       "tensor([[[ 0.8140, -0.4017],\n",
       "         [-0.5626,  0.4431],\n",
       "         [-0.9916, -0.3882]],\n",
       "\n",
       "        [[-2.4016, -0.4374],\n",
       "         [-0.7299, -1.2057],\n",
       "         [ 0.3628,  2.0732]],\n",
       "\n",
       "        [[ 0.3651,  0.0127],\n",
       "         [-0.8149,  1.1671],\n",
       "         [-0.1458, -0.9957]],\n",
       "\n",
       "        [[-0.2868,  0.9642],\n",
       "         [ 0.5141, -0.7969],\n",
       "         [ 0.0847, -0.7401]],\n",
       "\n",
       "        [[ 0.2627, -1.0439],\n",
       "         [ 0.9999,  0.3457],\n",
       "         [-0.3190, -0.4115]]])"
      ]
     },
     "execution_count": 4,
     "metadata": {},
     "output_type": "execute_result"
    }
   ],
   "source": [
    "# Tensor com valores aleatórios\n",
    "x = torch.randn(5, 3, 2) # Três dimensões\n",
    "x"
   ]
  },
  {
   "cell_type": "code",
   "execution_count": 5,
   "metadata": {},
   "outputs": [
    {
     "data": {
      "text/plain": [
       "tensor([[1, 2, 3],\n",
       "        [4, 5, 6]])"
      ]
     },
     "execution_count": 5,
     "metadata": {},
     "output_type": "execute_result"
    }
   ],
   "source": [
    "# Tensor a partir da lista \n",
    "x = torch.tensor([[1, 2, 3],[4, 5, 6]])\n",
    "x"
   ]
  },
  {
   "cell_type": "code",
   "execution_count": 6,
   "metadata": {},
   "outputs": [
    {
     "data": {
      "text/plain": [
       "tensor([[1, 2, 3],\n",
       "        [4, 5, 6]])"
      ]
     },
     "execution_count": 6,
     "metadata": {},
     "output_type": "execute_result"
    }
   ],
   "source": [
    "import numpy as np\n",
    "\n",
    "# Tensor a partir de um array numpy\n",
    "\n",
    "a = np.array([[1, 2, 3],[4, 5, 6]])\n",
    "x = torch.from_numpy(a)\n",
    "x"
   ]
  },
  {
   "attachments": {},
   "cell_type": "markdown",
   "metadata": {},
   "source": [
    "<font color=\"orange\">Também podemos fazer operações:</font>"
   ]
  },
  {
   "cell_type": "code",
   "execution_count": 7,
   "metadata": {},
   "outputs": [],
   "source": [
    "# Definimos dois tensores quaisquer\n",
    "\n",
    "x = torch.randn(3, 3)\n",
    "y = torch.randn(3, 3)"
   ]
  },
  {
   "cell_type": "code",
   "execution_count": 8,
   "metadata": {},
   "outputs": [
    {
     "data": {
      "text/plain": [
       "tensor([[-1.1333,  1.0987,  0.0331],\n",
       "        [-0.6437,  0.1099,  0.9999],\n",
       "        [-0.0128,  2.2600, -1.0563]])"
      ]
     },
     "execution_count": 8,
     "metadata": {},
     "output_type": "execute_result"
    }
   ],
   "source": [
    "x"
   ]
  },
  {
   "cell_type": "code",
   "execution_count": 9,
   "metadata": {},
   "outputs": [
    {
     "data": {
      "text/plain": [
       "tensor([[-0.4598, -0.2686, -0.9413],\n",
       "        [-1.8110, -0.6192, -0.6662],\n",
       "        [ 1.3519,  0.3514, -0.2391]])"
      ]
     },
     "execution_count": 9,
     "metadata": {},
     "output_type": "execute_result"
    }
   ],
   "source": [
    "y"
   ]
  },
  {
   "cell_type": "code",
   "execution_count": 10,
   "metadata": {},
   "outputs": [
    {
     "data": {
      "text/plain": [
       "tensor([[-1.5931,  0.8301, -0.9082],\n",
       "        [-2.4547, -0.5093,  0.3337],\n",
       "        [ 1.3391,  2.6114, -1.2955]])"
      ]
     },
     "execution_count": 10,
     "metadata": {},
     "output_type": "execute_result"
    }
   ],
   "source": [
    "x + y"
   ]
  },
  {
   "cell_type": "code",
   "execution_count": 11,
   "metadata": {},
   "outputs": [
    {
     "data": {
      "text/plain": [
       "tensor([[-0.6735,  1.3673,  0.9745],\n",
       "        [ 1.1673,  0.7291,  1.6662],\n",
       "        [-1.3648,  1.9086, -0.8172]])"
      ]
     },
     "execution_count": 11,
     "metadata": {},
     "output_type": "execute_result"
    }
   ],
   "source": [
    "x - y"
   ]
  },
  {
   "cell_type": "code",
   "execution_count": 12,
   "metadata": {},
   "outputs": [
    {
     "data": {
      "text/plain": [
       "tensor([-1.1333,  1.0987,  0.0331])"
      ]
     },
     "execution_count": 12,
     "metadata": {},
     "output_type": "execute_result"
    }
   ],
   "source": [
    "# Indexado\n",
    "\n",
    "# primera fila\n",
    "\n",
    "x[0]"
   ]
  },
  {
   "cell_type": "code",
   "execution_count": 13,
   "metadata": {},
   "outputs": [
    {
     "data": {
      "text/plain": [
       "tensor([-0.6437,  0.1099,  0.9999])"
      ]
     },
     "execution_count": 13,
     "metadata": {},
     "output_type": "execute_result"
    }
   ],
   "source": [
    "# Segunda fila\n",
    "x[1]"
   ]
  },
  {
   "cell_type": "code",
   "execution_count": 14,
   "metadata": {},
   "outputs": [
    {
     "data": {
      "text/plain": [
       "tensor(-1.1333)"
      ]
     },
     "execution_count": 14,
     "metadata": {},
     "output_type": "execute_result"
    }
   ],
   "source": [
    "# Primeira fila, primeira columna\n",
    "\n",
    "x[0, 0]"
   ]
  },
  {
   "cell_type": "code",
   "execution_count": 15,
   "metadata": {},
   "outputs": [
    {
     "data": {
      "text/plain": [
       "tensor([-1.1333,  1.0987,  0.0331])"
      ]
     },
     "execution_count": 15,
     "metadata": {},
     "output_type": "execute_result"
    }
   ],
   "source": [
    "# Primeira fila\n",
    "\n",
    "x[0, :]"
   ]
  },
  {
   "cell_type": "code",
   "execution_count": 16,
   "metadata": {},
   "outputs": [
    {
     "data": {
      "text/plain": [
       "tensor([[-1.1333,  1.0987,  0.0331],\n",
       "        [-0.6437,  0.1099,  0.9999],\n",
       "        [-0.0128,  2.2600, -1.0563]])"
      ]
     },
     "execution_count": 16,
     "metadata": {},
     "output_type": "execute_result"
    }
   ],
   "source": [
    "x"
   ]
  },
  {
   "cell_type": "code",
   "execution_count": 17,
   "metadata": {},
   "outputs": [
    {
     "data": {
      "text/plain": [
       "tensor([[1.0987, 0.0331],\n",
       "        [0.1099, 0.9999]])"
      ]
     },
     "execution_count": 17,
     "metadata": {},
     "output_type": "execute_result"
    }
   ],
   "source": [
    "# Troceado\n",
    "\n",
    "x[:-1, 1:]"
   ]
  },
  {
   "cell_type": "code",
   "execution_count": 18,
   "metadata": {},
   "outputs": [
    {
     "data": {
      "text/plain": [
       "torch.Size([3, 3])"
      ]
     },
     "execution_count": 18,
     "metadata": {},
     "output_type": "execute_result"
    }
   ],
   "source": [
    "x.shape"
   ]
  },
  {
   "cell_type": "code",
   "execution_count": 19,
   "metadata": {},
   "outputs": [
    {
     "data": {
      "text/plain": [
       "torch.Size([1, 3, 3])"
      ]
     },
     "execution_count": 19,
     "metadata": {},
     "output_type": "execute_result"
    }
   ],
   "source": [
    "# añadimos una dimensión extra\n",
    "\n",
    "x.view(1, 3, 3).shape"
   ]
  },
  {
   "cell_type": "code",
   "execution_count": 20,
   "metadata": {},
   "outputs": [
    {
     "data": {
      "text/plain": [
       "tensor([[-1.1333,  1.0987,  0.0331],\n",
       "        [-0.6437,  0.1099,  0.9999],\n",
       "        [-0.0128,  2.2600, -1.0563]])"
      ]
     },
     "execution_count": 20,
     "metadata": {},
     "output_type": "execute_result"
    }
   ],
   "source": [
    "x"
   ]
  },
  {
   "cell_type": "code",
   "execution_count": 21,
   "metadata": {},
   "outputs": [
    {
     "data": {
      "text/plain": [
       "torch.Size([9])"
      ]
     },
     "execution_count": 21,
     "metadata": {},
     "output_type": "execute_result"
    }
   ],
   "source": [
    "# Esticamos em uma só dimensão\n",
    "\n",
    "x.view(9).shape"
   ]
  },
  {
   "cell_type": "code",
   "execution_count": 22,
   "metadata": {},
   "outputs": [
    {
     "data": {
      "text/plain": [
       "tensor([[-1.1333,  1.0987,  0.0331],\n",
       "        [-0.6437,  0.1099,  0.9999],\n",
       "        [-0.0128,  2.2600, -1.0563]])"
      ]
     },
     "execution_count": 22,
     "metadata": {},
     "output_type": "execute_result"
    }
   ],
   "source": [
    "x"
   ]
  },
  {
   "cell_type": "code",
   "execution_count": 23,
   "metadata": {},
   "outputs": [
    {
     "data": {
      "text/plain": [
       "torch.Size([9])"
      ]
     },
     "execution_count": 23,
     "metadata": {},
     "output_type": "execute_result"
    }
   ],
   "source": [
    "# Usamos -1 para asignar todos los valores restantes a una dimensión\n",
    "\n",
    "x.view(-1).shape"
   ]
  },
  {
   "attachments": {},
   "cell_type": "markdown",
   "metadata": {},
   "source": [
    "Podemos transformar um `Tensor` em um `array` com a função `NumPy`."
   ]
  },
  {
   "cell_type": "code",
   "execution_count": 24,
   "metadata": {},
   "outputs": [
    {
     "data": {
      "text/plain": [
       "array([[-1.1333096 ,  1.0986823 ,  0.03312506],\n",
       "       [-0.64367604,  0.10992441,  0.99993604],\n",
       "       [-0.01284594,  2.2599814 , -1.0563228 ]], dtype=float32)"
      ]
     },
     "execution_count": 24,
     "metadata": {},
     "output_type": "execute_result"
    }
   ],
   "source": [
    "x.numpy()"
   ]
  },
  {
   "attachments": {},
   "cell_type": "markdown",
   "metadata": {},
   "source": [
    "# <font color=\"red\">Autograd</font>"
   ]
  },
  {
   "attachments": {},
   "cell_type": "markdown",
   "metadata": {},
   "source": [
    "A qual nos proporciona a possibilidade de calcular DERIVADAS de maneira automática com respeito a qualquer `Tensor`. Pytorch vai construindo de maneira dinamica um `Grafo computacional`. Já veremos como aplicar, também, `backpropagation` (que é simplesmente a Regra da Cadeia da Derivada) no Grafo."
   ]
  },
  {
   "cell_type": "code",
   "execution_count": 25,
   "metadata": {},
   "outputs": [],
   "source": [
    "x = torch.tensor(1., requires_grad=True) # Tem que ser TRUE para poder calcular derivadas delas\n",
    "y = torch.tensor(2., requires_grad=True)\n",
    "p = x + y\n",
    "\n",
    "\n",
    "z = torch.tensor(3., requires_grad=True)\n",
    "g = p * z"
   ]
  },
  {
   "cell_type": "code",
   "execution_count": 26,
   "metadata": {},
   "outputs": [
    {
     "data": {
      "text/plain": [
       "tensor(1., requires_grad=True)"
      ]
     },
     "execution_count": 26,
     "metadata": {},
     "output_type": "execute_result"
    }
   ],
   "source": [
    "x"
   ]
  },
  {
   "attachments": {},
   "cell_type": "markdown",
   "metadata": {},
   "source": [
    "O Grafo seria o seguinte:"
   ]
  },
  {
   "attachments": {},
   "cell_type": "markdown",
   "metadata": {},
   "source": [
    "![](https://www.tutorialspoint.com/python_deep_learning/images/computational_graph_equation2.jpg)"
   ]
  },
  {
   "attachments": {},
   "cell_type": "markdown",
   "metadata": {},
   "source": [
    "<font color=\"orange\">Se queremos calcular as derivadas de `g` com respeito a `x`, `y` e `z`, é tão fácil como chamar à função `backward`:</font>"
   ]
  },
  {
   "cell_type": "code",
   "execution_count": 27,
   "metadata": {},
   "outputs": [],
   "source": [
    "g.backward()\n"
   ]
  },
  {
   "attachments": {},
   "cell_type": "markdown",
   "metadata": {},
   "source": [
    "<font color=\"orange\">Neste ponto, `Pytorch` a aplicado o algoritmo de `backpropagation` acima do `Grafo computacional`, calculando todas as Derivadas:</font>\n",
    "\n",
    "$$\\frac{dg}{dz} = p$$"
   ]
  },
  {
   "cell_type": "code",
   "execution_count": 28,
   "metadata": {},
   "outputs": [
    {
     "data": {
      "text/plain": [
       "tensor(3.)"
      ]
     },
     "execution_count": 28,
     "metadata": {},
     "output_type": "execute_result"
    }
   ],
   "source": [
    "z.grad"
   ]
  },
  {
   "attachments": {},
   "cell_type": "markdown",
   "metadata": {},
   "source": [
    "$$ \\frac{dg}{dx} = \\frac{dg}{dp} \\frac{dp}{dx} = z $$"
   ]
  },
  {
   "cell_type": "code",
   "execution_count": 29,
   "metadata": {},
   "outputs": [
    {
     "data": {
      "text/plain": [
       "tensor(3.)"
      ]
     },
     "execution_count": 29,
     "metadata": {},
     "output_type": "execute_result"
    }
   ],
   "source": [
    "x.grad"
   ]
  },
  {
   "attachments": {},
   "cell_type": "markdown",
   "metadata": {},
   "source": [
    "$$ \\frac{dg}{dy} = \\frac{dg}{dp} \\frac{dp}{dy} = z $$"
   ]
  },
  {
   "cell_type": "code",
   "execution_count": 30,
   "metadata": {},
   "outputs": [
    {
     "data": {
      "text/plain": [
       "tensor(3.)"
      ]
     },
     "execution_count": 30,
     "metadata": {},
     "output_type": "execute_result"
    }
   ],
   "source": [
    "y.grad"
   ]
  },
  {
   "cell_type": "code",
   "execution_count": 31,
   "metadata": {},
   "outputs": [
    {
     "name": "stdout",
     "output_type": "stream",
     "text": [
      "tensor([4.])\n"
     ]
    }
   ],
   "source": [
    "import torch\n",
    "\n",
    "# Cria um tensor\n",
    "x = torch.tensor([2.0], requires_grad=True)\n",
    "\n",
    "# Realiza uma operação com o tensor\n",
    "y = x**2\n",
    "\n",
    "# Realiza o backpropagation\n",
    "y.backward()\n",
    "\n",
    "# Imprime o gradiente do tensor x (Pelo que Eu entendi: Obtemos o valor da Derivada de `y` em relação a `x`, que é 4.0, um tensor.)\n",
    "print(x.grad)\n"
   ]
  },
  {
   "attachments": {},
   "cell_type": "markdown",
   "metadata": {},
   "source": [
    "<font color=\"orange\">Como podemos observar, o `Grafo computacional` é uma ferramenta extraordinária para desenhar `Redes Neurais` de complexidade arbitrária. Com uma simples função, graças ao algoritmo de `Backpropagation`, podemos calcular as Derivadas de maneira simples (**cada nó que representa uma operação só necessita calcular sua própria derivada de maneira local**) e otimizar o modelo como nosso algoritmo de gradiente preferido.</font>"
   ]
  },
  {
   "attachments": {},
   "cell_type": "markdown",
   "metadata": {},
   "source": [
    "# Usando GPU"
   ]
  },
  {
   "cell_type": "code",
   "execution_count": 32,
   "metadata": {},
   "outputs": [
    {
     "data": {
      "text/plain": [
       "True"
      ]
     },
     "execution_count": 32,
     "metadata": {},
     "output_type": "execute_result"
    }
   ],
   "source": [
    "# Comprovando se temos GPU\n",
    "torch.cuda.is_available()"
   ]
  },
  {
   "cell_type": "code",
   "execution_count": 33,
   "metadata": {},
   "outputs": [
    {
     "name": "stdout",
     "output_type": "stream",
     "text": [
      "Nome da GPU: NVIDIA GeForce MX450\n",
      "Memória Total: 1961295872\n",
      "Multiprocessadores: 14\n"
     ]
    }
   ],
   "source": [
    "import torch\n",
    "\n",
    "if torch.cuda.is_available():\n",
    "    device = torch.cuda.get_device_name(0)\n",
    "    print(\"Nome da GPU:\", device)\n",
    "    print(\"Memória Total:\", torch.cuda.get_device_properties(0).total_memory)\n",
    "    print(\"Multiprocessadores:\", torch.cuda.get_device_properties(0).multi_processor_count)\n",
    "    #print(\"Clock da GPU:\", torch.cuda.get_device_properties(0).clock_rate)\n",
    "else:\n",
    "    print(\"GPU não está disponível\")\n",
    "\n"
   ]
  },
  {
   "cell_type": "code",
   "execution_count": 34,
   "metadata": {},
   "outputs": [
    {
     "name": "stdout",
     "output_type": "stream",
     "text": [
      "CPU times: user 118 ms, sys: 258 ms, total: 376 ms\n",
      "Wall time: 100 ms\n"
     ]
    }
   ],
   "source": [
    "x = torch.randn(10000,10000)\n",
    "y = torch.randn(10000,10000)\n",
    "\n",
    "%time z = x*y"
   ]
  },
  {
   "cell_type": "code",
   "execution_count": 35,
   "metadata": {},
   "outputs": [
    {
     "name": "stdout",
     "output_type": "stream",
     "text": [
      "CPU times: user 427 µs, sys: 12.3 ms, total: 12.7 ms\n",
      "Wall time: 14.4 ms\n"
     ]
    }
   ],
   "source": [
    "x = torch.randn(10000,10000).to('cuda') # ou x = torch.randn(10000,10000).cuda()\n",
    "y = torch.randn(10000,10000).to('cuda')\n",
    "\n",
    "%time z = x*y"
   ]
  },
  {
   "cell_type": "code",
   "execution_count": 36,
   "metadata": {},
   "outputs": [
    {
     "ename": "OutOfMemoryError",
     "evalue": "CUDA out of memory. Tried to allocate 382.00 MiB (GPU 0; 1.83 GiB total capacity; 1.12 GiB already allocated; 300.69 MiB free; 1.12 GiB reserved in total by PyTorch) If reserved memory is >> allocated memory try setting max_split_size_mb to avoid fragmentation.  See documentation for Memory Management and PYTORCH_CUDA_ALLOC_CONF",
     "output_type": "error",
     "traceback": [
      "\u001b[0;31m---------------------------------------------------------------------------\u001b[0m",
      "\u001b[0;31mOutOfMemoryError\u001b[0m                          Traceback (most recent call last)",
      "Cell \u001b[0;32mIn[36], line 4\u001b[0m\n\u001b[1;32m      1\u001b[0m \u001b[39m# Também pode usar as seguintes formas:\u001b[39;00m\n\u001b[1;32m      2\u001b[0m device \u001b[39m=\u001b[39m torch\u001b[39m.\u001b[39mdevice(\u001b[39m\"\u001b[39m\u001b[39mcuda\u001b[39m\u001b[39m\"\u001b[39m)\n\u001b[0;32m----> 4\u001b[0m x \u001b[39m=\u001b[39m torch\u001b[39m.\u001b[39;49mrandn((\u001b[39m10000\u001b[39;49m,\u001b[39m10000\u001b[39;49m), device\u001b[39m=\u001b[39;49m\u001b[39m\"\u001b[39;49m\u001b[39mcuda\u001b[39;49m\u001b[39m\"\u001b[39;49m)\n\u001b[1;32m      5\u001b[0m x \u001b[39m=\u001b[39m x\u001b[39m.\u001b[39mcuda()\n\u001b[1;32m      6\u001b[0m x \u001b[39m=\u001b[39m x\u001b[39m.\u001b[39mto(\u001b[39m\"\u001b[39m\u001b[39mcuda\u001b[39m\u001b[39m\"\u001b[39m)\n",
      "\u001b[0;31mOutOfMemoryError\u001b[0m: CUDA out of memory. Tried to allocate 382.00 MiB (GPU 0; 1.83 GiB total capacity; 1.12 GiB already allocated; 300.69 MiB free; 1.12 GiB reserved in total by PyTorch) If reserved memory is >> allocated memory try setting max_split_size_mb to avoid fragmentation.  See documentation for Memory Management and PYTORCH_CUDA_ALLOC_CONF"
     ]
    }
   ],
   "source": [
    "# Também pode usar as seguintes formas:\n",
    "device = torch.device(\"cuda\")\n",
    "\n",
    "x = torch.randn((10000,10000), device=\"cuda\")\n",
    "x = x.cuda()\n",
    "x = x.to(\"cuda\")\n",
    "x = x.to(device)\n"
   ]
  },
  {
   "attachments": {},
   "cell_type": "markdown",
   "metadata": {},
   "source": [
    "<font color=\"orange\">E para voltar a `cpu`, fazemos:</font>"
   ]
  },
  {
   "cell_type": "code",
   "execution_count": null,
   "metadata": {},
   "outputs": [],
   "source": [
    "device = torch.device(\"cpu\")\n",
    "\n",
    "x = x.cpu()\n",
    "x = x.to(\"cpu\")\n",
    "x = x.to(device)"
   ]
  },
  {
   "attachments": {},
   "cell_type": "markdown",
   "metadata": {},
   "source": [
    "# Re-implementando a nossa `MLP`"
   ]
  },
  {
   "cell_type": "code",
   "execution_count": null,
   "metadata": {},
   "outputs": [],
   "source": [
    "%conda install scikit-learn --yes"
   ]
  },
  {
   "cell_type": "code",
   "execution_count": 1,
   "metadata": {},
   "outputs": [
    {
     "name": "stdout",
     "output_type": "stream",
     "text": [
      "Python implementation: CPython\n",
      "Python version       : 3.9.13\n",
      "IPython version      : 8.13.2\n",
      "\n",
      "numpy       : 1.24.3\n",
      "pandas      : 2.0.1\n",
      "matplotlib  : 3.7.1\n",
      "requests    : 2.31.0\n",
      "torch       : 2.0.1\n",
      "scikit-learn: 1.2.2\n",
      "\n"
     ]
    }
   ],
   "source": [
    "%load_ext watermark \n",
    "%watermark -v -p numpy,pandas,matplotlib,requests,torch,scikit-learn"
   ]
  },
  {
   "cell_type": "code",
   "execution_count": 22,
   "metadata": {},
   "outputs": [
    {
     "name": "stderr",
     "output_type": "stream",
     "text": [
      "/home/eddygiusepe/miniconda3/envs/LightningAI/lib/python3.9/site-packages/sklearn/datasets/_openml.py:968: FutureWarning: The default value of `parser` will change from `'liac-arff'` to `'auto'` in 1.4. You can set `parser='auto'` to silence this warning. Therefore, an `ImportError` will be raised from 1.4 if the dataset is dense and pandas is not installed. Note that the pandas parser may return different data types. See the Notes Section in fetch_openml's API doc for details.\n",
      "  warn(\n"
     ]
    },
    {
     "data": {
      "text/plain": [
       "((70000, 784), (70000,))"
      ]
     },
     "execution_count": 22,
     "metadata": {},
     "output_type": "execute_result"
    }
   ],
   "source": [
    "from sklearn.datasets import fetch_openml\n",
    "\n",
    "mnist = fetch_openml('mnist_784', version=1)\n",
    "X, Y = mnist[\"data\"], mnist[\"target\"]\n",
    "\n",
    "X.shape, Y.shape\n"
   ]
  },
  {
   "cell_type": "code",
   "execution_count": 23,
   "metadata": {},
   "outputs": [
    {
     "data": {
      "text/plain": [
       "pandas.core.frame.DataFrame"
      ]
     },
     "execution_count": 23,
     "metadata": {},
     "output_type": "execute_result"
    }
   ],
   "source": [
    "type(X)"
   ]
  },
  {
   "cell_type": "code",
   "execution_count": 24,
   "metadata": {},
   "outputs": [
    {
     "data": {
      "text/plain": [
       "pandas.core.series.Series"
      ]
     },
     "execution_count": 24,
     "metadata": {},
     "output_type": "execute_result"
    }
   ],
   "source": [
    "type(Y)"
   ]
  },
  {
   "cell_type": "code",
   "execution_count": 31,
   "metadata": {},
   "outputs": [
    {
     "data": {
      "image/png": "[encoded data removed]",
      "text/plain": [
       "<Figure size 1000x400 with 15 Axes>"
      ]
     },
     "metadata": {},
     "output_type": "display_data"
    }
   ],
   "source": [
    "import numpy as np\n",
    "import matplotlib.pyplot as plt\n",
    "%matplotlib inline\n",
    "\n",
    "# Converter o DataFrame para um array NumPy\n",
    "#X = X.to_numpy()\n",
    "\n",
    "# Converter as imagens em matrizes 2D\n",
    "images = X.reshape((-1, 28, 28))\n",
    "\n",
    "# Visualizar as primeiras 10 imagens\n",
    "fig, axes = plt.subplots(3, 5, figsize=(10, 4))\n",
    "for i, ax in enumerate(axes.flat):\n",
    "    ax.imshow(images[i], cmap='gray')\n",
    "    ax.axis('off')\n",
    "    ax.set_title(Y[i])\n",
    "plt.tight_layout()\n",
    "plt.show()"
   ]
  },
  {
   "cell_type": "code",
   "execution_count": 33,
   "metadata": {},
   "outputs": [],
   "source": [
    "# Normalizando os Dados:\n",
    "\n",
    "X_train, X_test, y_train, y_test = X[:60000] / 255., X[60000:] / 255., Y[:60000].astype(int), Y[60000:].astype(int)\n"
   ]
  },
  {
   "cell_type": "code",
   "execution_count": 35,
   "metadata": {},
   "outputs": [
    {
     "data": {
      "text/plain": [
       "((60000, 784), (10000, 784), (60000,), (10000,))"
      ]
     },
     "execution_count": 35,
     "metadata": {},
     "output_type": "execute_result"
    }
   ],
   "source": [
    "\n",
    "X_train.shape, X_test.shape, y_train.shape, y_test.shape"
   ]
  },
  {
   "cell_type": "code",
   "execution_count": 39,
   "metadata": {},
   "outputs": [],
   "source": [
    "import torch\n",
    "\n",
    "# Funça de perda e Derivada:\n",
    "def softmax(x):\n",
    "    return torch.exp(x) / torch.exp(x).sum(axis=-1, keepdims=True)\n",
    "\n",
    "\n",
    "def cross_entropy(output, target):\n",
    "    logits = output[torch.arange(len(output)), target]\n",
    "    loss = - logits + torch.log(torch.sum(torch.exp(output), axis=-1))\n",
    "    loss = loss.mean()\n",
    "    return loss\n"
   ]
  },
  {
   "cell_type": "code",
   "execution_count": 45,
   "metadata": {},
   "outputs": [
    {
     "name": "stdout",
     "output_type": "stream",
     "text": [
      "Epoch 10/2000 Loss 1.64741\n",
      "Epoch 20/2000 Loss 1.30877\n",
      "Epoch 30/2000 Loss 1.09429\n",
      "Epoch 40/2000 Loss 0.92769\n",
      "Epoch 50/2000 Loss 0.81749\n",
      "Epoch 60/2000 Loss 0.73689\n",
      "Epoch 70/2000 Loss 0.67205\n",
      "Epoch 80/2000 Loss 0.62138\n",
      "Epoch 90/2000 Loss 0.58051\n",
      "Epoch 100/2000 Loss 0.54677\n",
      "Epoch 110/2000 Loss 0.51852\n",
      "Epoch 120/2000 Loss 0.49477\n",
      "Epoch 130/2000 Loss 0.47394\n",
      "Epoch 140/2000 Loss 0.45513\n",
      "Epoch 150/2000 Loss 0.43830\n",
      "Epoch 160/2000 Loss 0.42318\n",
      "Epoch 170/2000 Loss 0.40950\n",
      "Epoch 180/2000 Loss 0.39706\n",
      "Epoch 190/2000 Loss 0.38567\n",
      "Epoch 200/2000 Loss 0.37519\n",
      "Epoch 210/2000 Loss 0.36551\n",
      "Epoch 220/2000 Loss 0.35652\n",
      "Epoch 230/2000 Loss 0.34815\n",
      "Epoch 240/2000 Loss 0.34033\n",
      "Epoch 250/2000 Loss 0.33299\n",
      "Epoch 260/2000 Loss 0.32610\n",
      "Epoch 270/2000 Loss 0.31959\n",
      "Epoch 280/2000 Loss 0.31345\n",
      "Epoch 290/2000 Loss 0.30763\n",
      "Epoch 300/2000 Loss 0.30210\n",
      "Epoch 310/2000 Loss 0.29685\n",
      "Epoch 320/2000 Loss 0.29184\n",
      "Epoch 330/2000 Loss 0.28707\n",
      "Epoch 340/2000 Loss 0.28250\n",
      "Epoch 350/2000 Loss 0.27814\n",
      "Epoch 360/2000 Loss 0.27395\n",
      "Epoch 370/2000 Loss 0.26993\n",
      "Epoch 380/2000 Loss 0.26607\n",
      "Epoch 390/2000 Loss 0.26236\n",
      "Epoch 400/2000 Loss 0.25879\n",
      "Epoch 410/2000 Loss 0.25534\n",
      "Epoch 420/2000 Loss 0.25202\n",
      "Epoch 430/2000 Loss 0.24881\n",
      "Epoch 440/2000 Loss 0.24571\n",
      "Epoch 450/2000 Loss 0.24271\n",
      "Epoch 460/2000 Loss 0.23980\n",
      "Epoch 470/2000 Loss 0.23699\n",
      "Epoch 480/2000 Loss 0.23426\n",
      "Epoch 490/2000 Loss 0.23162\n",
      "Epoch 500/2000 Loss 0.22905\n",
      "Epoch 510/2000 Loss 0.22656\n",
      "Epoch 520/2000 Loss 0.22413\n",
      "Epoch 530/2000 Loss 0.22177\n",
      "Epoch 540/2000 Loss 0.21948\n",
      "Epoch 550/2000 Loss 0.21724\n",
      "Epoch 560/2000 Loss 0.21507\n",
      "Epoch 570/2000 Loss 0.21295\n",
      "Epoch 580/2000 Loss 0.21088\n",
      "Epoch 590/2000 Loss 0.20886\n",
      "Epoch 600/2000 Loss 0.20690\n",
      "Epoch 610/2000 Loss 0.20497\n",
      "Epoch 620/2000 Loss 0.20310\n",
      "Epoch 630/2000 Loss 0.20127\n",
      "Epoch 640/2000 Loss 0.19948\n",
      "Epoch 650/2000 Loss 0.19772\n",
      "Epoch 660/2000 Loss 0.19601\n",
      "Epoch 670/2000 Loss 0.19434\n",
      "Epoch 680/2000 Loss 0.19270\n",
      "Epoch 690/2000 Loss 0.19109\n",
      "Epoch 700/2000 Loss 0.18952\n",
      "Epoch 710/2000 Loss 0.18798\n",
      "Epoch 720/2000 Loss 0.18647\n",
      "Epoch 730/2000 Loss 0.18499\n",
      "Epoch 740/2000 Loss 0.18354\n",
      "Epoch 750/2000 Loss 0.18212\n",
      "Epoch 760/2000 Loss 0.18072\n",
      "Epoch 770/2000 Loss 0.17936\n",
      "Epoch 780/2000 Loss 0.17801\n",
      "Epoch 790/2000 Loss 0.17669\n",
      "Epoch 800/2000 Loss 0.17540\n",
      "Epoch 810/2000 Loss 0.17413\n",
      "Epoch 820/2000 Loss 0.17288\n",
      "Epoch 830/2000 Loss 0.17165\n",
      "Epoch 840/2000 Loss 0.17045\n",
      "Epoch 850/2000 Loss 0.16926\n",
      "Epoch 860/2000 Loss 0.16810\n",
      "Epoch 870/2000 Loss 0.16695\n",
      "Epoch 880/2000 Loss 0.16583\n",
      "Epoch 890/2000 Loss 0.16472\n",
      "Epoch 900/2000 Loss 0.16363\n",
      "Epoch 910/2000 Loss 0.16256\n",
      "Epoch 920/2000 Loss 0.16150\n",
      "Epoch 930/2000 Loss 0.16046\n",
      "Epoch 940/2000 Loss 0.15944\n",
      "Epoch 950/2000 Loss 0.15843\n",
      "Epoch 960/2000 Loss 0.15744\n",
      "Epoch 970/2000 Loss 0.15646\n",
      "Epoch 980/2000 Loss 0.15550\n",
      "Epoch 990/2000 Loss 0.15455\n",
      "Epoch 1000/2000 Loss 0.15361\n",
      "Epoch 1010/2000 Loss 0.15269\n",
      "Epoch 1020/2000 Loss 0.15178\n",
      "Epoch 1030/2000 Loss 0.15089\n",
      "Epoch 1040/2000 Loss 0.15001\n",
      "Epoch 1050/2000 Loss 0.14913\n",
      "Epoch 1060/2000 Loss 0.14828\n",
      "Epoch 1070/2000 Loss 0.14743\n",
      "Epoch 1080/2000 Loss 0.14659\n",
      "Epoch 1090/2000 Loss 0.14577\n",
      "Epoch 1100/2000 Loss 0.14495\n",
      "Epoch 1110/2000 Loss 0.14415\n",
      "Epoch 1120/2000 Loss 0.14336\n",
      "Epoch 1130/2000 Loss 0.14258\n",
      "Epoch 1140/2000 Loss 0.14180\n",
      "Epoch 1150/2000 Loss 0.14104\n",
      "Epoch 1160/2000 Loss 0.14029\n",
      "Epoch 1170/2000 Loss 0.13954\n",
      "Epoch 1180/2000 Loss 0.13881\n",
      "Epoch 1190/2000 Loss 0.13808\n",
      "Epoch 1200/2000 Loss 0.13737\n",
      "Epoch 1210/2000 Loss 0.13666\n",
      "Epoch 1220/2000 Loss 0.13596\n",
      "Epoch 1230/2000 Loss 0.13527\n",
      "Epoch 1240/2000 Loss 0.13459\n",
      "Epoch 1250/2000 Loss 0.13391\n",
      "Epoch 1260/2000 Loss 0.13324\n",
      "Epoch 1270/2000 Loss 0.13258\n",
      "Epoch 1280/2000 Loss 0.13193\n",
      "Epoch 1290/2000 Loss 0.13129\n",
      "Epoch 1300/2000 Loss 0.13065\n",
      "Epoch 1310/2000 Loss 0.13002\n",
      "Epoch 1320/2000 Loss 0.12939\n",
      "Epoch 1330/2000 Loss 0.12878\n",
      "Epoch 1340/2000 Loss 0.12817\n",
      "Epoch 1350/2000 Loss 0.12756\n",
      "Epoch 1360/2000 Loss 0.12696\n",
      "Epoch 1370/2000 Loss 0.12637\n",
      "Epoch 1380/2000 Loss 0.12579\n",
      "Epoch 1390/2000 Loss 0.12521\n",
      "Epoch 1400/2000 Loss 0.12464\n",
      "Epoch 1410/2000 Loss 0.12407\n",
      "Epoch 1420/2000 Loss 0.12351\n",
      "Epoch 1430/2000 Loss 0.12295\n",
      "Epoch 1440/2000 Loss 0.12240\n",
      "Epoch 1450/2000 Loss 0.12186\n",
      "Epoch 1460/2000 Loss 0.12132\n",
      "Epoch 1470/2000 Loss 0.12079\n",
      "Epoch 1480/2000 Loss 0.12026\n",
      "Epoch 1490/2000 Loss 0.11973\n",
      "Epoch 1500/2000 Loss 0.11922\n",
      "Epoch 1510/2000 Loss 0.11870\n",
      "Epoch 1520/2000 Loss 0.11819\n",
      "Epoch 1530/2000 Loss 0.11769\n",
      "Epoch 1540/2000 Loss 0.11719\n",
      "Epoch 1550/2000 Loss 0.11670\n",
      "Epoch 1560/2000 Loss 0.11621\n",
      "Epoch 1570/2000 Loss 0.11572\n",
      "Epoch 1580/2000 Loss 0.11524\n",
      "Epoch 1590/2000 Loss 0.11477\n",
      "Epoch 1600/2000 Loss 0.11429\n",
      "Epoch 1610/2000 Loss 0.11383\n",
      "Epoch 1620/2000 Loss 0.11336\n",
      "Epoch 1630/2000 Loss 0.11290\n",
      "Epoch 1640/2000 Loss 0.11245\n",
      "Epoch 1650/2000 Loss 0.11200\n",
      "Epoch 1660/2000 Loss 0.11155\n",
      "Epoch 1670/2000 Loss 0.11111\n",
      "Epoch 1680/2000 Loss 0.11067\n",
      "Epoch 1690/2000 Loss 0.11023\n",
      "Epoch 1700/2000 Loss 0.10980\n",
      "Epoch 1710/2000 Loss 0.10937\n",
      "Epoch 1720/2000 Loss 0.10895\n",
      "Epoch 1730/2000 Loss 0.10853\n",
      "Epoch 1740/2000 Loss 0.10811\n",
      "Epoch 1750/2000 Loss 0.10769\n",
      "Epoch 1760/2000 Loss 0.10728\n",
      "Epoch 1770/2000 Loss 0.10688\n",
      "Epoch 1780/2000 Loss 0.10647\n",
      "Epoch 1790/2000 Loss 0.10607\n",
      "Epoch 1800/2000 Loss 0.10567\n",
      "Epoch 1810/2000 Loss 0.10528\n",
      "Epoch 1820/2000 Loss 0.10489\n",
      "Epoch 1830/2000 Loss 0.10450\n",
      "Epoch 1840/2000 Loss 0.10412\n",
      "Epoch 1850/2000 Loss 0.10373\n",
      "Epoch 1860/2000 Loss 0.10336\n",
      "Epoch 1870/2000 Loss 0.10298\n",
      "Epoch 1880/2000 Loss 0.10261\n",
      "Epoch 1890/2000 Loss 0.10224\n",
      "Epoch 1900/2000 Loss 0.10187\n",
      "Epoch 1910/2000 Loss 0.10151\n",
      "Epoch 1920/2000 Loss 0.10114\n",
      "Epoch 1930/2000 Loss 0.10078\n",
      "Epoch 1940/2000 Loss 0.10043\n",
      "Epoch 1950/2000 Loss 0.10008\n",
      "Epoch 1960/2000 Loss 0.09972\n",
      "Epoch 1970/2000 Loss 0.09938\n",
      "Epoch 1980/2000 Loss 0.09903\n",
      "Epoch 1990/2000 Loss 0.09869\n",
      "Epoch 2000/2000 Loss 0.09835\n"
     ]
    }
   ],
   "source": [
    "D_in, H, D_out = 784, 100, 10\n",
    "\n",
    "# Pesos da MLP (copiamos en GPU)\n",
    "w1 = torch.tensor(np.random.normal(loc=0.0, \n",
    "          scale = np.sqrt(2/(D_in+H)), \n",
    "          size = (D_in, H)), requires_grad=True, device=\"cuda\", dtype=torch.float)\n",
    "b1 = torch.zeros(H, requires_grad=True, device=\"cuda\", dtype=torch.float)\n",
    "\n",
    "w2 = torch.tensor(np.random.normal(loc=0.0, \n",
    "          scale = np.sqrt(2/(D_out+H)), \n",
    "          size = (H, D_out)), requires_grad=True, device=\"cuda\", dtype=torch.float)\n",
    "b2 = torch.zeros(D_out, requires_grad=True, device=\"cuda\", dtype=torch.float)\n",
    "\n",
    "# Convertemos Dados a Tensores e copiamos para gpu\n",
    "X_t = torch.from_numpy(X_train).float().cuda()\n",
    "Y_t = torch.from_numpy(y_train.values).long().cuda()\n",
    "\n",
    "epochs = 2000\n",
    "lr = 0.8\n",
    "log_each = 10\n",
    "l = []\n",
    "for e in range(1, epochs+1): \n",
    "    \n",
    "    # Forward\n",
    "    h = X_t.mm(w1) + b1\n",
    "    h_relu = h.clamp(min=0) # relu\n",
    "    y_pred = h_relu.mm(w2) + b2\n",
    "\n",
    "    # Loss\n",
    "    loss = cross_entropy(y_pred, Y_t)\n",
    "    l.append(loss.item())\n",
    "\n",
    "    # Backprop (calculamos todos os Gradientes automaticamente)\n",
    "    loss.backward()\n",
    "\n",
    "    with torch.no_grad():\n",
    "        # update pesos\n",
    "        w1 -= lr * w1.grad\n",
    "        b1 -= lr * b1.grad\n",
    "        w2 -= lr * w2.grad  \n",
    "        b2 -= lr * b2.grad\n",
    "        \n",
    "        # ponemos a cero los gradientes para la siguiente iteración\n",
    "        # (sino acumularíamos gradientes)\n",
    "        w1.grad.zero_()\n",
    "        w2.grad.zero_()\n",
    "        b1.grad.zero_()\n",
    "        b2.grad.zero_()\n",
    "    \n",
    "    if not e % log_each:\n",
    "        print(f\"Epoch {e}/{epochs} Loss {np.mean(l):.5f}\")\n",
    "        "
   ]
  },
  {
   "cell_type": "code",
   "execution_count": 46,
   "metadata": {},
   "outputs": [],
   "source": [
    "def evaluate(x):\n",
    "    h = x.mm(w1) + b1\n",
    "    h_relu = h.clamp(min=0)\n",
    "    y_pred = h_relu.mm(w2) + b2\n",
    "    y_probas = softmax(y_pred)\n",
    "    return torch.argmax(y_probas, axis=1)\n"
   ]
  },
  {
   "cell_type": "code",
   "execution_count": 47,
   "metadata": {},
   "outputs": [
    {
     "data": {
      "text/plain": [
       "0.9776"
      ]
     },
     "execution_count": 47,
     "metadata": {},
     "output_type": "execute_result"
    }
   ],
   "source": [
    "from sklearn.metrics import accuracy_score\n",
    "\n",
    "y_pred = evaluate(torch.from_numpy(X_test).float().cuda())\n",
    "accuracy_score(y_test, y_pred.cpu().numpy())\n"
   ]
  },
  {
   "cell_type": "code",
   "execution_count": 82,
   "metadata": {},
   "outputs": [
    {
     "data": {
      "image/png": "[encoded data removed]",
      "text/plain": [
       "<Figure size 1000x600 with 15 Axes>"
      ]
     },
     "metadata": {},
     "output_type": "display_data"
    }
   ],
   "source": [
    "import random\n",
    "import matplotlib.pyplot as plt\n",
    "\n",
    "r, c = 3, 5\n",
    "fig = plt.figure(figsize=(2*c, 2*r))\n",
    "\n",
    "for i in range(r * c):\n",
    "    ix = random.randint(0, len(y_test) - 1)\n",
    "    img = X_test[ix]\n",
    "    y_pred = evaluate(torch.tensor([img]).float().cuda())[0].item()\n",
    "    plt.subplot(r, c, i + 1)\n",
    "    plt.imshow(img.reshape(28, 28), cmap='gray')\n",
    "    plt.axis(\"off\")\n",
    "    plt.title(f\"{y_test.iloc[ix]}/{y_pred}\", color=\"green\" if y_test.iloc[ix] == y_pred else \"red\")\n",
    "\n",
    "plt.tight_layout()\n",
    "plt.show()\n",
    "\n"
   ]
  }
 ],
 "metadata": {
  "kernelspec": {
   "display_name": "LightningAI",
   "language": "python",
   "name": "python3"
  },
  "language_info": {
   "codemirror_mode": {
    "name": "ipython",
    "version": 3
   },
   "file_extension": ".py",
   "mimetype": "text/x-python",
   "name": "python",
   "nbconvert_exporter": "python",
   "pygments_lexer": "ipython3",
   "version": "3.9.13"
  },
  "orig_nbformat": 4
 },
 "nbformat": 4,
 "nbformat_minor": 2
}
