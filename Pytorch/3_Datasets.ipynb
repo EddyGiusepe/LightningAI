{
 "cells": [
  {
   "attachments": {},
   "cell_type": "markdown",
   "metadata": {},
   "source": [
    "<h1 align=\"center\"><font color=\"yellow\">Pytorch: Datasets</font></h1>"
   ]
  },
  {
   "attachments": {},
   "cell_type": "markdown",
   "metadata": {},
   "source": [
    "<font color=\"yellow\">Data Scientist.: PhD.Eddy Giusepe Chirinos Isidro</font>"
   ]
  },
  {
   "attachments": {},
   "cell_type": "markdown",
   "metadata": {},
   "source": [
    "<font color=\"orange\">Neste script vamos a estudar como o Pytorch define nossos datasets.</font>"
   ]
  },
  {
   "cell_type": "code",
   "execution_count": null,
   "metadata": {},
   "outputs": [],
   "source": [
    "%conda install requests,matplotlib --yes"
   ]
  },
  {
   "cell_type": "code",
   "execution_count": 1,
   "metadata": {},
   "outputs": [
    {
     "name": "stdout",
     "output_type": "stream",
     "text": [
      "Python implementation: CPython\n",
      "Python version       : 3.9.13\n",
      "IPython version      : 8.13.2\n",
      "\n",
      "numpy     : 1.24.3\n",
      "pandas    : 2.0.1\n",
      "matplotlib: 3.7.1\n",
      "requests  : 2.31.0\n",
      "torch     : 2.0.1\n",
      "\n"
     ]
    }
   ],
   "source": [
    "%load_ext watermark \n",
    "%watermark -v -p numpy,pandas,matplotlib,requests,torch"
   ]
  },
  {
   "attachments": {},
   "cell_type": "markdown",
   "metadata": {},
   "source": [
    "# Iterando Tensores"
   ]
  },
  {
   "cell_type": "code",
   "execution_count": 3,
   "metadata": {},
   "outputs": [
    {
     "name": "stderr",
     "output_type": "stream",
     "text": [
      "/home/eddygiusepe/miniconda3/envs/LightningAI/lib/python3.9/site-packages/sklearn/datasets/_openml.py:968: FutureWarning: The default value of `parser` will change from `'liac-arff'` to `'auto'` in 1.4. You can set `parser='auto'` to silence this warning. Therefore, an `ImportError` will be raised from 1.4 if the dataset is dense and pandas is not installed. Note that the pandas parser may return different data types. See the Notes Section in fetch_openml's API doc for details.\n",
      "  warn(\n"
     ]
    }
   ],
   "source": [
    "import torch\n",
    "from sklearn.datasets import fetch_openml\n",
    "import numpy as np\n",
    "\n",
    "# Descarregando nosso Dataset\n",
    "mnist = fetch_openml('mnist_784', version=1)\n",
    "X, Y = mnist[\"data\"], mnist[\"target\"]\n",
    "\n",
    "# Normalizando:\n",
    "X_train, X_test, y_train, y_test = X[:60000] / 255., X[60000:] / 255., Y[:60000].astype(int), Y[60000:].astype(int)\n",
    "\n",
    "\n",
    "X_t = torch.from_numpy(X_train.values).float().cuda()\n",
    "Y_t = torch.from_numpy(y_train.values).long().cuda()\n"
   ]
  },
  {
   "cell_type": "code",
   "execution_count": 5,
   "metadata": {},
   "outputs": [],
   "source": [
    "D_in, H, D_out = 784, 100, 10\n",
    "\n",
    "model = torch.nn.Sequential(\n",
    "    torch.nn.Linear(D_in, H),\n",
    "    torch.nn.ReLU(),\n",
    "    torch.nn.Linear(H, D_out),\n",
    ").to(\"cuda\")"
   ]
  },
  {
   "cell_type": "code",
   "execution_count": 6,
   "metadata": {},
   "outputs": [],
   "source": [
    "from sklearn.metrics import accuracy_score\n",
    "\n",
    "def softmax(x):\n",
    "    return torch.exp(x) / torch.exp(x).sum(axis=-1,keepdims=True)\n",
    "\n",
    "def evaluate(x):\n",
    "    model.eval()\n",
    "    y_pred = model(x)\n",
    "    y_probas = softmax(y_pred)\n",
    "    return torch.argmax(y_probas, axis=1)"
   ]
  },
  {
   "cell_type": "code",
   "execution_count": 8,
   "metadata": {},
   "outputs": [
    {
     "name": "stdout",
     "output_type": "stream",
     "text": [
      "Epoch 10/100 Loss 0.25565\n",
      "Epoch 20/100 Loss 0.24702\n",
      "Epoch 30/100 Loss 0.23930\n",
      "Epoch 40/100 Loss 0.23329\n",
      "Epoch 50/100 Loss 0.22821\n",
      "Epoch 60/100 Loss 0.22371\n",
      "Epoch 70/100 Loss 0.21960\n",
      "Epoch 80/100 Loss 0.21579\n",
      "Epoch 90/100 Loss 0.21223\n",
      "Epoch 100/100 Loss 0.20887\n",
      "\n",
      "\u001b[93mA accuracy é: \u001b[0m\n"
     ]
    },
    {
     "data": {
      "text/plain": [
       "0.9493"
      ]
     },
     "execution_count": 8,
     "metadata": {},
     "output_type": "execute_result"
    }
   ],
   "source": [
    "criterion = torch.nn.CrossEntropyLoss()\n",
    "optimizer = torch.optim.SGD(model.parameters(), lr=0.8)\n",
    "\n",
    "\n",
    "epochs = 100\n",
    "log_each = 10\n",
    "l = []\n",
    "model.train()\n",
    "for e in range(1, epochs+1): \n",
    "    \n",
    "    # forward\n",
    "    y_pred = model(X_t)\n",
    "\n",
    "    # loss\n",
    "    loss = criterion(y_pred, Y_t)\n",
    "    l.append(loss.item())\n",
    "    \n",
    "    # ponemos a cero los gradientes\n",
    "    optimizer.zero_grad()\n",
    "\n",
    "    # Backprop (calculamos todos los gradientes automáticamente)\n",
    "    loss.backward()\n",
    "\n",
    "    # update de los pesos\n",
    "    optimizer.step()\n",
    "    \n",
    "    if not e % log_each:\n",
    "        print(f\"Epoch {e}/{epochs} Loss {np.mean(l):.5f}\")\n",
    "        \n",
    "y_pred = evaluate(torch.from_numpy(X_test.values).float().cuda())\n",
    "\n",
    "print(\"\")\n",
    "print(\"\\033[93mA accuracy é: \\033[0m\")\n",
    "accuracy_score(y_test, y_pred.cpu().numpy())"
   ]
  },
  {
   "attachments": {},
   "cell_type": "markdown",
   "metadata": {},
   "source": [
    "# Iterando por Batches"
   ]
  },
  {
   "attachments": {},
   "cell_type": "markdown",
   "metadata": {},
   "source": [
    "<font color=\"orange\">Na implementação anterior estamos Otimizando nosso modelo com o Algoritmo de `batch gradient descent`, na qual utilizamos todos nossos Dados em cada passo de Otimização. No entanto, um algoritmo que pode convergir mais rápido (e única opção se nosso dataset é tão grande que não cabe em memória) é o de `mini-batch gradient descent`.</font>"
   ]
  },
  {
   "cell_type": "code",
   "execution_count": 11,
   "metadata": {},
   "outputs": [
    {
     "name": "stdout",
     "output_type": "stream",
     "text": [
      "Epoch 1/100 Loss 0.29843\n",
      "Epoch 2/100 Loss 0.20763\n",
      "Epoch 3/100 Loss 0.16669\n",
      "Epoch 4/100 Loss 0.14133\n",
      "Epoch 5/100 Loss 0.12349\n",
      "Epoch 6/100 Loss 0.10985\n",
      "Epoch 7/100 Loss 0.09893\n",
      "Epoch 8/100 Loss 0.08992\n",
      "Epoch 9/100 Loss 0.08235\n",
      "Epoch 10/100 Loss 0.07595\n",
      "Epoch 11/100 Loss 0.07033\n",
      "Epoch 12/100 Loss 0.06549\n",
      "Epoch 13/100 Loss 0.06117\n",
      "Epoch 14/100 Loss 0.05732\n",
      "Epoch 15/100 Loss 0.05389\n",
      "Epoch 16/100 Loss 0.05081\n",
      "Epoch 17/100 Loss 0.04805\n",
      "Epoch 18/100 Loss 0.04556\n",
      "Epoch 19/100 Loss 0.04331\n",
      "Epoch 20/100 Loss 0.04126\n",
      "Epoch 21/100 Loss 0.03939\n",
      "Epoch 22/100 Loss 0.03768\n",
      "Epoch 23/100 Loss 0.03612\n",
      "Epoch 24/100 Loss 0.03467\n",
      "Epoch 25/100 Loss 0.03334\n",
      "Epoch 26/100 Loss 0.03210\n",
      "Epoch 27/100 Loss 0.03096\n",
      "Epoch 28/100 Loss 0.02989\n",
      "Epoch 29/100 Loss 0.02889\n",
      "Epoch 30/100 Loss 0.02796\n",
      "Epoch 31/100 Loss 0.02709\n",
      "Epoch 32/100 Loss 0.02627\n",
      "Epoch 33/100 Loss 0.02549\n",
      "Epoch 34/100 Loss 0.02477\n",
      "Epoch 35/100 Loss 0.02408\n",
      "Epoch 36/100 Loss 0.02343\n",
      "Epoch 37/100 Loss 0.02281\n",
      "Epoch 38/100 Loss 0.02223\n",
      "Epoch 39/100 Loss 0.02167\n",
      "Epoch 40/100 Loss 0.02114\n",
      "Epoch 41/100 Loss 0.02064\n",
      "Epoch 42/100 Loss 0.02016\n",
      "Epoch 43/100 Loss 0.01971\n",
      "Epoch 44/100 Loss 0.01927\n",
      "Epoch 45/100 Loss 0.01885\n",
      "Epoch 46/100 Loss 0.01845\n",
      "Epoch 47/100 Loss 0.01807\n",
      "Epoch 48/100 Loss 0.01770\n",
      "Epoch 49/100 Loss 0.01735\n",
      "Epoch 50/100 Loss 0.01701\n",
      "Epoch 51/100 Loss 0.01668\n",
      "Epoch 52/100 Loss 0.01637\n",
      "Epoch 53/100 Loss 0.01607\n",
      "Epoch 54/100 Loss 0.01578\n",
      "Epoch 55/100 Loss 0.01550\n",
      "Epoch 56/100 Loss 0.01523\n",
      "Epoch 57/100 Loss 0.01497\n",
      "Epoch 58/100 Loss 0.01471\n",
      "Epoch 59/100 Loss 0.01447\n",
      "Epoch 60/100 Loss 0.01423\n",
      "Epoch 61/100 Loss 0.01400\n",
      "Epoch 62/100 Loss 0.01378\n",
      "Epoch 63/100 Loss 0.01357\n",
      "Epoch 64/100 Loss 0.01336\n",
      "Epoch 65/100 Loss 0.01316\n",
      "Epoch 66/100 Loss 0.01297\n",
      "Epoch 67/100 Loss 0.01278\n",
      "Epoch 68/100 Loss 0.01259\n",
      "Epoch 69/100 Loss 0.01241\n",
      "Epoch 70/100 Loss 0.01224\n",
      "Epoch 71/100 Loss 0.01207\n",
      "Epoch 72/100 Loss 0.01191\n",
      "Epoch 73/100 Loss 0.01175\n",
      "Epoch 74/100 Loss 0.01159\n",
      "Epoch 75/100 Loss 0.01144\n",
      "Epoch 76/100 Loss 0.01129\n",
      "Epoch 77/100 Loss 0.01115\n",
      "Epoch 78/100 Loss 0.01101\n",
      "Epoch 79/100 Loss 0.01087\n",
      "Epoch 80/100 Loss 0.01074\n",
      "Epoch 81/100 Loss 0.01061\n",
      "Epoch 82/100 Loss 0.01048\n",
      "Epoch 83/100 Loss 0.01036\n",
      "Epoch 84/100 Loss 0.01024\n",
      "Epoch 85/100 Loss 0.01012\n",
      "Epoch 86/100 Loss 0.01000\n",
      "Epoch 87/100 Loss 0.00989\n",
      "Epoch 88/100 Loss 0.00978\n",
      "Epoch 89/100 Loss 0.00967\n",
      "Epoch 90/100 Loss 0.00957\n",
      "Epoch 91/100 Loss 0.00946\n",
      "Epoch 92/100 Loss 0.00936\n",
      "Epoch 93/100 Loss 0.00926\n",
      "Epoch 94/100 Loss 0.00917\n",
      "Epoch 95/100 Loss 0.00907\n",
      "Epoch 96/100 Loss 0.00898\n",
      "Epoch 97/100 Loss 0.00889\n",
      "Epoch 98/100 Loss 0.00880\n",
      "Epoch 99/100 Loss 0.00871\n",
      "Epoch 100/100 Loss 0.00863\n",
      "\n",
      "\u001b[93mA accuracy é: \u001b[0m\n"
     ]
    },
    {
     "data": {
      "text/plain": [
       "0.9798"
      ]
     },
     "execution_count": 11,
     "metadata": {},
     "output_type": "execute_result"
    }
   ],
   "source": [
    "D_in, H, D_out = 784, 100, 10\n",
    "\n",
    "model = torch.nn.Sequential(\n",
    "    torch.nn.Linear(D_in, H),\n",
    "    torch.nn.ReLU(),\n",
    "    torch.nn.Linear(H, D_out),\n",
    ").to(\"cuda\")\n",
    "\n",
    "criterion = torch.nn.CrossEntropyLoss()\n",
    "optimizer = torch.optim.SGD(model.parameters(), lr=0.8)\n",
    "\n",
    "epochs = 100\n",
    "batch_size = 100\n",
    "log_each = 1\n",
    "l = []\n",
    "model.train()\n",
    "batches = len(X_t) // batch_size\n",
    "for e in range(1, epochs+1): \n",
    "    \n",
    "    _l = []\n",
    "    # Iteramos por batches\n",
    "    for b in range(batches):\n",
    "        x_b = X_t[b*batch_size:(b+1)*batch_size]\n",
    "        y_b = Y_t[b*batch_size:(b+1)*batch_size]\n",
    "        \n",
    "        # forward\n",
    "        y_pred = model(x_b)\n",
    "\n",
    "        # loss\n",
    "        loss = criterion(y_pred, y_b)\n",
    "        _l.append(loss.item())\n",
    "\n",
    "        # ponemos a cero los gradientes\n",
    "        optimizer.zero_grad()\n",
    "\n",
    "        # Backprop (calculamos todos los gradientes automáticamente)\n",
    "        loss.backward()\n",
    "\n",
    "        # update de los pesos\n",
    "        optimizer.step()\n",
    "    \n",
    "    l.append(np.mean(_l))\n",
    "    if not e % log_each:\n",
    "        print(f\"Epoch {e}/{epochs} Loss {np.mean(l):.5f}\")\n",
    "        \n",
    "y_pred = evaluate(torch.from_numpy(X_test.values).float().cuda())\n",
    "\n",
    "print(\"\")\n",
    "print(\"\\033[93mA accuracy é: \\033[0m\")\n",
    "accuracy_score(y_test, y_pred.cpu().numpy())"
   ]
  },
  {
   "attachments": {},
   "cell_type": "markdown",
   "metadata": {},
   "source": [
    "Si bien esta implementación es correcta y funcional, dependiendo de nuestros datos puede llegar a complicarse mucho (por ejemplo, si necesitamos cargar muchas imágenes a las cuales queremos aplicar transformaciones, juntar en batches, etc...). Además, es común reutilizar la lógica para cargar nuestros datos no sólo para entrenar la red, si no para generar predicciones. Este hecho motiva el uso de las clases especiales que `Pytorch` nos ofrece para ello."
   ]
  },
  {
   "cell_type": "code",
   "execution_count": null,
   "metadata": {},
   "outputs": [],
   "source": []
  }
 ],
 "metadata": {
  "kernelspec": {
   "display_name": "LightningAI",
   "language": "python",
   "name": "python3"
  },
  "language_info": {
   "codemirror_mode": {
    "name": "ipython",
    "version": 3
   },
   "file_extension": ".py",
   "mimetype": "text/x-python",
   "name": "python",
   "nbconvert_exporter": "python",
   "pygments_lexer": "ipython3",
   "version": "3.9.13"
  },
  "orig_nbformat": 4
 },
 "nbformat": 4,
 "nbformat_minor": 2
}
